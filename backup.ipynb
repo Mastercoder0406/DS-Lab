{
  "cells": [
    {
      "cell_type": "markdown",
      "metadata": {
        "colab_type": "text",
        "id": "view-in-github"
      },
      "source": [
        "<a href=\"https://colab.research.google.com/github/cdodiya/Mental-Health-Prediction-using-Machine-Learning-Algorithms/blob/main/MentalHealthPredictionUsingMachineLearningAlgorithms.ipynb\" target=\"_parent\"><img src=\"https://colab.research.google.com/assets/colab-badge.svg\" alt=\"Open In Colab\"/></a>"
      ]
    },
    {
      "cell_type": "markdown",
      "metadata": {
        "id": "HKU7gCyrUL1J"
      },
      "source": [
        "#Library and Data Loading"
      ]
    },
    {
      "cell_type": "code",
      "execution_count": null,
      "metadata": {
        "colab": {
          "base_uri": "https://localhost:8080/"
        },
        "id": "JaSY8PmhMoK8",
        "outputId": "0fb2dd0a-52de-498a-b990-2231dd39f006"
      },
      "outputs": [],
      "source": [
        "# import numpy as np\n",
        "# import pandas as pd\n",
        "# import matplotlib.pyplot as plt\n",
        "# import seaborn as sns\n",
        "\n",
        "# from scipy import stats\n",
        "# from scipy.stats import randint\n",
        "\n",
        "# # prep\n",
        "# from sklearn.model_selection import train_test_split\n",
        "# from sklearn import preprocessing\n",
        "# from sklearn.datasets import make_classification\n",
        "# from sklearn.preprocessing import binarize, LabelEncoder, MinMaxScaler\n",
        "\n",
        "# # models\n",
        "# from sklearn.linear_model import LogisticRegression\n",
        "# from sklearn.tree import DecisionTreeClassifier\n",
        "# from sklearn.ensemble import RandomForestClassifier, ExtraTreesClassifier\n",
        "\n",
        "# # Validation libraries\n",
        "# from sklearn import metrics\n",
        "# from sklearn.metrics import accuracy_score, mean_squared_error, precision_recall_curve\n",
        "# from sklearn.model_selection import cross_val_score\n",
        "\n",
        "# #Neural Network\n",
        "# from sklearn.neural_network import MLPClassifier\n",
        "# from sklearn.model_selection import RandomizedSearchCV\n",
        "\n",
        "# #Bagging\n",
        "# from sklearn.ensemble import BaggingClassifier, AdaBoostClassifier\n",
        "# from sklearn.neighbors import KNeighborsClassifier\n",
        "\n",
        "# #Naive bayes\n",
        "# from sklearn.naive_bayes import GaussianNB \n",
        "\n",
        "# #Stacking\n",
        "# from mlxtend.classifier import StackingClassifier"
      ]
    },
    {
      "cell_type": "code",
      "execution_count": 1,
      "metadata": {},
      "outputs": [],
      "source": [
        "import numpy as np\n",
        "import pandas as pd\n",
        "import matplotlib.pyplot as plt\n",
        "import seaborn as sns\n",
        "\n",
        "from scipy import stats\n",
        "from scipy.stats import randint\n",
        "\n",
        "# prep\n",
        "from sklearn.model_selection import train_test_split\n",
        "from sklearn import preprocessing\n",
        "from sklearn.datasets import make_classification\n",
        "from sklearn.preprocessing import binarize, LabelEncoder, MinMaxScaler\n",
        "\n",
        "# models\n",
        "from sklearn.linear_model import LogisticRegression\n",
        "from sklearn.tree import DecisionTreeClassifier\n",
        "from sklearn.ensemble import RandomForestClassifier, ExtraTreesClassifier\n",
        "\n",
        "# Validation libraries\n",
        "from sklearn import metrics\n",
        "from sklearn.metrics import accuracy_score, mean_squared_error, precision_recall_curve\n",
        "from sklearn.model_selection import cross_val_score\n",
        "\n",
        "#Neural Network\n",
        "from sklearn.neural_network import MLPClassifier\n",
        "from sklearn.model_selection import RandomizedSearchCV\n",
        "\n",
        "#Bagging\n",
        "from sklearn.ensemble import BaggingClassifier, AdaBoostClassifier\n",
        "from sklearn.neighbors import KNeighborsClassifier\n",
        "\n",
        "#Naive bayes\n",
        "from sklearn.naive_bayes import GaussianNB \n",
        "\n",
        "#Stacking\n",
        "from mlxtend.classifier import StackingClassifier"
      ]
    },
    {
      "cell_type": "code",
      "execution_count": null,
      "metadata": {
        "colab": {
          "base_uri": "https://localhost:8080/",
          "height": 72,
          "resources": {
            "http://localhost:8080/nbextensions/google.colab/files.js": {
              "data": "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",
              "headers": [
                [
                  "content-type",
                  "application/javascript"
                ]
              ],
              "ok": true,
              "status": 200,
              "status_text": ""
            }
          }
        },
        "id": "5XbrHhtLU8B4",
        "outputId": "f7d7f84a-4ee3-4868-bd15-004788032f69"
      },
      "outputs": [],
      "source": [
        "# from google.colab import files\n",
        "# uploaded = files.upload()"
      ]
    },
    {
      "cell_type": "code",
      "execution_count": 2,
      "metadata": {
        "colab": {
          "base_uri": "https://localhost:8080/"
        },
        "id": "KIVsuSklXTWM",
        "outputId": "50f0e7c2-0a35-4ea7-a0e2-72fcbbde9d0e"
      },
      "outputs": [
        {
          "name": "stdout",
          "output_type": "stream",
          "text": [
            "(1259, 27)\n",
            "                Age\n",
            "count  1.259000e+03\n",
            "mean   7.942815e+07\n",
            "std    2.818299e+09\n",
            "min   -1.726000e+03\n",
            "25%    2.700000e+01\n",
            "50%    3.100000e+01\n",
            "75%    3.600000e+01\n",
            "max    1.000000e+11\n",
            "<class 'pandas.core.frame.DataFrame'>\n",
            "RangeIndex: 1259 entries, 0 to 1258\n",
            "Data columns (total 27 columns):\n",
            " #   Column                     Non-Null Count  Dtype \n",
            "---  ------                     --------------  ----- \n",
            " 0   Timestamp                  1259 non-null   object\n",
            " 1   Age                        1259 non-null   int64 \n",
            " 2   Gender                     1259 non-null   object\n",
            " 3   Country                    1259 non-null   object\n",
            " 4   state                      744 non-null    object\n",
            " 5   self_employed              1241 non-null   object\n",
            " 6   family_history             1259 non-null   object\n",
            " 7   treatment                  1259 non-null   object\n",
            " 8   work_interfere             995 non-null    object\n",
            " 9   no_employees               1259 non-null   object\n",
            " 10  remote_work                1259 non-null   object\n",
            " 11  tech_company               1259 non-null   object\n",
            " 12  benefits                   1259 non-null   object\n",
            " 13  care_options               1259 non-null   object\n",
            " 14  wellness_program           1259 non-null   object\n",
            " 15  seek_help                  1259 non-null   object\n",
            " 16  anonymity                  1259 non-null   object\n",
            " 17  leave                      1259 non-null   object\n",
            " 18  mental_health_consequence  1259 non-null   object\n",
            " 19  phys_health_consequence    1259 non-null   object\n",
            " 20  coworkers                  1259 non-null   object\n",
            " 21  supervisor                 1259 non-null   object\n",
            " 22  mental_health_interview    1259 non-null   object\n",
            " 23  phys_health_interview      1259 non-null   object\n",
            " 24  mental_vs_physical         1259 non-null   object\n",
            " 25  obs_consequence            1259 non-null   object\n",
            " 26  comments                   164 non-null    object\n",
            "dtypes: int64(1), object(26)\n",
            "memory usage: 265.7+ KB\n",
            "None\n"
          ]
        }
      ],
      "source": [
        "train_df = pd.read_csv('survey.csv')\n",
        "print(train_df.shape)\n",
        "print(train_df.describe())\n",
        "print(train_df.info())"
      ]
    },
    {
      "cell_type": "markdown",
      "metadata": {
        "id": "ZPKx4y5QX5by"
      },
      "source": [
        "#Data Cleaning"
      ]
    },
    {
      "cell_type": "code",
      "execution_count": null,
      "metadata": {
        "colab": {
          "base_uri": "https://localhost:8080/"
        },
        "id": "nGGtUHo5XzvX",
        "outputId": "3747df08-d077-483a-d33e-0a28aa55dd83"
      },
      "outputs": [
        {
          "name": "stdout",
          "output_type": "stream",
          "text": [
            "                           Total   Percent\n",
            "comments                    1095  0.869738\n",
            "state                        515  0.409055\n",
            "work_interfere               264  0.209690\n",
            "self_employed                 18  0.014297\n",
            "seek_help                      0  0.000000\n",
            "obs_consequence                0  0.000000\n",
            "mental_vs_physical             0  0.000000\n",
            "phys_health_interview          0  0.000000\n",
            "mental_health_interview        0  0.000000\n",
            "supervisor                     0  0.000000\n",
            "coworkers                      0  0.000000\n",
            "phys_health_consequence        0  0.000000\n",
            "mental_health_consequence      0  0.000000\n",
            "leave                          0  0.000000\n",
            "anonymity                      0  0.000000\n",
            "Timestamp                      0  0.000000\n",
            "wellness_program               0  0.000000\n",
            "Age                            0  0.000000\n",
            "benefits                       0  0.000000\n",
            "tech_company                   0  0.000000\n",
            "remote_work                    0  0.000000\n",
            "no_employees                   0  0.000000\n",
            "treatment                      0  0.000000\n",
            "family_history                 0  0.000000\n",
            "Country                        0  0.000000\n",
            "Gender                         0  0.000000\n",
            "care_options                   0  0.000000\n"
          ]
        }
      ],
      "source": [
        "#missing data\n",
        "total = train_df.isnull().sum().sort_values(ascending=False)#sorts the missing values coloums in descending order\n",
        "percent = (train_df.isnull().sum()/train_df.isnull().count()).sort_values(ascending=False)\n",
        "missing_data = pd.concat([total, percent], axis=1, keys=['Total', 'Percent'])# creates new data frame\n",
        "missing_data.head(20)\n",
        "print(missing_data)\n",
        "\n",
        "train_df.isnull().sum()# gives total number of null values in each coloum\n",
        "# print(percent) #for each column separate value "
      ]
    },
    {
      "cell_type": "code",
      "execution_count": null,
      "metadata": {
        "colab": {
          "base_uri": "https://localhost:8080/",
          "height": 309
        },
        "id": "EZL7prT6X-7T",
        "outputId": "9997402c-1832-4170-bf9c-a0d070f8108b"
      },
      "outputs": [
        {
          "data": {
            "application/vnd.microsoft.datawrangler.viewer.v0+json": {
              "columns": [
                {
                  "name": "index",
                  "rawType": "int64",
                  "type": "integer"
                },
                {
                  "name": "Age",
                  "rawType": "int64",
                  "type": "integer"
                },
                {
                  "name": "Gender",
                  "rawType": "object",
                  "type": "string"
                },
                {
                  "name": "Country",
                  "rawType": "object",
                  "type": "string"
                },
                {
                  "name": "self_employed",
                  "rawType": "object",
                  "type": "unknown"
                },
                {
                  "name": "family_history",
                  "rawType": "object",
                  "type": "string"
                },
                {
                  "name": "treatment",
                  "rawType": "object",
                  "type": "string"
                },
                {
                  "name": "work_interfere",
                  "rawType": "object",
                  "type": "string"
                },
                {
                  "name": "no_employees",
                  "rawType": "object",
                  "type": "string"
                },
                {
                  "name": "remote_work",
                  "rawType": "object",
                  "type": "string"
                },
                {
                  "name": "tech_company",
                  "rawType": "object",
                  "type": "string"
                },
                {
                  "name": "benefits",
                  "rawType": "object",
                  "type": "string"
                },
                {
                  "name": "care_options",
                  "rawType": "object",
                  "type": "string"
                },
                {
                  "name": "wellness_program",
                  "rawType": "object",
                  "type": "string"
                },
                {
                  "name": "seek_help",
                  "rawType": "object",
                  "type": "string"
                },
                {
                  "name": "anonymity",
                  "rawType": "object",
                  "type": "string"
                },
                {
                  "name": "leave",
                  "rawType": "object",
                  "type": "string"
                },
                {
                  "name": "mental_health_consequence",
                  "rawType": "object",
                  "type": "string"
                },
                {
                  "name": "phys_health_consequence",
                  "rawType": "object",
                  "type": "string"
                },
                {
                  "name": "coworkers",
                  "rawType": "object",
                  "type": "string"
                },
                {
                  "name": "supervisor",
                  "rawType": "object",
                  "type": "string"
                },
                {
                  "name": "mental_health_interview",
                  "rawType": "object",
                  "type": "string"
                },
                {
                  "name": "phys_health_interview",
                  "rawType": "object",
                  "type": "string"
                },
                {
                  "name": "mental_vs_physical",
                  "rawType": "object",
                  "type": "string"
                },
                {
                  "name": "obs_consequence",
                  "rawType": "object",
                  "type": "string"
                }
              ],
              "conversionMethod": "pd.DataFrame",
              "ref": "b340824b-ab75-4bc2-930b-7bf2199f7899",
              "rows": [
                [
                  "0",
                  "37",
                  "Female",
                  "United States",
                  null,
                  "No",
                  "Yes",
                  "Often",
                  "6-25",
                  "No",
                  "Yes",
                  "Yes",
                  "Not sure",
                  "No",
                  "Yes",
                  "Yes",
                  "Somewhat easy",
                  "No",
                  "No",
                  "Some of them",
                  "Yes",
                  "No",
                  "Maybe",
                  "Yes",
                  "No"
                ],
                [
                  "1",
                  "44",
                  "M",
                  "United States",
                  null,
                  "No",
                  "No",
                  "Rarely",
                  "More than 1000",
                  "No",
                  "No",
                  "Don't know",
                  "No",
                  "Don't know",
                  "Don't know",
                  "Don't know",
                  "Don't know",
                  "Maybe",
                  "No",
                  "No",
                  "No",
                  "No",
                  "No",
                  "Don't know",
                  "No"
                ],
                [
                  "2",
                  "32",
                  "Male",
                  "Canada",
                  null,
                  "No",
                  "No",
                  "Rarely",
                  "6-25",
                  "No",
                  "Yes",
                  "No",
                  "No",
                  "No",
                  "No",
                  "Don't know",
                  "Somewhat difficult",
                  "No",
                  "No",
                  "Yes",
                  "Yes",
                  "Yes",
                  "Yes",
                  "No",
                  "No"
                ],
                [
                  "3",
                  "31",
                  "Male",
                  "United Kingdom",
                  null,
                  "Yes",
                  "Yes",
                  "Often",
                  "26-100",
                  "No",
                  "Yes",
                  "No",
                  "Yes",
                  "No",
                  "No",
                  "No",
                  "Somewhat difficult",
                  "Yes",
                  "Yes",
                  "Some of them",
                  "No",
                  "Maybe",
                  "Maybe",
                  "No",
                  "Yes"
                ],
                [
                  "4",
                  "31",
                  "Male",
                  "United States",
                  null,
                  "No",
                  "No",
                  "Never",
                  "100-500",
                  "Yes",
                  "Yes",
                  "Yes",
                  "No",
                  "Don't know",
                  "Don't know",
                  "Don't know",
                  "Don't know",
                  "No",
                  "No",
                  "Some of them",
                  "Yes",
                  "Yes",
                  "Yes",
                  "Don't know",
                  "No"
                ]
              ],
              "shape": {
                "columns": 24,
                "rows": 5
              }
            },
            "text/html": [
              "<div>\n",
              "<style scoped>\n",
              "    .dataframe tbody tr th:only-of-type {\n",
              "        vertical-align: middle;\n",
              "    }\n",
              "\n",
              "    .dataframe tbody tr th {\n",
              "        vertical-align: top;\n",
              "    }\n",
              "\n",
              "    .dataframe thead th {\n",
              "        text-align: right;\n",
              "    }\n",
              "</style>\n",
              "<table border=\"1\" class=\"dataframe\">\n",
              "  <thead>\n",
              "    <tr style=\"text-align: right;\">\n",
              "      <th></th>\n",
              "      <th>Age</th>\n",
              "      <th>Gender</th>\n",
              "      <th>Country</th>\n",
              "      <th>self_employed</th>\n",
              "      <th>family_history</th>\n",
              "      <th>treatment</th>\n",
              "      <th>work_interfere</th>\n",
              "      <th>no_employees</th>\n",
              "      <th>remote_work</th>\n",
              "      <th>tech_company</th>\n",
              "      <th>...</th>\n",
              "      <th>anonymity</th>\n",
              "      <th>leave</th>\n",
              "      <th>mental_health_consequence</th>\n",
              "      <th>phys_health_consequence</th>\n",
              "      <th>coworkers</th>\n",
              "      <th>supervisor</th>\n",
              "      <th>mental_health_interview</th>\n",
              "      <th>phys_health_interview</th>\n",
              "      <th>mental_vs_physical</th>\n",
              "      <th>obs_consequence</th>\n",
              "    </tr>\n",
              "  </thead>\n",
              "  <tbody>\n",
              "    <tr>\n",
              "      <th>0</th>\n",
              "      <td>37</td>\n",
              "      <td>Female</td>\n",
              "      <td>United States</td>\n",
              "      <td>NaN</td>\n",
              "      <td>No</td>\n",
              "      <td>Yes</td>\n",
              "      <td>Often</td>\n",
              "      <td>6-25</td>\n",
              "      <td>No</td>\n",
              "      <td>Yes</td>\n",
              "      <td>...</td>\n",
              "      <td>Yes</td>\n",
              "      <td>Somewhat easy</td>\n",
              "      <td>No</td>\n",
              "      <td>No</td>\n",
              "      <td>Some of them</td>\n",
              "      <td>Yes</td>\n",
              "      <td>No</td>\n",
              "      <td>Maybe</td>\n",
              "      <td>Yes</td>\n",
              "      <td>No</td>\n",
              "    </tr>\n",
              "    <tr>\n",
              "      <th>1</th>\n",
              "      <td>44</td>\n",
              "      <td>M</td>\n",
              "      <td>United States</td>\n",
              "      <td>NaN</td>\n",
              "      <td>No</td>\n",
              "      <td>No</td>\n",
              "      <td>Rarely</td>\n",
              "      <td>More than 1000</td>\n",
              "      <td>No</td>\n",
              "      <td>No</td>\n",
              "      <td>...</td>\n",
              "      <td>Don't know</td>\n",
              "      <td>Don't know</td>\n",
              "      <td>Maybe</td>\n",
              "      <td>No</td>\n",
              "      <td>No</td>\n",
              "      <td>No</td>\n",
              "      <td>No</td>\n",
              "      <td>No</td>\n",
              "      <td>Don't know</td>\n",
              "      <td>No</td>\n",
              "    </tr>\n",
              "    <tr>\n",
              "      <th>2</th>\n",
              "      <td>32</td>\n",
              "      <td>Male</td>\n",
              "      <td>Canada</td>\n",
              "      <td>NaN</td>\n",
              "      <td>No</td>\n",
              "      <td>No</td>\n",
              "      <td>Rarely</td>\n",
              "      <td>6-25</td>\n",
              "      <td>No</td>\n",
              "      <td>Yes</td>\n",
              "      <td>...</td>\n",
              "      <td>Don't know</td>\n",
              "      <td>Somewhat difficult</td>\n",
              "      <td>No</td>\n",
              "      <td>No</td>\n",
              "      <td>Yes</td>\n",
              "      <td>Yes</td>\n",
              "      <td>Yes</td>\n",
              "      <td>Yes</td>\n",
              "      <td>No</td>\n",
              "      <td>No</td>\n",
              "    </tr>\n",
              "    <tr>\n",
              "      <th>3</th>\n",
              "      <td>31</td>\n",
              "      <td>Male</td>\n",
              "      <td>United Kingdom</td>\n",
              "      <td>NaN</td>\n",
              "      <td>Yes</td>\n",
              "      <td>Yes</td>\n",
              "      <td>Often</td>\n",
              "      <td>26-100</td>\n",
              "      <td>No</td>\n",
              "      <td>Yes</td>\n",
              "      <td>...</td>\n",
              "      <td>No</td>\n",
              "      <td>Somewhat difficult</td>\n",
              "      <td>Yes</td>\n",
              "      <td>Yes</td>\n",
              "      <td>Some of them</td>\n",
              "      <td>No</td>\n",
              "      <td>Maybe</td>\n",
              "      <td>Maybe</td>\n",
              "      <td>No</td>\n",
              "      <td>Yes</td>\n",
              "    </tr>\n",
              "    <tr>\n",
              "      <th>4</th>\n",
              "      <td>31</td>\n",
              "      <td>Male</td>\n",
              "      <td>United States</td>\n",
              "      <td>NaN</td>\n",
              "      <td>No</td>\n",
              "      <td>No</td>\n",
              "      <td>Never</td>\n",
              "      <td>100-500</td>\n",
              "      <td>Yes</td>\n",
              "      <td>Yes</td>\n",
              "      <td>...</td>\n",
              "      <td>Don't know</td>\n",
              "      <td>Don't know</td>\n",
              "      <td>No</td>\n",
              "      <td>No</td>\n",
              "      <td>Some of them</td>\n",
              "      <td>Yes</td>\n",
              "      <td>Yes</td>\n",
              "      <td>Yes</td>\n",
              "      <td>Don't know</td>\n",
              "      <td>No</td>\n",
              "    </tr>\n",
              "  </tbody>\n",
              "</table>\n",
              "<p>5 rows × 24 columns</p>\n",
              "</div>"
            ],
            "text/plain": [
              "   Age  Gender         Country self_employed family_history treatment  \\\n",
              "0   37  Female   United States           NaN             No       Yes   \n",
              "1   44       M   United States           NaN             No        No   \n",
              "2   32    Male          Canada           NaN             No        No   \n",
              "3   31    Male  United Kingdom           NaN            Yes       Yes   \n",
              "4   31    Male   United States           NaN             No        No   \n",
              "\n",
              "  work_interfere    no_employees remote_work tech_company  ...   anonymity  \\\n",
              "0          Often            6-25          No          Yes  ...         Yes   \n",
              "1         Rarely  More than 1000          No           No  ...  Don't know   \n",
              "2         Rarely            6-25          No          Yes  ...  Don't know   \n",
              "3          Often          26-100          No          Yes  ...          No   \n",
              "4          Never         100-500         Yes          Yes  ...  Don't know   \n",
              "\n",
              "                leave mental_health_consequence phys_health_consequence  \\\n",
              "0       Somewhat easy                        No                      No   \n",
              "1          Don't know                     Maybe                      No   \n",
              "2  Somewhat difficult                        No                      No   \n",
              "3  Somewhat difficult                       Yes                     Yes   \n",
              "4          Don't know                        No                      No   \n",
              "\n",
              "      coworkers supervisor mental_health_interview phys_health_interview  \\\n",
              "0  Some of them        Yes                      No                 Maybe   \n",
              "1            No         No                      No                    No   \n",
              "2           Yes        Yes                     Yes                   Yes   \n",
              "3  Some of them         No                   Maybe                 Maybe   \n",
              "4  Some of them        Yes                     Yes                   Yes   \n",
              "\n",
              "  mental_vs_physical obs_consequence  \n",
              "0                Yes              No  \n",
              "1         Don't know              No  \n",
              "2                 No              No  \n",
              "3                 No             Yes  \n",
              "4         Don't know              No  \n",
              "\n",
              "[5 rows x 24 columns]"
            ]
          },
          "execution_count": 4,
          "metadata": {},
          "output_type": "execute_result"
        }
      ],
      "source": [
        "#dealing with missing data\n",
        "train_df.drop(['comments'], axis= 1, inplace=True)\n",
        "train_df.drop(['state'], axis= 1, inplace=True)\n",
        "train_df.drop(['Timestamp'], axis= 1, inplace=True)\n",
        "\n",
        "train_df.isnull().sum().max() #just checking that there's no missing data missing...\n",
        "train_df.head(5)\n",
        "\n",
        "# How count() Works\n",
        "# 1. isnull() creates a Boolean mask\n",
        "# train_df.isnull() converts the DataFrame into a Boolean DataFrame, where:\n",
        "\n",
        "# True represents NaN values.\n",
        "# False represents non-null values.\n",
        "# 2. count() counts all values (not just True)\n",
        "# .count() in Pandas does not count True values like sum() does.\n",
        "# Instead, .count() counts all non-null values, even if they are False in the Boolean DataFrame."
      ]
    },
    {
      "cell_type": "markdown",
      "metadata": {
        "id": "JEJ01-IbYagP"
      },
      "source": [
        "Cleaning NaN"
      ]
    },
    {
      "cell_type": "code",
      "execution_count": 5,
      "metadata": {
        "colab": {
          "base_uri": "https://localhost:8080/",
          "height": 309
        },
        "id": "hI4SbkGXYTp_",
        "outputId": "59835891-4d62-480d-8e89-ce156a823753"
      },
      "outputs": [
        {
          "data": {
            "application/vnd.microsoft.datawrangler.viewer.v0+json": {
              "columns": [
                {
                  "name": "index",
                  "rawType": "int64",
                  "type": "integer"
                },
                {
                  "name": "Age",
                  "rawType": "int64",
                  "type": "integer"
                },
                {
                  "name": "Gender",
                  "rawType": "object",
                  "type": "string"
                },
                {
                  "name": "Country",
                  "rawType": "object",
                  "type": "string"
                },
                {
                  "name": "self_employed",
                  "rawType": "object",
                  "type": "string"
                },
                {
                  "name": "family_history",
                  "rawType": "object",
                  "type": "string"
                },
                {
                  "name": "treatment",
                  "rawType": "object",
                  "type": "string"
                },
                {
                  "name": "work_interfere",
                  "rawType": "object",
                  "type": "string"
                },
                {
                  "name": "no_employees",
                  "rawType": "object",
                  "type": "string"
                },
                {
                  "name": "remote_work",
                  "rawType": "object",
                  "type": "string"
                },
                {
                  "name": "tech_company",
                  "rawType": "object",
                  "type": "string"
                },
                {
                  "name": "benefits",
                  "rawType": "object",
                  "type": "string"
                },
                {
                  "name": "care_options",
                  "rawType": "object",
                  "type": "string"
                },
                {
                  "name": "wellness_program",
                  "rawType": "object",
                  "type": "string"
                },
                {
                  "name": "seek_help",
                  "rawType": "object",
                  "type": "string"
                },
                {
                  "name": "anonymity",
                  "rawType": "object",
                  "type": "string"
                },
                {
                  "name": "leave",
                  "rawType": "object",
                  "type": "string"
                },
                {
                  "name": "mental_health_consequence",
                  "rawType": "object",
                  "type": "string"
                },
                {
                  "name": "phys_health_consequence",
                  "rawType": "object",
                  "type": "string"
                },
                {
                  "name": "coworkers",
                  "rawType": "object",
                  "type": "string"
                },
                {
                  "name": "supervisor",
                  "rawType": "object",
                  "type": "string"
                },
                {
                  "name": "mental_health_interview",
                  "rawType": "object",
                  "type": "string"
                },
                {
                  "name": "phys_health_interview",
                  "rawType": "object",
                  "type": "string"
                },
                {
                  "name": "mental_vs_physical",
                  "rawType": "object",
                  "type": "string"
                },
                {
                  "name": "obs_consequence",
                  "rawType": "object",
                  "type": "string"
                }
              ],
              "conversionMethod": "pd.DataFrame",
              "ref": "7105df34-1223-4db8-a7ff-63a9665e0129",
              "rows": [
                [
                  "0",
                  "37",
                  "Female",
                  "United States",
                  "NaN",
                  "No",
                  "Yes",
                  "Often",
                  "6-25",
                  "No",
                  "Yes",
                  "Yes",
                  "Not sure",
                  "No",
                  "Yes",
                  "Yes",
                  "Somewhat easy",
                  "No",
                  "No",
                  "Some of them",
                  "Yes",
                  "No",
                  "Maybe",
                  "Yes",
                  "No"
                ],
                [
                  "1",
                  "44",
                  "M",
                  "United States",
                  "NaN",
                  "No",
                  "No",
                  "Rarely",
                  "More than 1000",
                  "No",
                  "No",
                  "Don't know",
                  "No",
                  "Don't know",
                  "Don't know",
                  "Don't know",
                  "Don't know",
                  "Maybe",
                  "No",
                  "No",
                  "No",
                  "No",
                  "No",
                  "Don't know",
                  "No"
                ],
                [
                  "2",
                  "32",
                  "Male",
                  "Canada",
                  "NaN",
                  "No",
                  "No",
                  "Rarely",
                  "6-25",
                  "No",
                  "Yes",
                  "No",
                  "No",
                  "No",
                  "No",
                  "Don't know",
                  "Somewhat difficult",
                  "No",
                  "No",
                  "Yes",
                  "Yes",
                  "Yes",
                  "Yes",
                  "No",
                  "No"
                ],
                [
                  "3",
                  "31",
                  "Male",
                  "United Kingdom",
                  "NaN",
                  "Yes",
                  "Yes",
                  "Often",
                  "26-100",
                  "No",
                  "Yes",
                  "No",
                  "Yes",
                  "No",
                  "No",
                  "No",
                  "Somewhat difficult",
                  "Yes",
                  "Yes",
                  "Some of them",
                  "No",
                  "Maybe",
                  "Maybe",
                  "No",
                  "Yes"
                ],
                [
                  "4",
                  "31",
                  "Male",
                  "United States",
                  "NaN",
                  "No",
                  "No",
                  "Never",
                  "100-500",
                  "Yes",
                  "Yes",
                  "Yes",
                  "No",
                  "Don't know",
                  "Don't know",
                  "Don't know",
                  "Don't know",
                  "No",
                  "No",
                  "Some of them",
                  "Yes",
                  "Yes",
                  "Yes",
                  "Don't know",
                  "No"
                ]
              ],
              "shape": {
                "columns": 24,
                "rows": 5
              }
            },
            "text/html": [
              "<div>\n",
              "<style scoped>\n",
              "    .dataframe tbody tr th:only-of-type {\n",
              "        vertical-align: middle;\n",
              "    }\n",
              "\n",
              "    .dataframe tbody tr th {\n",
              "        vertical-align: top;\n",
              "    }\n",
              "\n",
              "    .dataframe thead th {\n",
              "        text-align: right;\n",
              "    }\n",
              "</style>\n",
              "<table border=\"1\" class=\"dataframe\">\n",
              "  <thead>\n",
              "    <tr style=\"text-align: right;\">\n",
              "      <th></th>\n",
              "      <th>Age</th>\n",
              "      <th>Gender</th>\n",
              "      <th>Country</th>\n",
              "      <th>self_employed</th>\n",
              "      <th>family_history</th>\n",
              "      <th>treatment</th>\n",
              "      <th>work_interfere</th>\n",
              "      <th>no_employees</th>\n",
              "      <th>remote_work</th>\n",
              "      <th>tech_company</th>\n",
              "      <th>...</th>\n",
              "      <th>anonymity</th>\n",
              "      <th>leave</th>\n",
              "      <th>mental_health_consequence</th>\n",
              "      <th>phys_health_consequence</th>\n",
              "      <th>coworkers</th>\n",
              "      <th>supervisor</th>\n",
              "      <th>mental_health_interview</th>\n",
              "      <th>phys_health_interview</th>\n",
              "      <th>mental_vs_physical</th>\n",
              "      <th>obs_consequence</th>\n",
              "    </tr>\n",
              "  </thead>\n",
              "  <tbody>\n",
              "    <tr>\n",
              "      <th>0</th>\n",
              "      <td>37</td>\n",
              "      <td>Female</td>\n",
              "      <td>United States</td>\n",
              "      <td>NaN</td>\n",
              "      <td>No</td>\n",
              "      <td>Yes</td>\n",
              "      <td>Often</td>\n",
              "      <td>6-25</td>\n",
              "      <td>No</td>\n",
              "      <td>Yes</td>\n",
              "      <td>...</td>\n",
              "      <td>Yes</td>\n",
              "      <td>Somewhat easy</td>\n",
              "      <td>No</td>\n",
              "      <td>No</td>\n",
              "      <td>Some of them</td>\n",
              "      <td>Yes</td>\n",
              "      <td>No</td>\n",
              "      <td>Maybe</td>\n",
              "      <td>Yes</td>\n",
              "      <td>No</td>\n",
              "    </tr>\n",
              "    <tr>\n",
              "      <th>1</th>\n",
              "      <td>44</td>\n",
              "      <td>M</td>\n",
              "      <td>United States</td>\n",
              "      <td>NaN</td>\n",
              "      <td>No</td>\n",
              "      <td>No</td>\n",
              "      <td>Rarely</td>\n",
              "      <td>More than 1000</td>\n",
              "      <td>No</td>\n",
              "      <td>No</td>\n",
              "      <td>...</td>\n",
              "      <td>Don't know</td>\n",
              "      <td>Don't know</td>\n",
              "      <td>Maybe</td>\n",
              "      <td>No</td>\n",
              "      <td>No</td>\n",
              "      <td>No</td>\n",
              "      <td>No</td>\n",
              "      <td>No</td>\n",
              "      <td>Don't know</td>\n",
              "      <td>No</td>\n",
              "    </tr>\n",
              "    <tr>\n",
              "      <th>2</th>\n",
              "      <td>32</td>\n",
              "      <td>Male</td>\n",
              "      <td>Canada</td>\n",
              "      <td>NaN</td>\n",
              "      <td>No</td>\n",
              "      <td>No</td>\n",
              "      <td>Rarely</td>\n",
              "      <td>6-25</td>\n",
              "      <td>No</td>\n",
              "      <td>Yes</td>\n",
              "      <td>...</td>\n",
              "      <td>Don't know</td>\n",
              "      <td>Somewhat difficult</td>\n",
              "      <td>No</td>\n",
              "      <td>No</td>\n",
              "      <td>Yes</td>\n",
              "      <td>Yes</td>\n",
              "      <td>Yes</td>\n",
              "      <td>Yes</td>\n",
              "      <td>No</td>\n",
              "      <td>No</td>\n",
              "    </tr>\n",
              "    <tr>\n",
              "      <th>3</th>\n",
              "      <td>31</td>\n",
              "      <td>Male</td>\n",
              "      <td>United Kingdom</td>\n",
              "      <td>NaN</td>\n",
              "      <td>Yes</td>\n",
              "      <td>Yes</td>\n",
              "      <td>Often</td>\n",
              "      <td>26-100</td>\n",
              "      <td>No</td>\n",
              "      <td>Yes</td>\n",
              "      <td>...</td>\n",
              "      <td>No</td>\n",
              "      <td>Somewhat difficult</td>\n",
              "      <td>Yes</td>\n",
              "      <td>Yes</td>\n",
              "      <td>Some of them</td>\n",
              "      <td>No</td>\n",
              "      <td>Maybe</td>\n",
              "      <td>Maybe</td>\n",
              "      <td>No</td>\n",
              "      <td>Yes</td>\n",
              "    </tr>\n",
              "    <tr>\n",
              "      <th>4</th>\n",
              "      <td>31</td>\n",
              "      <td>Male</td>\n",
              "      <td>United States</td>\n",
              "      <td>NaN</td>\n",
              "      <td>No</td>\n",
              "      <td>No</td>\n",
              "      <td>Never</td>\n",
              "      <td>100-500</td>\n",
              "      <td>Yes</td>\n",
              "      <td>Yes</td>\n",
              "      <td>...</td>\n",
              "      <td>Don't know</td>\n",
              "      <td>Don't know</td>\n",
              "      <td>No</td>\n",
              "      <td>No</td>\n",
              "      <td>Some of them</td>\n",
              "      <td>Yes</td>\n",
              "      <td>Yes</td>\n",
              "      <td>Yes</td>\n",
              "      <td>Don't know</td>\n",
              "      <td>No</td>\n",
              "    </tr>\n",
              "  </tbody>\n",
              "</table>\n",
              "<p>5 rows × 24 columns</p>\n",
              "</div>"
            ],
            "text/plain": [
              "   Age  Gender         Country self_employed family_history treatment  \\\n",
              "0   37  Female   United States           NaN             No       Yes   \n",
              "1   44       M   United States           NaN             No        No   \n",
              "2   32    Male          Canada           NaN             No        No   \n",
              "3   31    Male  United Kingdom           NaN            Yes       Yes   \n",
              "4   31    Male   United States           NaN             No        No   \n",
              "\n",
              "  work_interfere    no_employees remote_work tech_company  ...   anonymity  \\\n",
              "0          Often            6-25          No          Yes  ...         Yes   \n",
              "1         Rarely  More than 1000          No           No  ...  Don't know   \n",
              "2         Rarely            6-25          No          Yes  ...  Don't know   \n",
              "3          Often          26-100          No          Yes  ...          No   \n",
              "4          Never         100-500         Yes          Yes  ...  Don't know   \n",
              "\n",
              "                leave mental_health_consequence phys_health_consequence  \\\n",
              "0       Somewhat easy                        No                      No   \n",
              "1          Don't know                     Maybe                      No   \n",
              "2  Somewhat difficult                        No                      No   \n",
              "3  Somewhat difficult                       Yes                     Yes   \n",
              "4          Don't know                        No                      No   \n",
              "\n",
              "      coworkers supervisor mental_health_interview phys_health_interview  \\\n",
              "0  Some of them        Yes                      No                 Maybe   \n",
              "1            No         No                      No                    No   \n",
              "2           Yes        Yes                     Yes                   Yes   \n",
              "3  Some of them         No                   Maybe                 Maybe   \n",
              "4  Some of them        Yes                     Yes                   Yes   \n",
              "\n",
              "  mental_vs_physical obs_consequence  \n",
              "0                Yes              No  \n",
              "1         Don't know              No  \n",
              "2                 No              No  \n",
              "3                 No             Yes  \n",
              "4         Don't know              No  \n",
              "\n",
              "[5 rows x 24 columns]"
            ]
          },
          "execution_count": 5,
          "metadata": {},
          "output_type": "execute_result"
        }
      ],
      "source": [
        "# Assign default values for each data type\n",
        "defaultInt = 0\n",
        "defaultString = 'NaN'\n",
        "defaultFloat = 0.0\n",
        "\n",
        "# Create lists by data tpe\n",
        "intFeatures = ['Age']\n",
        "stringFeatures = ['Gender', 'Country', 'self_employed', 'family_history', 'treatment', 'work_interfere',\n",
        "                 'no_employees', 'remote_work', 'tech_company', 'anonymity', 'leave', 'mental_health_consequence',\n",
        "                 'phys_health_consequence', 'coworkers', 'supervisor', 'mental_health_interview', 'phys_health_interview',\n",
        "                 'mental_vs_physical', 'obs_consequence', 'benefits', 'care_options', 'wellness_program',\n",
        "                 'seek_help']\n",
        "floatFeatures = []\n",
        "\n",
        "# Clean the NaN's\n",
        "for feature in train_df:\n",
        "    if feature in intFeatures:\n",
        "        train_df[feature] = train_df[feature].fillna(defaultInt)\n",
        "    elif feature in stringFeatures:\n",
        "        train_df[feature] = train_df[feature].fillna(defaultString)\n",
        "    elif feature in floatFeatures:\n",
        "        train_df[feature] = train_df[feature].fillna(defaultFloat)\n",
        "    else:\n",
        "        print('Error: Feature %s not recognized.' % feature)\n",
        "train_df.head()"
      ]
    },
    {
      "cell_type": "code",
      "execution_count": 6,
      "metadata": {
        "colab": {
          "base_uri": "https://localhost:8080/"
        },
        "id": "DAgJLUoBYzHI",
        "outputId": "624341db-ac27-479c-9b39-473cb56bde7d"
      },
      "outputs": [
        {
          "name": "stdout",
          "output_type": "stream",
          "text": [
            "['Female' 'M' 'Male' 'male' 'female' 'm' 'Male-ish' 'maile' 'Trans-female'\n",
            " 'Cis Female' 'F' 'something kinda male?' 'Cis Male' 'Woman' 'f' 'Mal'\n",
            " 'Male (CIS)' 'queer/she/they' 'non-binary' 'Femake' 'woman' 'Make' 'Nah'\n",
            " 'All' 'Enby' 'fluid' 'Genderqueer' 'Female ' 'Androgyne' 'Agender'\n",
            " 'cis-female/femme' 'Guy (-ish) ^_^' 'male leaning androgynous' 'Male '\n",
            " 'Man' 'Trans woman' 'msle' 'Neuter' 'Female (trans)' 'queer'\n",
            " 'Female (cis)' 'Mail' 'cis male' 'A little about you' 'Malr' 'p' 'femail'\n",
            " 'Cis Man' 'ostensibly male, unsure what that really means']\n"
          ]
        }
      ],
      "source": [
        "#Clean 'Gender'\n",
        "gender = train_df['Gender'].unique()\n",
        "print(gender)"
      ]
    },
    {
      "cell_type": "code",
      "execution_count": 7,
      "metadata": {
        "colab": {
          "base_uri": "https://localhost:8080/"
        },
        "id": "ci8qNBlHZWjt",
        "outputId": "76dccc56-193b-4c83-c4b0-9486616784c2"
      },
      "outputs": [
        {
          "name": "stderr",
          "output_type": "stream",
          "text": [
            "C:\\Users\\Atharva\\AppData\\Local\\Temp\\ipykernel_26536\\479432589.py:12: FutureWarning: A value is trying to be set on a copy of a DataFrame or Series through chained assignment using an inplace method.\n",
            "The behavior will change in pandas 3.0. This inplace method will never work because the intermediate object on which we are setting values always behaves as a copy.\n",
            "\n",
            "For example, when doing 'df[col].method(value, inplace=True)', try using 'df.method({col: value}, inplace=True)' or df[col] = df[col].method(value) instead, to perform the operation inplace on the original object.\n",
            "\n",
            "\n",
            "  train_df['Gender'].replace(to_replace=col.Gender, value='female', inplace=True)\n",
            "C:\\Users\\Atharva\\AppData\\Local\\Temp\\ipykernel_26536\\479432589.py:9: FutureWarning: A value is trying to be set on a copy of a DataFrame or Series through chained assignment using an inplace method.\n",
            "The behavior will change in pandas 3.0. This inplace method will never work because the intermediate object on which we are setting values always behaves as a copy.\n",
            "\n",
            "For example, when doing 'df[col].method(value, inplace=True)', try using 'df.method({col: value}, inplace=True)' or df[col] = df[col].method(value) instead, to perform the operation inplace on the original object.\n",
            "\n",
            "\n",
            "  train_df['Gender'].replace(to_replace=col.Gender, value='male', inplace=True)\n",
            "C:\\Users\\Atharva\\AppData\\Local\\Temp\\ipykernel_26536\\479432589.py:15: FutureWarning: A value is trying to be set on a copy of a DataFrame or Series through chained assignment using an inplace method.\n",
            "The behavior will change in pandas 3.0. This inplace method will never work because the intermediate object on which we are setting values always behaves as a copy.\n",
            "\n",
            "For example, when doing 'df[col].method(value, inplace=True)', try using 'df.method({col: value}, inplace=True)' or df[col] = df[col].method(value) instead, to perform the operation inplace on the original object.\n",
            "\n",
            "\n",
            "  train_df['Gender'].replace(to_replace=col.Gender, value='trans', inplace=True)\n"
          ]
        },
        {
          "name": "stdout",
          "output_type": "stream",
          "text": [
            "['female' 'male' 'trans']\n"
          ]
        }
      ],
      "source": [
        "#Made gender groups\n",
        "male_str = [\"male\", \"m\", \"male-ish\", \"maile\", \"mal\", \"male (cis)\", \"make\", \"male \", \"man\",\"msle\", \"mail\", \"malr\",\"cis man\", \"Cis Male\", \"cis male\"]\n",
        "trans_str = [\"trans-female\", \"something kinda male?\", \"queer/she/they\", \"non-binary\",\"nah\", \"all\", \"enby\", \"fluid\", \"genderqueer\", \"androgyne\", \"agender\", \"male leaning androgynous\", \"guy (-ish) ^_^\", \"trans woman\", \"neuter\", \"female (trans)\", \"queer\", \"ostensibly male, unsure what that really means\"]           \n",
        "female_str = [\"cis female\", \"f\", \"female\", \"woman\",  \"femake\", \"female \",\"cis-female/femme\", \"female (cis)\", \"femail\"]\n",
        "\n",
        "for (row, col) in train_df.iterrows():\n",
        "\n",
        "    if str.lower(col.Gender) in male_str:\n",
        "        train_df['Gender'].replace(to_replace=col.Gender, value='male', inplace=True)\n",
        "\n",
        "    if str.lower(col.Gender) in female_str:\n",
        "        train_df['Gender'].replace(to_replace=col.Gender, value='female', inplace=True)\n",
        "\n",
        "    if str.lower(col.Gender) in trans_str:\n",
        "        train_df['Gender'].replace(to_replace=col.Gender, value='trans', inplace=True)\n",
        "\n",
        "#Get rid of bullshit\n",
        "stk_list = ['A little about you', 'p']\n",
        "train_df = train_df[~train_df['Gender'].isin(stk_list)]\n",
        "\n",
        "print(train_df['Gender'].unique())"
      ]
    },
    {
      "cell_type": "code",
      "execution_count": 8,
      "metadata": {
        "id": "LytRp-MiZ3WM"
      },
      "outputs": [
        {
          "name": "stderr",
          "output_type": "stream",
          "text": [
            "C:\\Users\\Atharva\\AppData\\Local\\Temp\\ipykernel_26536\\3830636838.py:2: FutureWarning: A value is trying to be set on a copy of a DataFrame or Series through chained assignment using an inplace method.\n",
            "The behavior will change in pandas 3.0. This inplace method will never work because the intermediate object on which we are setting values always behaves as a copy.\n",
            "\n",
            "For example, when doing 'df[col].method(value, inplace=True)', try using 'df.method({col: value}, inplace=True)' or df[col] = df[col].method(value) instead, to perform the operation inplace on the original object.\n",
            "\n",
            "\n",
            "  train_df['Age'].fillna(train_df['Age'].median(), inplace = True)\n"
          ]
        }
      ],
      "source": [
        "#complete missing age with mean\n",
        "train_df['Age'].fillna(train_df['Age'].median(), inplace = True)\n",
        "\n",
        "# Fill with media() values < 18 and > 120\n",
        "s = pd.Series(train_df['Age'])\n",
        "s[s<18] = train_df['Age'].median()\n",
        "train_df['Age'] = s\n",
        "s = pd.Series(train_df['Age'])\n",
        "s[s>120] = train_df['Age'].median()\n",
        "train_df['Age'] = s\n",
        "\n",
        "#Ranges of Age\n",
        "train_df['age_range'] = pd.cut(train_df['Age'], [0,20,30,65,100], labels=[\"0-20\", \"21-30\", \"31-65\", \"66-100\"], include_lowest=True)"
      ]
    },
    {
      "cell_type": "code",
      "execution_count": 9,
      "metadata": {
        "colab": {
          "base_uri": "https://localhost:8080/"
        },
        "id": "-a4jIjqfaAsQ",
        "outputId": "3a9cdcc2-59bb-4752-a284-33997decf571"
      },
      "outputs": [
        {
          "name": "stdout",
          "output_type": "stream",
          "text": [
            "['No' 'Yes']\n"
          ]
        }
      ],
      "source": [
        "#There are only 0.014% of self employed so let's change NaN to NOT self_employed\n",
        "#Replace \"NaN\" string from defaultString\n",
        "train_df['self_employed'] = train_df['self_employed'].replace([defaultString], 'No')\n",
        "print(train_df['self_employed'].unique())"
      ]
    },
    {
      "cell_type": "code",
      "execution_count": 10,
      "metadata": {
        "colab": {
          "base_uri": "https://localhost:8080/"
        },
        "id": "dlH2JMtjaI96",
        "outputId": "06884d43-f96a-4463-c306-530250947dc3"
      },
      "outputs": [
        {
          "name": "stdout",
          "output_type": "stream",
          "text": [
            "['Often' 'Rarely' 'Never' 'Sometimes' \"Don't know\"]\n"
          ]
        }
      ],
      "source": [
        "#There are only 0.20% of self work_interfere so let's change NaN to \"Don't know\n",
        "#Replace \"NaN\" string from defaultString\n",
        "\n",
        "train_df['work_interfere'] = train_df['work_interfere'].replace([defaultString], 'Don\\'t know' )\n",
        "print(train_df['work_interfere'].unique())"
      ]
    },
    {
      "cell_type": "markdown",
      "metadata": {
        "id": "vU9sRPnQaP2D"
      },
      "source": [
        "#Encoding Data"
      ]
    },
    {
      "cell_type": "code",
      "execution_count": 11,
      "metadata": {
        "colab": {
          "base_uri": "https://localhost:8080/"
        },
        "id": "VrFCOYpSaNrL",
        "outputId": "1115893e-7b32-4c7c-cd2b-56b49fedf919"
      },
      "outputs": [
        {
          "name": "stdout",
          "output_type": "stream",
          "text": [
            "label_Age [18, 19, 20, 21, 22, 23, 24, 25, 26, 27, 28, 29, 30, 31, 32, 33, 34, 35, 36, 37, 38, 39, 40, 41, 42, 43, 44, 45, 46, 47, 48, 49, 50, 51, 53, 54, 55, 56, 57, 58, 60, 61, 62, 65, 72]\n",
            "label_Gender ['female', 'male', 'trans']\n",
            "label_Country ['Australia', 'Austria', 'Belgium', 'Bosnia and Herzegovina', 'Brazil', 'Bulgaria', 'Canada', 'China', 'Colombia', 'Costa Rica', 'Croatia', 'Czech Republic', 'Denmark', 'Finland', 'France', 'Georgia', 'Germany', 'Greece', 'Hungary', 'India', 'Ireland', 'Israel', 'Italy', 'Japan', 'Latvia', 'Mexico', 'Moldova', 'Netherlands', 'New Zealand', 'Nigeria', 'Norway', 'Philippines', 'Poland', 'Portugal', 'Romania', 'Russia', 'Singapore', 'Slovenia', 'South Africa', 'Spain', 'Sweden', 'Switzerland', 'Thailand', 'United Kingdom', 'United States', 'Uruguay', 'Zimbabwe']\n",
            "label_self_employed ['No', 'Yes']\n",
            "label_family_history ['No', 'Yes']\n",
            "label_treatment ['No', 'Yes']\n",
            "label_work_interfere [\"Don't know\", 'Never', 'Often', 'Rarely', 'Sometimes']\n",
            "label_no_employees ['1-5', '100-500', '26-100', '500-1000', '6-25', 'More than 1000']\n",
            "label_remote_work ['No', 'Yes']\n",
            "label_tech_company ['No', 'Yes']\n",
            "label_benefits [\"Don't know\", 'No', 'Yes']\n",
            "label_care_options ['No', 'Not sure', 'Yes']\n",
            "label_wellness_program [\"Don't know\", 'No', 'Yes']\n",
            "label_seek_help [\"Don't know\", 'No', 'Yes']\n",
            "label_anonymity [\"Don't know\", 'No', 'Yes']\n",
            "label_leave [\"Don't know\", 'Somewhat difficult', 'Somewhat easy', 'Very difficult', 'Very easy']\n",
            "label_mental_health_consequence ['Maybe', 'No', 'Yes']\n",
            "label_phys_health_consequence ['Maybe', 'No', 'Yes']\n",
            "label_coworkers ['No', 'Some of them', 'Yes']\n",
            "label_supervisor ['No', 'Some of them', 'Yes']\n",
            "label_mental_health_interview ['Maybe', 'No', 'Yes']\n",
            "label_phys_health_interview ['Maybe', 'No', 'Yes']\n",
            "label_mental_vs_physical [\"Don't know\", 'No', 'Yes']\n",
            "label_obs_consequence ['No', 'Yes']\n",
            "label_age_range ['0-20', '21-30', '31-65', '66-100']\n"
          ]
        }
      ],
      "source": [
        "#Encoding data\n",
        "labelDict = {}\n",
        "for feature in train_df:\n",
        "    le = preprocessing.LabelEncoder()\n",
        "    le.fit(train_df[feature])\n",
        "    le_name_mapping = dict(zip(le.classes_, le.transform(le.classes_)))\n",
        "    train_df[feature] = le.transform(train_df[feature])\n",
        "    # Get labels\n",
        "    labelKey = 'label_' + feature\n",
        "    labelValue = [*le_name_mapping]\n",
        "    labelDict[labelKey] =labelValue\n",
        "    \n",
        "for key, value in labelDict.items():     \n",
        "    print(key, value)"
      ]
    },
    {
      "cell_type": "code",
      "execution_count": 12,
      "metadata": {
        "colab": {
          "base_uri": "https://localhost:8080/",
          "height": 224
        },
        "id": "3eBE2WLmaX96",
        "outputId": "f6495a24-b987-4ffa-ddf6-ff9ad630f33b"
      },
      "outputs": [
        {
          "data": {
            "application/vnd.microsoft.datawrangler.viewer.v0+json": {
              "columns": [
                {
                  "name": "index",
                  "rawType": "int64",
                  "type": "integer"
                },
                {
                  "name": "Age",
                  "rawType": "int64",
                  "type": "integer"
                },
                {
                  "name": "Gender",
                  "rawType": "int32",
                  "type": "integer"
                },
                {
                  "name": "self_employed",
                  "rawType": "int32",
                  "type": "integer"
                },
                {
                  "name": "family_history",
                  "rawType": "int32",
                  "type": "integer"
                },
                {
                  "name": "treatment",
                  "rawType": "int32",
                  "type": "integer"
                },
                {
                  "name": "work_interfere",
                  "rawType": "int32",
                  "type": "integer"
                },
                {
                  "name": "no_employees",
                  "rawType": "int32",
                  "type": "integer"
                },
                {
                  "name": "remote_work",
                  "rawType": "int32",
                  "type": "integer"
                },
                {
                  "name": "tech_company",
                  "rawType": "int32",
                  "type": "integer"
                },
                {
                  "name": "benefits",
                  "rawType": "int32",
                  "type": "integer"
                },
                {
                  "name": "care_options",
                  "rawType": "int32",
                  "type": "integer"
                },
                {
                  "name": "wellness_program",
                  "rawType": "int32",
                  "type": "integer"
                },
                {
                  "name": "seek_help",
                  "rawType": "int32",
                  "type": "integer"
                },
                {
                  "name": "anonymity",
                  "rawType": "int32",
                  "type": "integer"
                },
                {
                  "name": "leave",
                  "rawType": "int32",
                  "type": "integer"
                },
                {
                  "name": "mental_health_consequence",
                  "rawType": "int32",
                  "type": "integer"
                },
                {
                  "name": "phys_health_consequence",
                  "rawType": "int32",
                  "type": "integer"
                },
                {
                  "name": "coworkers",
                  "rawType": "int32",
                  "type": "integer"
                },
                {
                  "name": "supervisor",
                  "rawType": "int32",
                  "type": "integer"
                },
                {
                  "name": "mental_health_interview",
                  "rawType": "int32",
                  "type": "integer"
                },
                {
                  "name": "phys_health_interview",
                  "rawType": "int32",
                  "type": "integer"
                },
                {
                  "name": "mental_vs_physical",
                  "rawType": "int32",
                  "type": "integer"
                },
                {
                  "name": "obs_consequence",
                  "rawType": "int32",
                  "type": "integer"
                },
                {
                  "name": "age_range",
                  "rawType": "int32",
                  "type": "integer"
                }
              ],
              "conversionMethod": "pd.DataFrame",
              "ref": "44ae198d-490e-4bc9-86a3-43d738073390",
              "rows": [
                [
                  "0",
                  "19",
                  "0",
                  "0",
                  "0",
                  "1",
                  "2",
                  "4",
                  "0",
                  "1",
                  "2",
                  "1",
                  "1",
                  "2",
                  "2",
                  "2",
                  "1",
                  "1",
                  "1",
                  "2",
                  "1",
                  "0",
                  "2",
                  "0",
                  "2"
                ],
                [
                  "1",
                  "26",
                  "1",
                  "0",
                  "0",
                  "0",
                  "3",
                  "5",
                  "0",
                  "0",
                  "0",
                  "0",
                  "0",
                  "0",
                  "0",
                  "0",
                  "0",
                  "1",
                  "0",
                  "0",
                  "1",
                  "1",
                  "0",
                  "0",
                  "2"
                ],
                [
                  "2",
                  "14",
                  "1",
                  "0",
                  "0",
                  "0",
                  "3",
                  "4",
                  "0",
                  "1",
                  "1",
                  "0",
                  "1",
                  "1",
                  "0",
                  "1",
                  "1",
                  "1",
                  "2",
                  "2",
                  "2",
                  "2",
                  "1",
                  "0",
                  "2"
                ],
                [
                  "3",
                  "13",
                  "1",
                  "0",
                  "1",
                  "1",
                  "2",
                  "2",
                  "0",
                  "1",
                  "1",
                  "2",
                  "1",
                  "1",
                  "1",
                  "1",
                  "2",
                  "2",
                  "1",
                  "0",
                  "0",
                  "0",
                  "1",
                  "1",
                  "2"
                ],
                [
                  "4",
                  "13",
                  "1",
                  "0",
                  "0",
                  "0",
                  "1",
                  "1",
                  "1",
                  "1",
                  "2",
                  "0",
                  "0",
                  "0",
                  "0",
                  "0",
                  "1",
                  "1",
                  "1",
                  "2",
                  "2",
                  "2",
                  "0",
                  "0",
                  "2"
                ]
              ],
              "shape": {
                "columns": 24,
                "rows": 5
              }
            },
            "text/html": [
              "<div>\n",
              "<style scoped>\n",
              "    .dataframe tbody tr th:only-of-type {\n",
              "        vertical-align: middle;\n",
              "    }\n",
              "\n",
              "    .dataframe tbody tr th {\n",
              "        vertical-align: top;\n",
              "    }\n",
              "\n",
              "    .dataframe thead th {\n",
              "        text-align: right;\n",
              "    }\n",
              "</style>\n",
              "<table border=\"1\" class=\"dataframe\">\n",
              "  <thead>\n",
              "    <tr style=\"text-align: right;\">\n",
              "      <th></th>\n",
              "      <th>Age</th>\n",
              "      <th>Gender</th>\n",
              "      <th>self_employed</th>\n",
              "      <th>family_history</th>\n",
              "      <th>treatment</th>\n",
              "      <th>work_interfere</th>\n",
              "      <th>no_employees</th>\n",
              "      <th>remote_work</th>\n",
              "      <th>tech_company</th>\n",
              "      <th>benefits</th>\n",
              "      <th>...</th>\n",
              "      <th>leave</th>\n",
              "      <th>mental_health_consequence</th>\n",
              "      <th>phys_health_consequence</th>\n",
              "      <th>coworkers</th>\n",
              "      <th>supervisor</th>\n",
              "      <th>mental_health_interview</th>\n",
              "      <th>phys_health_interview</th>\n",
              "      <th>mental_vs_physical</th>\n",
              "      <th>obs_consequence</th>\n",
              "      <th>age_range</th>\n",
              "    </tr>\n",
              "  </thead>\n",
              "  <tbody>\n",
              "    <tr>\n",
              "      <th>0</th>\n",
              "      <td>19</td>\n",
              "      <td>0</td>\n",
              "      <td>0</td>\n",
              "      <td>0</td>\n",
              "      <td>1</td>\n",
              "      <td>2</td>\n",
              "      <td>4</td>\n",
              "      <td>0</td>\n",
              "      <td>1</td>\n",
              "      <td>2</td>\n",
              "      <td>...</td>\n",
              "      <td>2</td>\n",
              "      <td>1</td>\n",
              "      <td>1</td>\n",
              "      <td>1</td>\n",
              "      <td>2</td>\n",
              "      <td>1</td>\n",
              "      <td>0</td>\n",
              "      <td>2</td>\n",
              "      <td>0</td>\n",
              "      <td>2</td>\n",
              "    </tr>\n",
              "    <tr>\n",
              "      <th>1</th>\n",
              "      <td>26</td>\n",
              "      <td>1</td>\n",
              "      <td>0</td>\n",
              "      <td>0</td>\n",
              "      <td>0</td>\n",
              "      <td>3</td>\n",
              "      <td>5</td>\n",
              "      <td>0</td>\n",
              "      <td>0</td>\n",
              "      <td>0</td>\n",
              "      <td>...</td>\n",
              "      <td>0</td>\n",
              "      <td>0</td>\n",
              "      <td>1</td>\n",
              "      <td>0</td>\n",
              "      <td>0</td>\n",
              "      <td>1</td>\n",
              "      <td>1</td>\n",
              "      <td>0</td>\n",
              "      <td>0</td>\n",
              "      <td>2</td>\n",
              "    </tr>\n",
              "    <tr>\n",
              "      <th>2</th>\n",
              "      <td>14</td>\n",
              "      <td>1</td>\n",
              "      <td>0</td>\n",
              "      <td>0</td>\n",
              "      <td>0</td>\n",
              "      <td>3</td>\n",
              "      <td>4</td>\n",
              "      <td>0</td>\n",
              "      <td>1</td>\n",
              "      <td>1</td>\n",
              "      <td>...</td>\n",
              "      <td>1</td>\n",
              "      <td>1</td>\n",
              "      <td>1</td>\n",
              "      <td>2</td>\n",
              "      <td>2</td>\n",
              "      <td>2</td>\n",
              "      <td>2</td>\n",
              "      <td>1</td>\n",
              "      <td>0</td>\n",
              "      <td>2</td>\n",
              "    </tr>\n",
              "    <tr>\n",
              "      <th>3</th>\n",
              "      <td>13</td>\n",
              "      <td>1</td>\n",
              "      <td>0</td>\n",
              "      <td>1</td>\n",
              "      <td>1</td>\n",
              "      <td>2</td>\n",
              "      <td>2</td>\n",
              "      <td>0</td>\n",
              "      <td>1</td>\n",
              "      <td>1</td>\n",
              "      <td>...</td>\n",
              "      <td>1</td>\n",
              "      <td>2</td>\n",
              "      <td>2</td>\n",
              "      <td>1</td>\n",
              "      <td>0</td>\n",
              "      <td>0</td>\n",
              "      <td>0</td>\n",
              "      <td>1</td>\n",
              "      <td>1</td>\n",
              "      <td>2</td>\n",
              "    </tr>\n",
              "    <tr>\n",
              "      <th>4</th>\n",
              "      <td>13</td>\n",
              "      <td>1</td>\n",
              "      <td>0</td>\n",
              "      <td>0</td>\n",
              "      <td>0</td>\n",
              "      <td>1</td>\n",
              "      <td>1</td>\n",
              "      <td>1</td>\n",
              "      <td>1</td>\n",
              "      <td>2</td>\n",
              "      <td>...</td>\n",
              "      <td>0</td>\n",
              "      <td>1</td>\n",
              "      <td>1</td>\n",
              "      <td>1</td>\n",
              "      <td>2</td>\n",
              "      <td>2</td>\n",
              "      <td>2</td>\n",
              "      <td>0</td>\n",
              "      <td>0</td>\n",
              "      <td>2</td>\n",
              "    </tr>\n",
              "  </tbody>\n",
              "</table>\n",
              "<p>5 rows × 24 columns</p>\n",
              "</div>"
            ],
            "text/plain": [
              "   Age  Gender  self_employed  family_history  treatment  work_interfere  \\\n",
              "0   19       0              0               0          1               2   \n",
              "1   26       1              0               0          0               3   \n",
              "2   14       1              0               0          0               3   \n",
              "3   13       1              0               1          1               2   \n",
              "4   13       1              0               0          0               1   \n",
              "\n",
              "   no_employees  remote_work  tech_company  benefits  ...  leave  \\\n",
              "0             4            0             1         2  ...      2   \n",
              "1             5            0             0         0  ...      0   \n",
              "2             4            0             1         1  ...      1   \n",
              "3             2            0             1         1  ...      1   \n",
              "4             1            1             1         2  ...      0   \n",
              "\n",
              "   mental_health_consequence  phys_health_consequence  coworkers  supervisor  \\\n",
              "0                          1                        1          1           2   \n",
              "1                          0                        1          0           0   \n",
              "2                          1                        1          2           2   \n",
              "3                          2                        2          1           0   \n",
              "4                          1                        1          1           2   \n",
              "\n",
              "   mental_health_interview  phys_health_interview  mental_vs_physical  \\\n",
              "0                        1                      0                   2   \n",
              "1                        1                      1                   0   \n",
              "2                        2                      2                   1   \n",
              "3                        0                      0                   1   \n",
              "4                        2                      2                   0   \n",
              "\n",
              "   obs_consequence  age_range  \n",
              "0                0          2  \n",
              "1                0          2  \n",
              "2                0          2  \n",
              "3                1          2  \n",
              "4                0          2  \n",
              "\n",
              "[5 rows x 24 columns]"
            ]
          },
          "execution_count": 12,
          "metadata": {},
          "output_type": "execute_result"
        }
      ],
      "source": [
        "#Get rid of 'Country'\n",
        "train_df = train_df.drop(['Country'], axis= 1)\n",
        "train_df.head()"
      ]
    },
    {
      "cell_type": "markdown",
      "metadata": {
        "id": "4DNKbr_TajZa"
      },
      "source": [
        "Testing there aren't any missing data"
      ]
    },
    {
      "cell_type": "code",
      "execution_count": 13,
      "metadata": {
        "colab": {
          "base_uri": "https://localhost:8080/"
        },
        "id": "cxlJqy9KadVC",
        "outputId": "e0f83c12-a467-46c4-c219-e61ea021f067"
      },
      "outputs": [
        {
          "name": "stdout",
          "output_type": "stream",
          "text": [
            "                           Total  Percent\n",
            "Age                            0      0.0\n",
            "Gender                         0      0.0\n",
            "obs_consequence                0      0.0\n",
            "mental_vs_physical             0      0.0\n",
            "phys_health_interview          0      0.0\n",
            "mental_health_interview        0      0.0\n",
            "supervisor                     0      0.0\n",
            "coworkers                      0      0.0\n",
            "phys_health_consequence        0      0.0\n",
            "mental_health_consequence      0      0.0\n",
            "leave                          0      0.0\n",
            "anonymity                      0      0.0\n",
            "seek_help                      0      0.0\n",
            "wellness_program               0      0.0\n",
            "care_options                   0      0.0\n",
            "benefits                       0      0.0\n",
            "tech_company                   0      0.0\n",
            "remote_work                    0      0.0\n",
            "no_employees                   0      0.0\n",
            "work_interfere                 0      0.0\n",
            "treatment                      0      0.0\n",
            "family_history                 0      0.0\n",
            "self_employed                  0      0.0\n",
            "age_range                      0      0.0\n"
          ]
        }
      ],
      "source": [
        "#missing data\n",
        "total = train_df.isnull().sum().sort_values(ascending=False)\n",
        "percent = (train_df.isnull().sum()/train_df.isnull().count()).sort_values(ascending=False)\n",
        "missing_data = pd.concat([total, percent], axis=1, keys=['Total', 'Percent'])\n",
        "missing_data.head(20)\n",
        "print(missing_data)"
      ]
    },
    {
      "cell_type": "markdown",
      "metadata": {
        "id": "UERrfJsnatzt"
      },
      "source": [
        "Features Scaling: We're going to scale age, because it is extremely different from the other ones."
      ]
    },
    {
      "cell_type": "markdown",
      "metadata": {
        "id": "BoJ-Ori9avcR"
      },
      "source": [
        "#Covariance Matrix. Variability comparison between categories of variables"
      ]
    },
    {
      "cell_type": "code",
      "execution_count": 14,
      "metadata": {
        "colab": {
          "base_uri": "https://localhost:8080/",
          "height": 674
        },
        "id": "INZUJIV0antX",
        "outputId": "60085a4d-2e48-40b4-a451-99240e73e40e"
      },
      "outputs": [
        {
          "data": {
            "image/png": "[encoded data removed]",
            "text/plain": [
              "<Figure size 1200x900 with 2 Axes>"
            ]
          },
          "metadata": {},
          "output_type": "display_data"
        }
      ],
      "source": [
        "#correlation matrix\n",
        "corrmat = train_df.corr()\n",
        "f, ax = plt.subplots(figsize=(12, 9))\n",
        "sns.heatmap(corrmat, vmax=.8, square=True);\n",
        "plt.show()"
      ]
    },
    {
      "cell_type": "code",
      "execution_count": 15,
      "metadata": {
        "colab": {
          "base_uri": "https://localhost:8080/",
          "height": 433
        },
        "id": "Hg1Y03-5bCVb",
        "outputId": "38e157f1-cce4-49bc-da8c-d617cb5f18a0"
      },
      "outputs": [
        {
          "data": {
            "image/png": "[encoded data removed]",
            "text/plain": [
              "<Figure size 640x480 with 2 Axes>"
            ]
          },
          "metadata": {},
          "output_type": "display_data"
        }
      ],
      "source": [
        "#treatment correlation matrix\n",
        "k = 10 #number of variables for heatmap\n",
        "cols = corrmat.nlargest(k, 'treatment')['treatment'].index\n",
        "cm = np.corrcoef(train_df[cols].values.T)\n",
        "sns.set(font_scale=1.25)\n",
        "hm = sns.heatmap(cm, cbar=True, annot=True, square=True, fmt='.2f', annot_kws={'size': 10}, yticklabels=cols.values, xticklabels=cols.values)\n",
        "plt.show()"
      ]
    },
    {
      "cell_type": "markdown",
      "metadata": {
        "id": "dFd3XHrUbpj_"
      },
      "source": [
        "#Some charts to see data relationship"
      ]
    },
    {
      "cell_type": "markdown",
      "metadata": {
        "id": "nf2HeCribtJ4"
      },
      "source": [
        "**Distribution** and density by Age"
      ]
    },
    {
      "cell_type": "code",
      "execution_count": 16,
      "metadata": {
        "colab": {
          "base_uri": "https://localhost:8080/",
          "height": 597
        },
        "id": "geuI-6OMbGez",
        "outputId": "64c7e902-2828-45ef-c799-14697fa2fa39"
      },
      "outputs": [
        {
          "name": "stderr",
          "output_type": "stream",
          "text": [
            "C:\\Users\\Atharva\\AppData\\Local\\Temp\\ipykernel_26536\\2951271029.py:3: UserWarning: \n",
            "\n",
            "`distplot` is a deprecated function and will be removed in seaborn v0.14.0.\n",
            "\n",
            "Please adapt your code to use either `displot` (a figure-level function with\n",
            "similar flexibility) or `histplot` (an axes-level function for histograms).\n",
            "\n",
            "For a guide to updating your code to use the new functions, please see\n",
            "https://gist.github.com/mwaskom/de44147ed2974457ad6372750bbe5751\n",
            "\n",
            "  sns.distplot(train_df[\"Age\"], bins=24)\n"
          ]
        },
        {
          "data": {
            "text/plain": [
              "Text(0.5, 0, 'Age')"
            ]
          },
          "execution_count": 16,
          "metadata": {},
          "output_type": "execute_result"
        },
        {
          "data": {
            "image/png": "[encoded data removed]",
            "text/plain": [
              "<Figure size 1200x800 with 1 Axes>"
            ]
          },
          "metadata": {},
          "output_type": "display_data"
        }
      ],
      "source": [
        "# Distribution and density by Age\n",
        "plt.figure(figsize=(12,8))\n",
        "sns.distplot(train_df[\"Age\"], bins=24)\n",
        "plt.title(\"Distribution and density by Age\")\n",
        "plt.xlabel(\"Age\")"
      ]
    },
    {
      "cell_type": "markdown",
      "metadata": {
        "id": "laO_IxDPb2cg"
      },
      "source": [
        "Separate by treatment"
      ]
    },
    {
      "cell_type": "code",
      "execution_count": 17,
      "metadata": {
        "colab": {
          "base_uri": "https://localhost:8080/",
          "height": 480
        },
        "id": "fbpapqAAbxDh",
        "outputId": "f551fcb9-e545-4b44-e5ef-edabcc188d51"
      },
      "outputs": [
        {
          "ename": "TypeError",
          "evalue": "FacetGrid.__init__() got an unexpected keyword argument 'size'",
          "output_type": "error",
          "traceback": [
            "\u001b[1;31m---------------------------------------------------------------------------\u001b[0m",
            "\u001b[1;31mTypeError\u001b[0m                                 Traceback (most recent call last)",
            "Cell \u001b[1;32mIn[17], line 1\u001b[0m\n\u001b[1;32m----> 1\u001b[0m g \u001b[38;5;241m=\u001b[39m \u001b[43msns\u001b[49m\u001b[38;5;241;43m.\u001b[39;49m\u001b[43mFacetGrid\u001b[49m\u001b[43m(\u001b[49m\u001b[43mtrain_df\u001b[49m\u001b[43m,\u001b[49m\u001b[43m \u001b[49m\u001b[43mcol\u001b[49m\u001b[38;5;241;43m=\u001b[39;49m\u001b[38;5;124;43m'\u001b[39;49m\u001b[38;5;124;43mtreatment\u001b[39;49m\u001b[38;5;124;43m'\u001b[39;49m\u001b[43m,\u001b[49m\u001b[43m \u001b[49m\u001b[43msize\u001b[49m\u001b[38;5;241;43m=\u001b[39;49m\u001b[38;5;241;43m5\u001b[39;49m\u001b[43m)\u001b[49m\n\u001b[0;32m      2\u001b[0m g \u001b[38;5;241m=\u001b[39m g\u001b[38;5;241m.\u001b[39mmap(sns\u001b[38;5;241m.\u001b[39mdistplot, \u001b[38;5;124m\"\u001b[39m\u001b[38;5;124mAge\u001b[39m\u001b[38;5;124m\"\u001b[39m)\n",
            "\u001b[1;31mTypeError\u001b[0m: FacetGrid.__init__() got an unexpected keyword argument 'size'"
          ]
        }
      ],
      "source": [
        "g = sns.FacetGrid(train_df, col='treatment', size=5)\n",
        "g = g.map(sns.distplot, \"Age\")"
      ]
    },
    {
      "cell_type": "markdown",
      "metadata": {
        "id": "gx9Jwxbwb-Pl"
      },
      "source": [
        "How many people has been treated?"
      ]
    },
    {
      "cell_type": "code",
      "execution_count": 18,
      "metadata": {
        "colab": {
          "base_uri": "https://localhost:8080/",
          "height": 543
        },
        "id": "syKkijhCb5tk",
        "outputId": "6465fbf5-dff2-44f4-943d-8cef7f545e67"
      },
      "outputs": [
        {
          "name": "stderr",
          "output_type": "stream",
          "text": [
            "C:\\Users\\Atharva\\AppData\\Local\\Temp\\ipykernel_26536\\1551376628.py:4: UserWarning: set_ticklabels() should only be used with a fixed number of ticks, i.e. after set_ticks() or using a FixedLocator.\n",
            "  g.set_xticklabels(labels)\n"
          ]
        },
        {
          "data": {
            "text/plain": [
              "Text(0.5, 1.0, 'Total Distribution by treated or not')"
            ]
          },
          "execution_count": 18,
          "metadata": {},
          "output_type": "execute_result"
        },
        {
          "data": {
            "image/png": "[encoded data removed]",
            "text/plain": [
              "<Figure size 1200x800 with 1 Axes>"
            ]
          },
          "metadata": {},
          "output_type": "display_data"
        }
      ],
      "source": [
        "plt.figure(figsize=(12,8))\n",
        "labels = labelDict['label_Gender']\n",
        "g = sns.countplot(x=\"treatment\", data=train_df)\n",
        "g.set_xticklabels(labels)\n",
        "\n",
        "plt.title('Total Distribution by treated or not')"
      ]
    },
    {
      "cell_type": "markdown",
      "metadata": {
        "id": "Y9h-iNvccKcD"
      },
      "source": [
        "Nested barplot to show probabilities for class and sex"
      ]
    },
    {
      "cell_type": "code",
      "execution_count": 20,
      "metadata": {
        "colab": {
          "base_uri": "https://localhost:8080/",
          "height": 464
        },
        "id": "yZli5FghcBwt",
        "outputId": "ed3851d7-9473-4971-d62e-2daa2ab3896f"
      },
      "outputs": [
        {
          "ename": "AttributeError",
          "evalue": "module 'seaborn' has no attribute 'factorplot'",
          "output_type": "error",
          "traceback": [
            "\u001b[1;31m---------------------------------------------------------------------------\u001b[0m",
            "\u001b[1;31mAttributeError\u001b[0m                            Traceback (most recent call last)",
            "Cell \u001b[1;32mIn[20], line 3\u001b[0m\n\u001b[0;32m      1\u001b[0m o \u001b[38;5;241m=\u001b[39m labelDict[\u001b[38;5;124m'\u001b[39m\u001b[38;5;124mlabel_age_range\u001b[39m\u001b[38;5;124m'\u001b[39m]\n\u001b[1;32m----> 3\u001b[0m g \u001b[38;5;241m=\u001b[39m \u001b[43msns\u001b[49m\u001b[38;5;241;43m.\u001b[39;49m\u001b[43mfactorplot\u001b[49m(x\u001b[38;5;241m=\u001b[39m\u001b[38;5;124m\"\u001b[39m\u001b[38;5;124mage_range\u001b[39m\u001b[38;5;124m\"\u001b[39m, y\u001b[38;5;241m=\u001b[39m\u001b[38;5;124m\"\u001b[39m\u001b[38;5;124mtreatment\u001b[39m\u001b[38;5;124m\"\u001b[39m, hue\u001b[38;5;241m=\u001b[39m\u001b[38;5;124m\"\u001b[39m\u001b[38;5;124mGender\u001b[39m\u001b[38;5;124m\"\u001b[39m, data\u001b[38;5;241m=\u001b[39mtrain_df, kind\u001b[38;5;241m=\u001b[39m\u001b[38;5;124m\"\u001b[39m\u001b[38;5;124mbar\u001b[39m\u001b[38;5;124m\"\u001b[39m,  ci\u001b[38;5;241m=\u001b[39m\u001b[38;5;28;01mNone\u001b[39;00m, size\u001b[38;5;241m=\u001b[39m\u001b[38;5;241m5\u001b[39m, aspect\u001b[38;5;241m=\u001b[39m\u001b[38;5;241m2\u001b[39m, legend_out \u001b[38;5;241m=\u001b[39m \u001b[38;5;28;01mTrue\u001b[39;00m)\n\u001b[0;32m      4\u001b[0m g\u001b[38;5;241m.\u001b[39mset_xticklabels(o)\n\u001b[0;32m      6\u001b[0m plt\u001b[38;5;241m.\u001b[39mtitle(\u001b[38;5;124m'\u001b[39m\u001b[38;5;124mProbability of mental health condition\u001b[39m\u001b[38;5;124m'\u001b[39m)\n",
            "\u001b[1;31mAttributeError\u001b[0m: module 'seaborn' has no attribute 'factorplot'"
          ]
        }
      ],
      "source": [
        "o = labelDict['label_age_range']\n",
        "\n",
        "g = sns.factorplot(x=\"age_range\", y=\"treatment\", hue=\"Gender\", data=train_df, kind=\"bar\",  ci=None, size=5, aspect=2, legend_out = True)\n",
        "g.set_xticklabels(o)\n",
        "\n",
        "plt.title('Probability of mental health condition')\n",
        "plt.ylabel('Probability x 100')\n",
        "plt.xlabel('Age')\n",
        "# replace legend labels\n",
        "\n",
        "new_labels = labelDict['label_Gender']\n",
        "for t, l in zip(g._legend.texts, new_labels): t.set_text(l)\n",
        "\n",
        "# Positioning the legend\n",
        "g.fig.subplots_adjust(top=0.9,right=0.8)\n",
        "\n",
        "plt.show()"
      ]
    },
    {
      "cell_type": "markdown",
      "metadata": {
        "id": "DmthbxoXcYE1"
      },
      "source": [
        "Barplot to show probabilities for family history"
      ]
    },
    {
      "cell_type": "code",
      "execution_count": 21,
      "metadata": {
        "colab": {
          "base_uri": "https://localhost:8080/",
          "height": 464
        },
        "id": "UoUsvFVRcPe2",
        "outputId": "54879c9e-a8c4-4e5c-cfc5-93c9af4ed62c"
      },
      "outputs": [
        {
          "ename": "AttributeError",
          "evalue": "module 'seaborn' has no attribute 'factorplot'",
          "output_type": "error",
          "traceback": [
            "\u001b[1;31m---------------------------------------------------------------------------\u001b[0m",
            "\u001b[1;31mAttributeError\u001b[0m                            Traceback (most recent call last)",
            "Cell \u001b[1;32mIn[21], line 2\u001b[0m\n\u001b[0;32m      1\u001b[0m o \u001b[38;5;241m=\u001b[39m labelDict[\u001b[38;5;124m'\u001b[39m\u001b[38;5;124mlabel_family_history\u001b[39m\u001b[38;5;124m'\u001b[39m]\n\u001b[1;32m----> 2\u001b[0m g \u001b[38;5;241m=\u001b[39m \u001b[43msns\u001b[49m\u001b[38;5;241;43m.\u001b[39;49m\u001b[43mfactorplot\u001b[49m(x\u001b[38;5;241m=\u001b[39m\u001b[38;5;124m\"\u001b[39m\u001b[38;5;124mfamily_history\u001b[39m\u001b[38;5;124m\"\u001b[39m, y\u001b[38;5;241m=\u001b[39m\u001b[38;5;124m\"\u001b[39m\u001b[38;5;124mtreatment\u001b[39m\u001b[38;5;124m\"\u001b[39m, hue\u001b[38;5;241m=\u001b[39m\u001b[38;5;124m\"\u001b[39m\u001b[38;5;124mGender\u001b[39m\u001b[38;5;124m\"\u001b[39m, data\u001b[38;5;241m=\u001b[39mtrain_df, kind\u001b[38;5;241m=\u001b[39m\u001b[38;5;124m\"\u001b[39m\u001b[38;5;124mbar\u001b[39m\u001b[38;5;124m\"\u001b[39m, ci\u001b[38;5;241m=\u001b[39m\u001b[38;5;28;01mNone\u001b[39;00m, size\u001b[38;5;241m=\u001b[39m\u001b[38;5;241m5\u001b[39m, aspect\u001b[38;5;241m=\u001b[39m\u001b[38;5;241m2\u001b[39m, legend_out \u001b[38;5;241m=\u001b[39m \u001b[38;5;28;01mTrue\u001b[39;00m)\n\u001b[0;32m      3\u001b[0m g\u001b[38;5;241m.\u001b[39mset_xticklabels(o)\n\u001b[0;32m      4\u001b[0m plt\u001b[38;5;241m.\u001b[39mtitle(\u001b[38;5;124m'\u001b[39m\u001b[38;5;124mProbability of mental health condition\u001b[39m\u001b[38;5;124m'\u001b[39m)\n",
            "\u001b[1;31mAttributeError\u001b[0m: module 'seaborn' has no attribute 'factorplot'"
          ]
        }
      ],
      "source": [
        "o = labelDict['label_family_history']\n",
        "g = sns.factorplot(x=\"family_history\", y=\"treatment\", hue=\"Gender\", data=train_df, kind=\"bar\", ci=None, size=5, aspect=2, legend_out = True)\n",
        "g.set_xticklabels(o)\n",
        "plt.title('Probability of mental health condition')\n",
        "plt.ylabel('Probability x 100')\n",
        "plt.xlabel('Family History')\n",
        "\n",
        "# replace legend labels\n",
        "new_labels = labelDict['label_Gender']\n",
        "for t, l in zip(g._legend.texts, new_labels): t.set_text(l)\n",
        "\n",
        "# Positioning the legend\n",
        "g.fig.subplots_adjust(top=0.9,right=0.8)\n",
        "\n",
        "plt.show()"
      ]
    },
    {
      "cell_type": "markdown",
      "metadata": {
        "id": "Fqj4LICwcgrN"
      },
      "source": [
        "Barplot to show probabilities for care options"
      ]
    },
    {
      "cell_type": "code",
      "execution_count": 22,
      "metadata": {
        "colab": {
          "base_uri": "https://localhost:8080/",
          "height": 464
        },
        "id": "pKB-tQO3cbq_",
        "outputId": "b5a5748c-bfac-4619-b393-1bbf997e1271"
      },
      "outputs": [
        {
          "ename": "AttributeError",
          "evalue": "module 'seaborn' has no attribute 'factorplot'",
          "output_type": "error",
          "traceback": [
            "\u001b[1;31m---------------------------------------------------------------------------\u001b[0m",
            "\u001b[1;31mAttributeError\u001b[0m                            Traceback (most recent call last)",
            "Cell \u001b[1;32mIn[22], line 2\u001b[0m\n\u001b[0;32m      1\u001b[0m o \u001b[38;5;241m=\u001b[39m labelDict[\u001b[38;5;124m'\u001b[39m\u001b[38;5;124mlabel_care_options\u001b[39m\u001b[38;5;124m'\u001b[39m]\n\u001b[1;32m----> 2\u001b[0m g \u001b[38;5;241m=\u001b[39m \u001b[43msns\u001b[49m\u001b[38;5;241;43m.\u001b[39;49m\u001b[43mfactorplot\u001b[49m(x\u001b[38;5;241m=\u001b[39m\u001b[38;5;124m\"\u001b[39m\u001b[38;5;124mcare_options\u001b[39m\u001b[38;5;124m\"\u001b[39m, y\u001b[38;5;241m=\u001b[39m\u001b[38;5;124m\"\u001b[39m\u001b[38;5;124mtreatment\u001b[39m\u001b[38;5;124m\"\u001b[39m, hue\u001b[38;5;241m=\u001b[39m\u001b[38;5;124m\"\u001b[39m\u001b[38;5;124mGender\u001b[39m\u001b[38;5;124m\"\u001b[39m, data\u001b[38;5;241m=\u001b[39mtrain_df, kind\u001b[38;5;241m=\u001b[39m\u001b[38;5;124m\"\u001b[39m\u001b[38;5;124mbar\u001b[39m\u001b[38;5;124m\"\u001b[39m, ci\u001b[38;5;241m=\u001b[39m\u001b[38;5;28;01mNone\u001b[39;00m, size\u001b[38;5;241m=\u001b[39m\u001b[38;5;241m5\u001b[39m, aspect\u001b[38;5;241m=\u001b[39m\u001b[38;5;241m2\u001b[39m, legend_out \u001b[38;5;241m=\u001b[39m \u001b[38;5;28;01mTrue\u001b[39;00m)\n\u001b[0;32m      3\u001b[0m g\u001b[38;5;241m.\u001b[39mset_xticklabels(o)\n\u001b[0;32m      4\u001b[0m plt\u001b[38;5;241m.\u001b[39mtitle(\u001b[38;5;124m'\u001b[39m\u001b[38;5;124mProbability of mental health condition\u001b[39m\u001b[38;5;124m'\u001b[39m)\n",
            "\u001b[1;31mAttributeError\u001b[0m: module 'seaborn' has no attribute 'factorplot'"
          ]
        }
      ],
      "source": [
        "o = labelDict['label_care_options']\n",
        "g = sns.factorplot(x=\"care_options\", y=\"treatment\", hue=\"Gender\", data=train_df, kind=\"bar\", ci=None, size=5, aspect=2, legend_out = True)\n",
        "g.set_xticklabels(o)\n",
        "plt.title('Probability of mental health condition')\n",
        "plt.ylabel('Probability x 100')\n",
        "plt.xlabel('Care options')\n",
        "\n",
        "# replace legend labels\n",
        "new_labels = labelDict['label_Gender']\n",
        "for t, l in zip(g._legend.texts, new_labels): t.set_text(l)\n",
        "\n",
        "# Positioning the legend\n",
        "g.fig.subplots_adjust(top=0.9,right=0.8)\n",
        "plt.show()"
      ]
    },
    {
      "cell_type": "markdown",
      "metadata": {
        "id": "oukVHMQwcozL"
      },
      "source": [
        "Barplot to show probabilities for benefits\n",
        "\n"
      ]
    },
    {
      "cell_type": "code",
      "execution_count": 23,
      "metadata": {
        "colab": {
          "base_uri": "https://localhost:8080/",
          "height": 464
        },
        "id": "cW3ykFSYckMt",
        "outputId": "99658ce7-d4a4-46b6-a0ed-62b6a6368740"
      },
      "outputs": [
        {
          "ename": "AttributeError",
          "evalue": "module 'seaborn' has no attribute 'factorplot'",
          "output_type": "error",
          "traceback": [
            "\u001b[1;31m---------------------------------------------------------------------------\u001b[0m",
            "\u001b[1;31mAttributeError\u001b[0m                            Traceback (most recent call last)",
            "Cell \u001b[1;32mIn[23], line 2\u001b[0m\n\u001b[0;32m      1\u001b[0m o \u001b[38;5;241m=\u001b[39m labelDict[\u001b[38;5;124m'\u001b[39m\u001b[38;5;124mlabel_benefits\u001b[39m\u001b[38;5;124m'\u001b[39m]\n\u001b[1;32m----> 2\u001b[0m g \u001b[38;5;241m=\u001b[39m \u001b[43msns\u001b[49m\u001b[38;5;241;43m.\u001b[39;49m\u001b[43mfactorplot\u001b[49m(x\u001b[38;5;241m=\u001b[39m\u001b[38;5;124m\"\u001b[39m\u001b[38;5;124mcare_options\u001b[39m\u001b[38;5;124m\"\u001b[39m, y\u001b[38;5;241m=\u001b[39m\u001b[38;5;124m\"\u001b[39m\u001b[38;5;124mtreatment\u001b[39m\u001b[38;5;124m\"\u001b[39m, hue\u001b[38;5;241m=\u001b[39m\u001b[38;5;124m\"\u001b[39m\u001b[38;5;124mGender\u001b[39m\u001b[38;5;124m\"\u001b[39m, data\u001b[38;5;241m=\u001b[39mtrain_df, kind\u001b[38;5;241m=\u001b[39m\u001b[38;5;124m\"\u001b[39m\u001b[38;5;124mbar\u001b[39m\u001b[38;5;124m\"\u001b[39m, ci\u001b[38;5;241m=\u001b[39m\u001b[38;5;28;01mNone\u001b[39;00m, size\u001b[38;5;241m=\u001b[39m\u001b[38;5;241m5\u001b[39m, aspect\u001b[38;5;241m=\u001b[39m\u001b[38;5;241m2\u001b[39m, legend_out \u001b[38;5;241m=\u001b[39m \u001b[38;5;28;01mTrue\u001b[39;00m)\n\u001b[0;32m      3\u001b[0m g\u001b[38;5;241m.\u001b[39mset_xticklabels(o)\n\u001b[0;32m      4\u001b[0m plt\u001b[38;5;241m.\u001b[39mtitle(\u001b[38;5;124m'\u001b[39m\u001b[38;5;124mProbability of mental health condition\u001b[39m\u001b[38;5;124m'\u001b[39m)\n",
            "\u001b[1;31mAttributeError\u001b[0m: module 'seaborn' has no attribute 'factorplot'"
          ]
        }
      ],
      "source": [
        "o = labelDict['label_benefits']\n",
        "g = sns.factorplot(x=\"care_options\", y=\"treatment\", hue=\"Gender\", data=train_df, kind=\"bar\", ci=None, size=5, aspect=2, legend_out = True)\n",
        "g.set_xticklabels(o)\n",
        "plt.title('Probability of mental health condition')\n",
        "plt.ylabel('Probability x 100')\n",
        "plt.xlabel('Benefits')\n",
        "\n",
        "# replace legend labels\n",
        "new_labels = labelDict['label_Gender']\n",
        "for t, l in zip(g._legend.texts, new_labels): t.set_text(l)\n",
        "\n",
        "# Positioning the legend\n",
        "g.fig.subplots_adjust(top=0.9,right=0.8)\n",
        "plt.show()"
      ]
    },
    {
      "cell_type": "markdown",
      "metadata": {
        "id": "B6CnGdrrcwqU"
      },
      "source": [
        "Barplot to show probabilities for work interfere\n",
        "\n"
      ]
    },
    {
      "cell_type": "code",
      "execution_count": null,
      "metadata": {
        "colab": {
          "base_uri": "https://localhost:8080/",
          "height": 464
        },
        "id": "RQVddZv3ctIZ",
        "outputId": "9f28883b-8b00-467d-cd55-8cc97f7cd8ca"
      },
      "outputs": [],
      "source": [
        "o = labelDict['label_work_interfere']\n",
        "g = sns.factorplot(x=\"work_interfere\", y=\"treatment\", hue=\"Gender\", data=train_df, kind=\"bar\", ci=None, size=5, aspect=2, legend_out = True)\n",
        "g.set_xticklabels(o)\n",
        "plt.title('Probability of mental health condition')\n",
        "plt.ylabel('Probability x 100')\n",
        "plt.xlabel('Work interfere')\n",
        "\n",
        "# replace legend labels\n",
        "new_labels = labelDict['label_Gender']\n",
        "for t, l in zip(g._legend.texts, new_labels): t.set_text(l)\n",
        "\n",
        "# Positioning the legend\n",
        "g.fig.subplots_adjust(top=0.9,right=0.8)\n",
        "plt.show()"
      ]
    },
    {
      "cell_type": "markdown",
      "metadata": {
        "id": "CaJjYfbtc7S3"
      },
      "source": [
        "#Scaling and Fitting"
      ]
    },
    {
      "cell_type": "markdown",
      "metadata": {
        "id": "eSN4p5CWc_4z"
      },
      "source": [
        "Features Scaling We're going to scale age, because is extremely different from the othere ones.\n",
        "\n"
      ]
    },
    {
      "cell_type": "code",
      "execution_count": 24,
      "metadata": {
        "colab": {
          "base_uri": "https://localhost:8080/",
          "height": 224
        },
        "id": "E8CEx69mc0Ff",
        "outputId": "d631bcaf-402c-48ff-fd6d-aee434e81b8e"
      },
      "outputs": [
        {
          "data": {
            "application/vnd.microsoft.datawrangler.viewer.v0+json": {
              "columns": [
                {
                  "name": "index",
                  "rawType": "int64",
                  "type": "integer"
                },
                {
                  "name": "Age",
                  "rawType": "float64",
                  "type": "float"
                },
                {
                  "name": "Gender",
                  "rawType": "int32",
                  "type": "integer"
                },
                {
                  "name": "self_employed",
                  "rawType": "int32",
                  "type": "integer"
                },
                {
                  "name": "family_history",
                  "rawType": "int32",
                  "type": "integer"
                },
                {
                  "name": "treatment",
                  "rawType": "int32",
                  "type": "integer"
                },
                {
                  "name": "work_interfere",
                  "rawType": "int32",
                  "type": "integer"
                },
                {
                  "name": "no_employees",
                  "rawType": "int32",
                  "type": "integer"
                },
                {
                  "name": "remote_work",
                  "rawType": "int32",
                  "type": "integer"
                },
                {
                  "name": "tech_company",
                  "rawType": "int32",
                  "type": "integer"
                },
                {
                  "name": "benefits",
                  "rawType": "int32",
                  "type": "integer"
                },
                {
                  "name": "care_options",
                  "rawType": "int32",
                  "type": "integer"
                },
                {
                  "name": "wellness_program",
                  "rawType": "int32",
                  "type": "integer"
                },
                {
                  "name": "seek_help",
                  "rawType": "int32",
                  "type": "integer"
                },
                {
                  "name": "anonymity",
                  "rawType": "int32",
                  "type": "integer"
                },
                {
                  "name": "leave",
                  "rawType": "int32",
                  "type": "integer"
                },
                {
                  "name": "mental_health_consequence",
                  "rawType": "int32",
                  "type": "integer"
                },
                {
                  "name": "phys_health_consequence",
                  "rawType": "int32",
                  "type": "integer"
                },
                {
                  "name": "coworkers",
                  "rawType": "int32",
                  "type": "integer"
                },
                {
                  "name": "supervisor",
                  "rawType": "int32",
                  "type": "integer"
                },
                {
                  "name": "mental_health_interview",
                  "rawType": "int32",
                  "type": "integer"
                },
                {
                  "name": "phys_health_interview",
                  "rawType": "int32",
                  "type": "integer"
                },
                {
                  "name": "mental_vs_physical",
                  "rawType": "int32",
                  "type": "integer"
                },
                {
                  "name": "obs_consequence",
                  "rawType": "int32",
                  "type": "integer"
                },
                {
                  "name": "age_range",
                  "rawType": "int32",
                  "type": "integer"
                }
              ],
              "conversionMethod": "pd.DataFrame",
              "ref": "8de5b673-be40-44ce-a581-ad75f91c5d64",
              "rows": [
                [
                  "0",
                  "0.4318181818181818",
                  "0",
                  "0",
                  "0",
                  "1",
                  "2",
                  "4",
                  "0",
                  "1",
                  "2",
                  "1",
                  "1",
                  "2",
                  "2",
                  "2",
                  "1",
                  "1",
                  "1",
                  "2",
                  "1",
                  "0",
                  "2",
                  "0",
                  "2"
                ],
                [
                  "1",
                  "0.5909090909090909",
                  "1",
                  "0",
                  "0",
                  "0",
                  "3",
                  "5",
                  "0",
                  "0",
                  "0",
                  "0",
                  "0",
                  "0",
                  "0",
                  "0",
                  "0",
                  "1",
                  "0",
                  "0",
                  "1",
                  "1",
                  "0",
                  "0",
                  "2"
                ],
                [
                  "2",
                  "0.3181818181818182",
                  "1",
                  "0",
                  "0",
                  "0",
                  "3",
                  "4",
                  "0",
                  "1",
                  "1",
                  "0",
                  "1",
                  "1",
                  "0",
                  "1",
                  "1",
                  "1",
                  "2",
                  "2",
                  "2",
                  "2",
                  "1",
                  "0",
                  "2"
                ],
                [
                  "3",
                  "0.29545454545454547",
                  "1",
                  "0",
                  "1",
                  "1",
                  "2",
                  "2",
                  "0",
                  "1",
                  "1",
                  "2",
                  "1",
                  "1",
                  "1",
                  "1",
                  "2",
                  "2",
                  "1",
                  "0",
                  "0",
                  "0",
                  "1",
                  "1",
                  "2"
                ],
                [
                  "4",
                  "0.29545454545454547",
                  "1",
                  "0",
                  "0",
                  "0",
                  "1",
                  "1",
                  "1",
                  "1",
                  "2",
                  "0",
                  "0",
                  "0",
                  "0",
                  "0",
                  "1",
                  "1",
                  "1",
                  "2",
                  "2",
                  "2",
                  "0",
                  "0",
                  "2"
                ]
              ],
              "shape": {
                "columns": 24,
                "rows": 5
              }
            },
            "text/html": [
              "<div>\n",
              "<style scoped>\n",
              "    .dataframe tbody tr th:only-of-type {\n",
              "        vertical-align: middle;\n",
              "    }\n",
              "\n",
              "    .dataframe tbody tr th {\n",
              "        vertical-align: top;\n",
              "    }\n",
              "\n",
              "    .dataframe thead th {\n",
              "        text-align: right;\n",
              "    }\n",
              "</style>\n",
              "<table border=\"1\" class=\"dataframe\">\n",
              "  <thead>\n",
              "    <tr style=\"text-align: right;\">\n",
              "      <th></th>\n",
              "      <th>Age</th>\n",
              "      <th>Gender</th>\n",
              "      <th>self_employed</th>\n",
              "      <th>family_history</th>\n",
              "      <th>treatment</th>\n",
              "      <th>work_interfere</th>\n",
              "      <th>no_employees</th>\n",
              "      <th>remote_work</th>\n",
              "      <th>tech_company</th>\n",
              "      <th>benefits</th>\n",
              "      <th>...</th>\n",
              "      <th>leave</th>\n",
              "      <th>mental_health_consequence</th>\n",
              "      <th>phys_health_consequence</th>\n",
              "      <th>coworkers</th>\n",
              "      <th>supervisor</th>\n",
              "      <th>mental_health_interview</th>\n",
              "      <th>phys_health_interview</th>\n",
              "      <th>mental_vs_physical</th>\n",
              "      <th>obs_consequence</th>\n",
              "      <th>age_range</th>\n",
              "    </tr>\n",
              "  </thead>\n",
              "  <tbody>\n",
              "    <tr>\n",
              "      <th>0</th>\n",
              "      <td>0.431818</td>\n",
              "      <td>0</td>\n",
              "      <td>0</td>\n",
              "      <td>0</td>\n",
              "      <td>1</td>\n",
              "      <td>2</td>\n",
              "      <td>4</td>\n",
              "      <td>0</td>\n",
              "      <td>1</td>\n",
              "      <td>2</td>\n",
              "      <td>...</td>\n",
              "      <td>2</td>\n",
              "      <td>1</td>\n",
              "      <td>1</td>\n",
              "      <td>1</td>\n",
              "      <td>2</td>\n",
              "      <td>1</td>\n",
              "      <td>0</td>\n",
              "      <td>2</td>\n",
              "      <td>0</td>\n",
              "      <td>2</td>\n",
              "    </tr>\n",
              "    <tr>\n",
              "      <th>1</th>\n",
              "      <td>0.590909</td>\n",
              "      <td>1</td>\n",
              "      <td>0</td>\n",
              "      <td>0</td>\n",
              "      <td>0</td>\n",
              "      <td>3</td>\n",
              "      <td>5</td>\n",
              "      <td>0</td>\n",
              "      <td>0</td>\n",
              "      <td>0</td>\n",
              "      <td>...</td>\n",
              "      <td>0</td>\n",
              "      <td>0</td>\n",
              "      <td>1</td>\n",
              "      <td>0</td>\n",
              "      <td>0</td>\n",
              "      <td>1</td>\n",
              "      <td>1</td>\n",
              "      <td>0</td>\n",
              "      <td>0</td>\n",
              "      <td>2</td>\n",
              "    </tr>\n",
              "    <tr>\n",
              "      <th>2</th>\n",
              "      <td>0.318182</td>\n",
              "      <td>1</td>\n",
              "      <td>0</td>\n",
              "      <td>0</td>\n",
              "      <td>0</td>\n",
              "      <td>3</td>\n",
              "      <td>4</td>\n",
              "      <td>0</td>\n",
              "      <td>1</td>\n",
              "      <td>1</td>\n",
              "      <td>...</td>\n",
              "      <td>1</td>\n",
              "      <td>1</td>\n",
              "      <td>1</td>\n",
              "      <td>2</td>\n",
              "      <td>2</td>\n",
              "      <td>2</td>\n",
              "      <td>2</td>\n",
              "      <td>1</td>\n",
              "      <td>0</td>\n",
              "      <td>2</td>\n",
              "    </tr>\n",
              "    <tr>\n",
              "      <th>3</th>\n",
              "      <td>0.295455</td>\n",
              "      <td>1</td>\n",
              "      <td>0</td>\n",
              "      <td>1</td>\n",
              "      <td>1</td>\n",
              "      <td>2</td>\n",
              "      <td>2</td>\n",
              "      <td>0</td>\n",
              "      <td>1</td>\n",
              "      <td>1</td>\n",
              "      <td>...</td>\n",
              "      <td>1</td>\n",
              "      <td>2</td>\n",
              "      <td>2</td>\n",
              "      <td>1</td>\n",
              "      <td>0</td>\n",
              "      <td>0</td>\n",
              "      <td>0</td>\n",
              "      <td>1</td>\n",
              "      <td>1</td>\n",
              "      <td>2</td>\n",
              "    </tr>\n",
              "    <tr>\n",
              "      <th>4</th>\n",
              "      <td>0.295455</td>\n",
              "      <td>1</td>\n",
              "      <td>0</td>\n",
              "      <td>0</td>\n",
              "      <td>0</td>\n",
              "      <td>1</td>\n",
              "      <td>1</td>\n",
              "      <td>1</td>\n",
              "      <td>1</td>\n",
              "      <td>2</td>\n",
              "      <td>...</td>\n",
              "      <td>0</td>\n",
              "      <td>1</td>\n",
              "      <td>1</td>\n",
              "      <td>1</td>\n",
              "      <td>2</td>\n",
              "      <td>2</td>\n",
              "      <td>2</td>\n",
              "      <td>0</td>\n",
              "      <td>0</td>\n",
              "      <td>2</td>\n",
              "    </tr>\n",
              "  </tbody>\n",
              "</table>\n",
              "<p>5 rows × 24 columns</p>\n",
              "</div>"
            ],
            "text/plain": [
              "        Age  Gender  self_employed  family_history  treatment  work_interfere  \\\n",
              "0  0.431818       0              0               0          1               2   \n",
              "1  0.590909       1              0               0          0               3   \n",
              "2  0.318182       1              0               0          0               3   \n",
              "3  0.295455       1              0               1          1               2   \n",
              "4  0.295455       1              0               0          0               1   \n",
              "\n",
              "   no_employees  remote_work  tech_company  benefits  ...  leave  \\\n",
              "0             4            0             1         2  ...      2   \n",
              "1             5            0             0         0  ...      0   \n",
              "2             4            0             1         1  ...      1   \n",
              "3             2            0             1         1  ...      1   \n",
              "4             1            1             1         2  ...      0   \n",
              "\n",
              "   mental_health_consequence  phys_health_consequence  coworkers  supervisor  \\\n",
              "0                          1                        1          1           2   \n",
              "1                          0                        1          0           0   \n",
              "2                          1                        1          2           2   \n",
              "3                          2                        2          1           0   \n",
              "4                          1                        1          1           2   \n",
              "\n",
              "   mental_health_interview  phys_health_interview  mental_vs_physical  \\\n",
              "0                        1                      0                   2   \n",
              "1                        1                      1                   0   \n",
              "2                        2                      2                   1   \n",
              "3                        0                      0                   1   \n",
              "4                        2                      2                   0   \n",
              "\n",
              "   obs_consequence  age_range  \n",
              "0                0          2  \n",
              "1                0          2  \n",
              "2                0          2  \n",
              "3                1          2  \n",
              "4                0          2  \n",
              "\n",
              "[5 rows x 24 columns]"
            ]
          },
          "execution_count": 24,
          "metadata": {},
          "output_type": "execute_result"
        }
      ],
      "source": [
        "# Scaling Age\n",
        "scaler = MinMaxScaler()\n",
        "train_df['Age'] = scaler.fit_transform(train_df[['Age']])\n",
        "train_df.head()"
      ]
    },
    {
      "cell_type": "markdown",
      "metadata": {
        "id": "emP7M76leCr2"
      },
      "source": [
        "Spilitting Dataset"
      ]
    },
    {
      "cell_type": "code",
      "execution_count": 25,
      "metadata": {
        "id": "d4PCK9kudFlM"
      },
      "outputs": [],
      "source": [
        "# define X and y\n",
        "feature_cols = ['Age', 'Gender', 'family_history', 'benefits', 'care_options', 'anonymity', 'leave', 'work_interfere']\n",
        "X = train_df[feature_cols]\n",
        "y = train_df.treatment\n",
        "\n",
        "# split X and y into training and testing sets\n",
        "X_train, X_test, y_train, y_test = train_test_split(X, y, test_size=0.30, random_state=0)\n",
        "\n",
        "# Create dictionaries for final graph\n",
        "# Use: methodDict['Stacking'] = accuracy_score\n",
        "methodDict = {}\n",
        "rmseDict = ()"
      ]
    },
    {
      "cell_type": "code",
      "execution_count": 26,
      "metadata": {
        "colab": {
          "base_uri": "https://localhost:8080/",
          "height": 593
        },
        "id": "DJ-Fn4EeeJ7v",
        "outputId": "df7dea02-3bd8-421b-8b75-7c91a01f1605"
      },
      "outputs": [
        {
          "data": {
            "image/png": "[encoded data removed]",
            "text/plain": [
              "<Figure size 1200x800 with 1 Axes>"
            ]
          },
          "metadata": {},
          "output_type": "display_data"
        }
      ],
      "source": [
        "# Build a forest and compute the feature importances\n",
        "forest = ExtraTreesClassifier(n_estimators=250,\n",
        "                              random_state=0)\n",
        "\n",
        "forest.fit(X, y)\n",
        "importances = forest.feature_importances_\n",
        "std = np.std([tree.feature_importances_ for tree in forest.estimators_],\n",
        "             axis=0)\n",
        "indices = np.argsort(importances)[::-1]\n",
        "\n",
        "labels = []\n",
        "for f in range(X.shape[1]):\n",
        "    labels.append(feature_cols[f])      \n",
        "    \n",
        "# Plot the feature importances of the forest\n",
        "plt.figure(figsize=(12,8))\n",
        "plt.title(\"Feature importances\")\n",
        "plt.bar(range(X.shape[1]), importances[indices],\n",
        "       color=\"r\", yerr=std[indices], align=\"center\")\n",
        "plt.xticks(range(X.shape[1]), labels, rotation='vertical')\n",
        "plt.xlim([-1, X.shape[1]])\n",
        "plt.show()"
      ]
    },
    {
      "cell_type": "markdown",
      "metadata": {
        "id": "J2wG6BfSeSVo"
      },
      "source": [
        "#Tuning"
      ]
    },
    {
      "cell_type": "code",
      "execution_count": 27,
      "metadata": {
        "id": "rqq2ECp2eOKh"
      },
      "outputs": [],
      "source": [
        "def evalClassModel(model, y_test, y_pred_class, plot=False):\n",
        "    #Classification accuracy: percentage of correct predictions\n",
        "    # calculate accuracy\n",
        "    print('Accuracy:', metrics.accuracy_score(y_test, y_pred_class))\n",
        "    \n",
        "    #Null accuracy: accuracy that could be achieved by always predicting the most frequent class\n",
        "    # examine the class distribution of the testing set (using a Pandas Series method)\n",
        "    print('Null accuracy:\\n', y_test.value_counts())\n",
        "    \n",
        "    # calculate the percentage of ones\n",
        "    print('Percentage of ones:', y_test.mean())\n",
        "    \n",
        "    # calculate the percentage of zeros\n",
        "    print('Percentage of zeros:',1 - y_test.mean())\n",
        "    \n",
        "    #Comparing the true and predicted response values\n",
        "    print('True:', y_test.values[0:25])\n",
        "    print('Pred:', y_pred_class[0:25])\n",
        "    \n",
        "    #Confusion matrix\n",
        "    # save confusion matrix and slice into four pieces\n",
        "    confusion = metrics.confusion_matrix(y_test, y_pred_class)\n",
        "    #[row, column]\n",
        "    TP = confusion[1, 1]\n",
        "    TN = confusion[0, 0]\n",
        "    FP = confusion[0, 1]\n",
        "    FN = confusion[1, 0]\n",
        "    \n",
        "    # visualize Confusion Matrix\n",
        "    sns.heatmap(confusion,annot=True,fmt=\"d\") \n",
        "    plt.title('Confusion Matrix')\n",
        "    plt.xlabel('Predicted')\n",
        "    plt.ylabel('Actual')\n",
        "    plt.show()\n",
        "    \n",
        "    #Metrics computed from a confusion matrix\n",
        "    #Classification Accuracy: Overall, how often is the classifier correct?\n",
        "    accuracy = metrics.accuracy_score(y_test, y_pred_class)\n",
        "    print('Classification Accuracy:', accuracy)\n",
        "    \n",
        "    #Classification Error: Overall, how often is the classifier incorrect?\n",
        "    print('Classification Error:', 1 - metrics.accuracy_score(y_test, y_pred_class))\n",
        "    \n",
        "    #False Positive Rate: When the actual value is negative, how often is the prediction incorrect?\n",
        "    false_positive_rate = FP / float(TN + FP)\n",
        "    print('False Positive Rate:', false_positive_rate)\n",
        "    \n",
        "    #Precision: When a positive value is predicted, how often is the prediction correct?\n",
        "    print('Precision:', metrics.precision_score(y_test, y_pred_class))\n",
        "    \n",
        "    \n",
        "    # IMPORTANT: first argument is true values, second argument is predicted probabilities\n",
        "    print('AUC Score:', metrics.roc_auc_score(y_test, y_pred_class))\n",
        "    \n",
        "    # calculate cross-validated AUC\n",
        "    print('Cross-validated AUC:', cross_val_score(model, X, y, cv=10, scoring='roc_auc').mean())\n",
        "    \n",
        "    ##########################################\n",
        "    #Adjusting the classification threshold\n",
        "    ##########################################\n",
        "    # print the first 10 predicted responses\n",
        "    print('First 10 predicted responses:\\n', model.predict(X_test)[0:10])\n",
        "\n",
        "    # print the first 10 predicted probabilities of class membership\n",
        "    print('First 10 predicted probabilities of class members:\\n', model.predict_proba(X_test)[0:10])\n",
        "\n",
        "    # print the first 10 predicted probabilities for class 1\n",
        "    model.predict_proba(X_test)[0:10, 1]\n",
        "    \n",
        "    # store the predicted probabilities for class 1\n",
        "    y_pred_prob = model.predict_proba(X_test)[:, 1]\n",
        "    \n",
        "    if plot == True:\n",
        "        # histogram of predicted probabilities\n",
        "        plt.rcParams['font.size'] = 12\n",
        "        plt.hist(y_pred_prob, bins=8)\n",
        "        \n",
        "        # x-axis limit from 0 to 1\n",
        "        plt.xlim(0,1)\n",
        "        plt.title('Histogram of predicted probabilities')\n",
        "        plt.xlabel('Predicted probability of treatment')\n",
        "        plt.ylabel('Frequency')\n",
        "    \n",
        "    \n",
        "    # predict treatment if the predicted probability is greater than 0.3\n",
        "    # it will return 1 for all values above 0.3 and 0 otherwise\n",
        "    # results are 2D so we slice out the first column\n",
        "    y_pred_prob = y_pred_prob.reshape(-1,1) \n",
        "    y_pred_class = binarize(y_pred_prob, 0.3)[0]\n",
        "    \n",
        "    # print the first 10 predicted probabilities\n",
        "    print('First 10 predicted probabilities:\\n', y_pred_prob[0:10])\n",
        "    \n",
        "    ##########################################\n",
        "    #ROC Curves and Area Under the Curve (AUC)\n",
        "    ##########################################\n",
        "    \n",
        "    #AUC is the percentage of the ROC plot that is underneath the curve\n",
        "    #Higher value = better classifier\n",
        "    roc_auc = metrics.roc_auc_score(y_test, y_pred_prob)\n",
        "    \n",
        "    \n",
        "\n",
        "    # IMPORTANT: first argument is true values, second argument is predicted probabilities\n",
        "    # roc_curve returns 3 objects fpr, tpr, thresholds\n",
        "    # fpr: false positive rate\n",
        "    # tpr: true positive rate\n",
        "    fpr, tpr, thresholds = metrics.roc_curve(y_test, y_pred_prob)\n",
        "    if plot == True:\n",
        "        plt.figure()\n",
        "        \n",
        "        plt.plot(fpr, tpr, color='darkorange', label='ROC curve (area = %0.2f)' % roc_auc)\n",
        "        plt.plot([0, 1], [0, 1], color='navy', linestyle='--')\n",
        "        plt.xlim([0.0, 1.0])\n",
        "        plt.ylim([0.0, 1.0])\n",
        "        plt.rcParams['font.size'] = 12\n",
        "        plt.title('ROC curve for treatment classifier')\n",
        "        plt.xlabel('False Positive Rate (1 - Specificity)')\n",
        "        plt.ylabel('True Positive Rate (Sensitivity)')\n",
        "        plt.legend(loc=\"lower right\")\n",
        "        plt.show()\n",
        "    \n",
        "    # define a function that accepts a threshold and prints sensitivity and specificity\n",
        "    def evaluate_threshold(threshold):\n",
        "        #Sensitivity: When the actual value is positive, how often is the prediction correct?\n",
        "        #Specificity: When the actual value is negative, how often is the prediction correct?print('Sensitivity for ' + str(threshold) + ' :', tpr[thresholds > threshold][-1])\n",
        "        print('Specificity for ' + str(threshold) + ' :', 1 - fpr[thresholds > threshold][-1])\n",
        "\n",
        "    # One way of setting threshold\n",
        "    predict_mine = np.where(y_pred_prob > 0.50, 1, 0)\n",
        "    confusion = metrics.confusion_matrix(y_test, predict_mine)\n",
        "    print(confusion)\n",
        "    \n",
        "    \n",
        "    \n",
        "    return accuracy"
      ]
    },
    {
      "cell_type": "markdown",
      "metadata": {
        "id": "y7tGbmc4fW9C"
      },
      "source": [
        "Tuning with cross validation score"
      ]
    },
    {
      "cell_type": "code",
      "execution_count": 28,
      "metadata": {
        "id": "l9Y7NReefTiV"
      },
      "outputs": [],
      "source": [
        "def tuningCV(knn):\n",
        "    \n",
        "    # search for an optimal value of K for KNN\n",
        "    k_range = list(range(1, 31))\n",
        "    k_scores = []\n",
        "    for k in k_range:\n",
        "        knn = KNeighborsClassifier(n_neighbors=k)\n",
        "        scores = cross_val_score(knn, X, y, cv=10, scoring='accuracy')\n",
        "        k_scores.append(scores.mean())\n",
        "    print(k_scores)\n",
        "    # plot the value of K for KNN (x-axis) versus the cross-validated accuracy (y-axis)\n",
        "    plt.plot(k_range, k_scores)\n",
        "    plt.xlabel('Value of K for KNN')\n",
        "    plt.ylabel('Cross-Validated Accuracy')\n",
        "    plt.show()"
      ]
    },
    {
      "cell_type": "markdown",
      "metadata": {
        "id": "eYytocEofeOE"
      },
      "source": [
        "Tuning with GridSearchCV"
      ]
    },
    {
      "cell_type": "code",
      "execution_count": 29,
      "metadata": {
        "id": "PjE6ARIYfbkd"
      },
      "outputs": [],
      "source": [
        "def tuningGridSerach(knn):\n",
        "    #More efficient parameter tuning using GridSearchCV\n",
        "    k_range = list(range(1, 31))\n",
        "    print(k_range)\n",
        "    \n",
        "    # create a parameter grid: map the parameter names to the values that should be searched\n",
        "    param_grid = dict(n_neighbors=k_range)\n",
        "    print(param_grid)\n",
        "    \n",
        "    # instantiate the grid\n",
        "    grid = GridSearchCV(knn, param_grid, cv=10, scoring='accuracy')\n",
        "\n",
        "    # fit the grid with data\n",
        "    grid.fit(X, y)\n",
        "    \n",
        "    # view the complete results (list of named tuples)\n",
        "    grid.grid_scores_\n",
        "    \n",
        "    # examine the first tuple\n",
        "    print(grid.grid_scores_[0].parameters)\n",
        "    print(grid.grid_scores_[0].cv_validation_scores)\n",
        "    print(grid.grid_scores_[0].mean_validation_score)\n",
        "    \n",
        "    # create a list of the mean scores only\n",
        "    grid_mean_scores = [result.mean_validation_score for result in grid.grid_scores_]\n",
        "    print(grid_mean_scores)\n",
        "    \n",
        "    # plot the results\n",
        "    plt.plot(k_range, grid_mean_scores)\n",
        "    plt.xlabel('Value of K for KNN')\n",
        "    plt.ylabel('Cross-Validated Accuracy')\n",
        "    plt.show()\n",
        "    \n",
        "    # examine the best model\n",
        "    print('GridSearch best score', grid.best_score_)\n",
        "    print('GridSearch best params', grid.best_params_)\n",
        "    print('GridSearch best estimator', grid.best_estimator_)"
      ]
    },
    {
      "cell_type": "markdown",
      "metadata": {
        "id": "pFhg6D_wfrUt"
      },
      "source": [
        "Tuning with RandomizedSearchCV"
      ]
    },
    {
      "cell_type": "code",
      "execution_count": 30,
      "metadata": {
        "id": "VrfBM1XUfoxf"
      },
      "outputs": [],
      "source": [
        "def tuningRandomizedSearchCV(model, param_dist):\n",
        "    #Searching multiple parameters simultaneously\n",
        "    # n_iter controls the number of searches\n",
        "    rand = RandomizedSearchCV(model, param_dist, cv=10, scoring='accuracy', n_iter=10, random_state=5)\n",
        "    rand.fit(X, y)\n",
        "    rand.cv_results_\n",
        "    \n",
        "    # examine the best model\n",
        "    print('Rand. Best Score: ', rand.best_score_)\n",
        "    print('Rand. Best Params: ', rand.best_params_)\n",
        "    \n",
        "    # run RandomizedSearchCV 20 times (with n_iter=10) and record the best score\n",
        "    best_scores = []\n",
        "    for _ in range(20):\n",
        "        rand = RandomizedSearchCV(model, param_dist, cv=10, scoring='accuracy', n_iter=10)\n",
        "        rand.fit(X, y)\n",
        "        best_scores.append(round(rand.best_score_, 3))\n",
        "    print(best_scores)"
      ]
    },
    {
      "cell_type": "markdown",
      "metadata": {
        "id": "vzaS7F-vfzeV"
      },
      "source": [
        "Tuning with searching multiple parameters simultaneously"
      ]
    },
    {
      "cell_type": "code",
      "execution_count": null,
      "metadata": {
        "id": "MeSKD8Abfw94"
      },
      "outputs": [],
      "source": [
        "def tuningMultParam(knn):\n",
        "    \n",
        "    #Searching multiple parameters simultaneously\n",
        "    # define the parameter values that should be searched\n",
        "    k_range = list(range(1, 31))\n",
        "    weight_options = ['uniform', 'distance']\n",
        "        \n",
        "    # create a parameter grid: map the parameter names to the values that should be searched\n",
        "    param_grid = dict(n_neighbors=k_range, weights=weight_options)\n",
        "    print(param_grid) \n",
        "    \n",
        "    # instantiate and fit the grid\n",
        "    grid = GridSearchCV(knn, param_grid, cv=10, scoring='accuracy')\n",
        "    grid.fit(X, y) \n",
        "    \n",
        "    # view the complete results\n",
        "    print(grid.grid_scores_)\n",
        "    \n",
        "    # examine the best model\n",
        "    print('Multiparam. Best Score: ', grid.best_score_)\n",
        "    print('Multiparam. Best Params: ', grid.best_params_)"
      ]
    },
    {
      "cell_type": "markdown",
      "metadata": {
        "id": "uNWD9dq3f8Ef"
      },
      "source": [
        "#Evaluating models"
      ]
    },
    {
      "cell_type": "markdown",
      "metadata": {
        "id": "_f2FmsFZf94S"
      },
      "source": [
        "Logistic Regression"
      ]
    },
    {
      "cell_type": "code",
      "execution_count": 31,
      "metadata": {
        "id": "ZMZS5dMKf5vw"
      },
      "outputs": [],
      "source": [
        "def logisticRegression():\n",
        "    # train a logistic regression model on the training set\n",
        "    logreg = LogisticRegression()\n",
        "    logreg.fit(X_train, y_train)\n",
        "    \n",
        "    # make class predictions for the testing set\n",
        "    y_pred_class = logreg.predict(X_test)\n",
        "    \n",
        "    accuracy_score = evalClassModel(logreg, y_test, y_pred_class, True)\n",
        "    \n",
        "    #Data for final graph\n",
        "    methodDict['Log. Regression'] = accuracy_score * 100\n"
      ]
    },
    {
      "cell_type": "code",
      "execution_count": 32,
      "metadata": {
        "colab": {
          "base_uri": "https://localhost:8080/",
          "height": 1000
        },
        "id": "LGt-pyy9gHF1",
        "outputId": "d78f7efd-6448-4018-fa6d-8b5125727b92"
      },
      "outputs": [
        {
          "name": "stdout",
          "output_type": "stream",
          "text": [
            "Accuracy: 0.7936507936507936\n",
            "Null accuracy:\n",
            " treatment\n",
            "0    191\n",
            "1    187\n",
            "Name: count, dtype: int64\n",
            "Percentage of ones: 0.4947089947089947\n",
            "Percentage of zeros: 0.5052910052910053\n",
            "True: [0 0 0 0 0 0 0 0 1 1 0 1 1 0 1 1 0 1 0 0 0 1 1 0 0]\n",
            "Pred: [1 0 0 0 1 1 0 1 0 1 0 1 1 0 1 1 1 1 0 0 0 0 1 0 0]\n"
          ]
        },
        {
          "data": {
            "image/png": "[encoded data removed]",
            "text/plain": [
              "<Figure size 640x480 with 2 Axes>"
            ]
          },
          "metadata": {},
          "output_type": "display_data"
        },
        {
          "name": "stdout",
          "output_type": "stream",
          "text": [
            "Classification Accuracy: 0.7936507936507936\n",
            "Classification Error: 0.2063492063492064\n",
            "False Positive Rate: 0.25654450261780104\n",
            "Precision: 0.7632850241545893\n",
            "AUC Score: 0.794187641739228\n",
            "Cross-validated AUC: 0.8753371866593114\n",
            "First 10 predicted responses:\n",
            " [1 0 0 0 1 1 0 1 0 1]\n",
            "First 10 predicted probabilities of class members:\n",
            " [[0.09192784 0.90807216]\n",
            " [0.95998457 0.04001543]\n",
            " [0.96552072 0.03447928]\n",
            " [0.78739197 0.21260803]\n",
            " [0.38947126 0.61052874]\n",
            " [0.05256967 0.94743033]\n",
            " [0.75023269 0.24976731]\n",
            " [0.19037376 0.80962624]\n",
            " [0.61623206 0.38376794]\n",
            " [0.4769296  0.5230704 ]]\n"
          ]
        },
        {
          "ename": "TypeError",
          "evalue": "too many positional arguments",
          "output_type": "error",
          "traceback": [
            "\u001b[1;31m---------------------------------------------------------------------------\u001b[0m",
            "\u001b[1;31mTypeError\u001b[0m                                 Traceback (most recent call last)",
            "Cell \u001b[1;32mIn[32], line 1\u001b[0m\n\u001b[1;32m----> 1\u001b[0m \u001b[43mlogisticRegression\u001b[49m\u001b[43m(\u001b[49m\u001b[43m)\u001b[49m\n",
            "Cell \u001b[1;32mIn[31], line 9\u001b[0m, in \u001b[0;36mlogisticRegression\u001b[1;34m()\u001b[0m\n\u001b[0;32m      6\u001b[0m \u001b[38;5;66;03m# make class predictions for the testing set\u001b[39;00m\n\u001b[0;32m      7\u001b[0m y_pred_class \u001b[38;5;241m=\u001b[39m logreg\u001b[38;5;241m.\u001b[39mpredict(X_test)\n\u001b[1;32m----> 9\u001b[0m accuracy_score \u001b[38;5;241m=\u001b[39m \u001b[43mevalClassModel\u001b[49m\u001b[43m(\u001b[49m\u001b[43mlogreg\u001b[49m\u001b[43m,\u001b[49m\u001b[43m \u001b[49m\u001b[43my_test\u001b[49m\u001b[43m,\u001b[49m\u001b[43m \u001b[49m\u001b[43my_pred_class\u001b[49m\u001b[43m,\u001b[49m\u001b[43m \u001b[49m\u001b[38;5;28;43;01mTrue\u001b[39;49;00m\u001b[43m)\u001b[49m\n\u001b[0;32m     11\u001b[0m \u001b[38;5;66;03m#Data for final graph\u001b[39;00m\n\u001b[0;32m     12\u001b[0m methodDict[\u001b[38;5;124m'\u001b[39m\u001b[38;5;124mLog. Regression\u001b[39m\u001b[38;5;124m'\u001b[39m] \u001b[38;5;241m=\u001b[39m accuracy_score \u001b[38;5;241m*\u001b[39m \u001b[38;5;241m100\u001b[39m\n",
            "Cell \u001b[1;32mIn[27], line 89\u001b[0m, in \u001b[0;36mevalClassModel\u001b[1;34m(model, y_test, y_pred_class, plot)\u001b[0m\n\u001b[0;32m     85\u001b[0m \u001b[38;5;66;03m# predict treatment if the predicted probability is greater than 0.3\u001b[39;00m\n\u001b[0;32m     86\u001b[0m \u001b[38;5;66;03m# it will return 1 for all values above 0.3 and 0 otherwise\u001b[39;00m\n\u001b[0;32m     87\u001b[0m \u001b[38;5;66;03m# results are 2D so we slice out the first column\u001b[39;00m\n\u001b[0;32m     88\u001b[0m y_pred_prob \u001b[38;5;241m=\u001b[39m y_pred_prob\u001b[38;5;241m.\u001b[39mreshape(\u001b[38;5;241m-\u001b[39m\u001b[38;5;241m1\u001b[39m,\u001b[38;5;241m1\u001b[39m) \n\u001b[1;32m---> 89\u001b[0m y_pred_class \u001b[38;5;241m=\u001b[39m \u001b[43mbinarize\u001b[49m\u001b[43m(\u001b[49m\u001b[43my_pred_prob\u001b[49m\u001b[43m,\u001b[49m\u001b[43m \u001b[49m\u001b[38;5;241;43m0.3\u001b[39;49m\u001b[43m)\u001b[49m[\u001b[38;5;241m0\u001b[39m]\n\u001b[0;32m     91\u001b[0m \u001b[38;5;66;03m# print the first 10 predicted probabilities\u001b[39;00m\n\u001b[0;32m     92\u001b[0m \u001b[38;5;28mprint\u001b[39m(\u001b[38;5;124m'\u001b[39m\u001b[38;5;124mFirst 10 predicted probabilities:\u001b[39m\u001b[38;5;130;01m\\n\u001b[39;00m\u001b[38;5;124m'\u001b[39m, y_pred_prob[\u001b[38;5;241m0\u001b[39m:\u001b[38;5;241m10\u001b[39m])\n",
            "File \u001b[1;32m~\\AppData\\Local\\Packages\\PythonSoftwareFoundation.Python.3.12_qbz5n2kfra8p0\\LocalCache\\local-packages\\Python312\\site-packages\\sklearn\\utils\\_param_validation.py:191\u001b[0m, in \u001b[0;36mvalidate_params.<locals>.decorator.<locals>.wrapper\u001b[1;34m(*args, **kwargs)\u001b[0m\n\u001b[0;32m    188\u001b[0m func_sig \u001b[38;5;241m=\u001b[39m signature(func)\n\u001b[0;32m    190\u001b[0m \u001b[38;5;66;03m# Map *args/**kwargs to the function signature\u001b[39;00m\n\u001b[1;32m--> 191\u001b[0m params \u001b[38;5;241m=\u001b[39m \u001b[43mfunc_sig\u001b[49m\u001b[38;5;241;43m.\u001b[39;49m\u001b[43mbind\u001b[49m\u001b[43m(\u001b[49m\u001b[38;5;241;43m*\u001b[39;49m\u001b[43margs\u001b[49m\u001b[43m,\u001b[49m\u001b[43m \u001b[49m\u001b[38;5;241;43m*\u001b[39;49m\u001b[38;5;241;43m*\u001b[39;49m\u001b[43mkwargs\u001b[49m\u001b[43m)\u001b[49m\n\u001b[0;32m    192\u001b[0m params\u001b[38;5;241m.\u001b[39mapply_defaults()\n\u001b[0;32m    194\u001b[0m \u001b[38;5;66;03m# ignore self/cls and positional/keyword markers\u001b[39;00m\n",
            "File \u001b[1;32mC:\\Program Files\\WindowsApps\\PythonSoftwareFoundation.Python.3.12_3.12.2544.0_x64__qbz5n2kfra8p0\\Lib\\inspect.py:3277\u001b[0m, in \u001b[0;36mSignature.bind\u001b[1;34m(self, *args, **kwargs)\u001b[0m\n\u001b[0;32m   3272\u001b[0m \u001b[38;5;28;01mdef\u001b[39;00m \u001b[38;5;21mbind\u001b[39m(\u001b[38;5;28mself\u001b[39m, \u001b[38;5;241m/\u001b[39m, \u001b[38;5;241m*\u001b[39margs, \u001b[38;5;241m*\u001b[39m\u001b[38;5;241m*\u001b[39mkwargs):\n\u001b[0;32m   3273\u001b[0m \u001b[38;5;250m    \u001b[39m\u001b[38;5;124;03m\"\"\"Get a BoundArguments object, that maps the passed `args`\u001b[39;00m\n\u001b[0;32m   3274\u001b[0m \u001b[38;5;124;03m    and `kwargs` to the function's signature.  Raises `TypeError`\u001b[39;00m\n\u001b[0;32m   3275\u001b[0m \u001b[38;5;124;03m    if the passed arguments can not be bound.\u001b[39;00m\n\u001b[0;32m   3276\u001b[0m \u001b[38;5;124;03m    \"\"\"\u001b[39;00m\n\u001b[1;32m-> 3277\u001b[0m     \u001b[38;5;28;01mreturn\u001b[39;00m \u001b[38;5;28;43mself\u001b[39;49m\u001b[38;5;241;43m.\u001b[39;49m\u001b[43m_bind\u001b[49m\u001b[43m(\u001b[49m\u001b[43margs\u001b[49m\u001b[43m,\u001b[49m\u001b[43m \u001b[49m\u001b[43mkwargs\u001b[49m\u001b[43m)\u001b[49m\n",
            "File \u001b[1;32mC:\\Program Files\\WindowsApps\\PythonSoftwareFoundation.Python.3.12_3.12.2544.0_x64__qbz5n2kfra8p0\\Lib\\inspect.py:3201\u001b[0m, in \u001b[0;36mSignature._bind\u001b[1;34m(self, args, kwargs, partial)\u001b[0m\n\u001b[0;32m   3197\u001b[0m \u001b[38;5;28;01melse\u001b[39;00m:\n\u001b[0;32m   3198\u001b[0m     \u001b[38;5;28;01mif\u001b[39;00m param\u001b[38;5;241m.\u001b[39mkind \u001b[38;5;129;01min\u001b[39;00m (_VAR_KEYWORD, _KEYWORD_ONLY):\n\u001b[0;32m   3199\u001b[0m         \u001b[38;5;66;03m# Looks like we have no parameter for this positional\u001b[39;00m\n\u001b[0;32m   3200\u001b[0m         \u001b[38;5;66;03m# argument\u001b[39;00m\n\u001b[1;32m-> 3201\u001b[0m         \u001b[38;5;28;01mraise\u001b[39;00m \u001b[38;5;167;01mTypeError\u001b[39;00m(\n\u001b[0;32m   3202\u001b[0m             \u001b[38;5;124m'\u001b[39m\u001b[38;5;124mtoo many positional arguments\u001b[39m\u001b[38;5;124m'\u001b[39m) \u001b[38;5;28;01mfrom\u001b[39;00m \u001b[38;5;28;01mNone\u001b[39;00m\n\u001b[0;32m   3204\u001b[0m     \u001b[38;5;28;01mif\u001b[39;00m param\u001b[38;5;241m.\u001b[39mkind \u001b[38;5;241m==\u001b[39m _VAR_POSITIONAL:\n\u001b[0;32m   3205\u001b[0m         \u001b[38;5;66;03m# We have an '*args'-like argument, let's fill it with\u001b[39;00m\n\u001b[0;32m   3206\u001b[0m         \u001b[38;5;66;03m# all positional arguments we have left and move on to\u001b[39;00m\n\u001b[0;32m   3207\u001b[0m         \u001b[38;5;66;03m# the next phase\u001b[39;00m\n\u001b[0;32m   3208\u001b[0m         values \u001b[38;5;241m=\u001b[39m [arg_val]\n",
            "\u001b[1;31mTypeError\u001b[0m: too many positional arguments"
          ]
        },
        {
          "data": {
            "image/png": "[encoded data removed]",
            "text/plain": [
              "<Figure size 640x480 with 1 Axes>"
            ]
          },
          "metadata": {},
          "output_type": "display_data"
        }
      ],
      "source": [
        "logisticRegression()"
      ]
    },
    {
      "cell_type": "markdown",
      "metadata": {
        "id": "NPH7c5ozgQrQ"
      },
      "source": [
        "KNeighbors Classifier"
      ]
    },
    {
      "cell_type": "code",
      "execution_count": 33,
      "metadata": {
        "id": "cIIpZmUkgKhz"
      },
      "outputs": [],
      "source": [
        "def Knn():\n",
        "    # Calculating the best parameters\n",
        "    knn = KNeighborsClassifier(n_neighbors=5)\n",
        "    \n",
        "    # define the parameter values that should be searched\n",
        "    k_range = list(range(1, 31))\n",
        "    weight_options = ['uniform', 'distance']\n",
        "    \n",
        "    # specify \"parameter distributions\" rather than a \"parameter grid\"\n",
        "    param_dist = dict(n_neighbors=k_range, weights=weight_options)\n",
        "    tuningRandomizedSearchCV(knn, param_dist)\n",
        "    \n",
        "    # train a KNeighborsClassifier model on the training set\n",
        "    knn = KNeighborsClassifier(n_neighbors=27, weights='uniform')\n",
        "    knn.fit(X_train, y_train)\n",
        "    \n",
        "    # make class predictions for the testing set\n",
        "    y_pred_class = knn.predict(X_test)\n",
        "    \n",
        "    accuracy_score = evalClassModel(knn, y_test, y_pred_class, True)\n",
        "\n",
        "    #Data for final graph\n",
        "    methodDict['K-Neighbors'] = accuracy_score * 100"
      ]
    },
    {
      "cell_type": "code",
      "execution_count": null,
      "metadata": {
        "colab": {
          "base_uri": "https://localhost:8080/",
          "height": 1000
        },
        "id": "NndcXu8LgcPZ",
        "outputId": "d159c597-893f-4314-8053-d02e3928926c"
      },
      "outputs": [],
      "source": [
        "Knn()"
      ]
    },
    {
      "cell_type": "markdown",
      "metadata": {
        "id": "ATF-3ODii6IE"
      },
      "source": [
        "Decision Tree classifier"
      ]
    },
    {
      "cell_type": "code",
      "execution_count": 34,
      "metadata": {
        "id": "FrbzKiXQgfIk"
      },
      "outputs": [],
      "source": [
        "def treeClassifier():\n",
        "    # Calculating the best parameters\n",
        "    tree = DecisionTreeClassifier()\n",
        "    featuresSize = feature_cols.__len__()\n",
        "    param_dist = {\"max_depth\": [3, None],\n",
        "              \"max_features\": randint(1, featuresSize),\n",
        "              \"min_samples_split\": randint(2, 9),\n",
        "              \"min_samples_leaf\": randint(1, 9),\n",
        "              \"criterion\": [\"gini\", \"entropy\"]}\n",
        "    tuningRandomizedSearchCV(tree, param_dist)\n",
        "    \n",
        "    # train a decision tree model on the training set\n",
        "    tree = DecisionTreeClassifier(max_depth=3, min_samples_split=8, max_features=6, criterion='entropy', min_samples_leaf=7)\n",
        "    tree.fit(X_train, y_train)\n",
        "    \n",
        "    # make class predictions for the testing set\n",
        "    y_pred_class = tree.predict(X_test)\n",
        "    \n",
        "    accuracy_score = evalClassModel(tree, y_test, y_pred_class, True)\n",
        "\n",
        "    #Data for final graph\n",
        "    methodDict['Decision Tree Classifier'] = accuracy_score * 100"
      ]
    },
    {
      "cell_type": "code",
      "execution_count": null,
      "metadata": {
        "colab": {
          "base_uri": "https://localhost:8080/",
          "height": 1000
        },
        "id": "emMSj1I4jAus",
        "outputId": "ef544193-0a5d-4ea0-c1b7-ab77bdcb6f6c"
      },
      "outputs": [],
      "source": [
        "treeClassifier()"
      ]
    },
    {
      "cell_type": "markdown",
      "metadata": {
        "id": "SkOs4a2ajLaM"
      },
      "source": [
        "Random Forests"
      ]
    },
    {
      "cell_type": "code",
      "execution_count": 35,
      "metadata": {
        "id": "_pLiMXGZjFgC"
      },
      "outputs": [],
      "source": [
        "def randomForest():\n",
        "    # Calculating the best parameters\n",
        "    forest = RandomForestClassifier(n_estimators = 20)\n",
        "\n",
        "    featuresSize = feature_cols.__len__()\n",
        "    param_dist = {\"max_depth\": [3, None],\n",
        "              \"max_features\": randint(1, featuresSize),\n",
        "              \"min_samples_split\": randint(2, 9),\n",
        "              \"min_samples_leaf\": randint(1, 9),\n",
        "              \"criterion\": [\"gini\", \"entropy\"]}\n",
        "    tuningRandomizedSearchCV(forest, param_dist)\n",
        "    \n",
        "    # Building and fitting my_forest\n",
        "    forest = RandomForestClassifier(max_depth = None, min_samples_leaf=8, min_samples_split=2, n_estimators = 20, random_state = 1)\n",
        "    my_forest = forest.fit(X_train, y_train)\n",
        "    \n",
        "    # make class predictions for the testing set\n",
        "    y_pred_class = my_forest.predict(X_test)\n",
        "    \n",
        "    accuracy_score = evalClassModel(my_forest, y_test, y_pred_class, True)\n",
        "\n",
        "    #Data for final graph\n",
        "    methodDict['Random Forest'] = accuracy_score * 100"
      ]
    },
    {
      "cell_type": "code",
      "execution_count": 36,
      "metadata": {
        "colab": {
          "base_uri": "https://localhost:8080/",
          "height": 1000
        },
        "id": "2ewO8zkNjc9i",
        "outputId": "f20fc084-f97d-479f-a108-5484a02b1536"
      },
      "outputs": [
        {
          "name": "stdout",
          "output_type": "stream",
          "text": [
            "Rand. Best Score:  0.8305206349206349\n",
            "Rand. Best Params:  {'criterion': 'entropy', 'max_depth': 3, 'max_features': 6, 'min_samples_leaf': 7, 'min_samples_split': 8}\n",
            "[0.831, 0.833, 0.831, 0.831, 0.831, 0.831, 0.831, 0.831, 0.831, 0.831, 0.831, 0.831, 0.831, 0.831, 0.831, 0.831, 0.831, 0.831, 0.831, 0.831]\n",
            "Accuracy: 0.8121693121693122\n",
            "Null accuracy:\n",
            " treatment\n",
            "0    191\n",
            "1    187\n",
            "Name: count, dtype: int64\n",
            "Percentage of ones: 0.4947089947089947\n",
            "Percentage of zeros: 0.5052910052910053\n",
            "True: [0 0 0 0 0 0 0 0 1 1 0 1 1 0 1 1 0 1 0 0 0 1 1 0 0]\n",
            "Pred: [1 0 0 0 1 1 0 1 1 1 0 1 1 0 1 1 1 1 0 0 0 0 1 0 0]\n"
          ]
        },
        {
          "ename": "KeyboardInterrupt",
          "evalue": "",
          "output_type": "error",
          "traceback": [
            "\u001b[1;31m---------------------------------------------------------------------------\u001b[0m",
            "\u001b[1;31mAttributeError\u001b[0m                            Traceback (most recent call last)",
            "File \u001b[1;32m~\\AppData\\Local\\Packages\\PythonSoftwareFoundation.Python.3.12_qbz5n2kfra8p0\\LocalCache\\local-packages\\Python312\\site-packages\\PIL\\ImageFile.py:536\u001b[0m, in \u001b[0;36m_save\u001b[1;34m(im, fp, tile, bufsize)\u001b[0m\n\u001b[0;32m    535\u001b[0m \u001b[38;5;28;01mtry\u001b[39;00m:\n\u001b[1;32m--> 536\u001b[0m     fh \u001b[38;5;241m=\u001b[39m \u001b[43mfp\u001b[49m\u001b[38;5;241;43m.\u001b[39;49m\u001b[43mfileno\u001b[49m()\n\u001b[0;32m    537\u001b[0m     fp\u001b[38;5;241m.\u001b[39mflush()\n",
            "\u001b[1;31mAttributeError\u001b[0m: '_idat' object has no attribute 'fileno'",
            "\nDuring handling of the above exception, another exception occurred:\n",
            "\u001b[1;31mKeyboardInterrupt\u001b[0m                         Traceback (most recent call last)",
            "Cell \u001b[1;32mIn[36], line 1\u001b[0m\n\u001b[1;32m----> 1\u001b[0m \u001b[43mrandomForest\u001b[49m\u001b[43m(\u001b[49m\u001b[43m)\u001b[49m\n",
            "Cell \u001b[1;32mIn[35], line 20\u001b[0m, in \u001b[0;36mrandomForest\u001b[1;34m()\u001b[0m\n\u001b[0;32m     17\u001b[0m \u001b[38;5;66;03m# make class predictions for the testing set\u001b[39;00m\n\u001b[0;32m     18\u001b[0m y_pred_class \u001b[38;5;241m=\u001b[39m my_forest\u001b[38;5;241m.\u001b[39mpredict(X_test)\n\u001b[1;32m---> 20\u001b[0m accuracy_score \u001b[38;5;241m=\u001b[39m \u001b[43mevalClassModel\u001b[49m\u001b[43m(\u001b[49m\u001b[43mmy_forest\u001b[49m\u001b[43m,\u001b[49m\u001b[43m \u001b[49m\u001b[43my_test\u001b[49m\u001b[43m,\u001b[49m\u001b[43m \u001b[49m\u001b[43my_pred_class\u001b[49m\u001b[43m,\u001b[49m\u001b[43m \u001b[49m\u001b[38;5;28;43;01mTrue\u001b[39;49;00m\u001b[43m)\u001b[49m\n\u001b[0;32m     22\u001b[0m \u001b[38;5;66;03m#Data for final graph\u001b[39;00m\n\u001b[0;32m     23\u001b[0m methodDict[\u001b[38;5;124m'\u001b[39m\u001b[38;5;124mRandom Forest\u001b[39m\u001b[38;5;124m'\u001b[39m] \u001b[38;5;241m=\u001b[39m accuracy_score \u001b[38;5;241m*\u001b[39m \u001b[38;5;241m100\u001b[39m\n",
            "Cell \u001b[1;32mIn[27], line 34\u001b[0m, in \u001b[0;36mevalClassModel\u001b[1;34m(model, y_test, y_pred_class, plot)\u001b[0m\n\u001b[0;32m     32\u001b[0m plt\u001b[38;5;241m.\u001b[39mxlabel(\u001b[38;5;124m'\u001b[39m\u001b[38;5;124mPredicted\u001b[39m\u001b[38;5;124m'\u001b[39m)\n\u001b[0;32m     33\u001b[0m plt\u001b[38;5;241m.\u001b[39mylabel(\u001b[38;5;124m'\u001b[39m\u001b[38;5;124mActual\u001b[39m\u001b[38;5;124m'\u001b[39m)\n\u001b[1;32m---> 34\u001b[0m \u001b[43mplt\u001b[49m\u001b[38;5;241;43m.\u001b[39;49m\u001b[43mshow\u001b[49m\u001b[43m(\u001b[49m\u001b[43m)\u001b[49m\n\u001b[0;32m     36\u001b[0m \u001b[38;5;66;03m#Metrics computed from a confusion matrix\u001b[39;00m\n\u001b[0;32m     37\u001b[0m \u001b[38;5;66;03m#Classification Accuracy: Overall, how often is the classifier correct?\u001b[39;00m\n\u001b[0;32m     38\u001b[0m accuracy \u001b[38;5;241m=\u001b[39m metrics\u001b[38;5;241m.\u001b[39maccuracy_score(y_test, y_pred_class)\n",
            "File \u001b[1;32m~\\AppData\\Local\\Packages\\PythonSoftwareFoundation.Python.3.12_qbz5n2kfra8p0\\LocalCache\\local-packages\\Python312\\site-packages\\matplotlib\\pyplot.py:612\u001b[0m, in \u001b[0;36mshow\u001b[1;34m(*args, **kwargs)\u001b[0m\n\u001b[0;32m    568\u001b[0m \u001b[38;5;250m\u001b[39m\u001b[38;5;124;03m\"\"\"\u001b[39;00m\n\u001b[0;32m    569\u001b[0m \u001b[38;5;124;03mDisplay all open figures.\u001b[39;00m\n\u001b[0;32m    570\u001b[0m \n\u001b[1;32m   (...)\u001b[0m\n\u001b[0;32m    609\u001b[0m \u001b[38;5;124;03mexplicitly there.\u001b[39;00m\n\u001b[0;32m    610\u001b[0m \u001b[38;5;124;03m\"\"\"\u001b[39;00m\n\u001b[0;32m    611\u001b[0m _warn_if_gui_out_of_main_thread()\n\u001b[1;32m--> 612\u001b[0m \u001b[38;5;28;01mreturn\u001b[39;00m \u001b[43m_get_backend_mod\u001b[49m\u001b[43m(\u001b[49m\u001b[43m)\u001b[49m\u001b[38;5;241;43m.\u001b[39;49m\u001b[43mshow\u001b[49m\u001b[43m(\u001b[49m\u001b[38;5;241;43m*\u001b[39;49m\u001b[43margs\u001b[49m\u001b[43m,\u001b[49m\u001b[43m \u001b[49m\u001b[38;5;241;43m*\u001b[39;49m\u001b[38;5;241;43m*\u001b[39;49m\u001b[43mkwargs\u001b[49m\u001b[43m)\u001b[49m\n",
            "File \u001b[1;32m~\\AppData\\Local\\Packages\\PythonSoftwareFoundation.Python.3.12_qbz5n2kfra8p0\\LocalCache\\local-packages\\Python312\\site-packages\\matplotlib_inline\\backend_inline.py:90\u001b[0m, in \u001b[0;36mshow\u001b[1;34m(close, block)\u001b[0m\n\u001b[0;32m     88\u001b[0m \u001b[38;5;28;01mtry\u001b[39;00m:\n\u001b[0;32m     89\u001b[0m     \u001b[38;5;28;01mfor\u001b[39;00m figure_manager \u001b[38;5;129;01min\u001b[39;00m Gcf\u001b[38;5;241m.\u001b[39mget_all_fig_managers():\n\u001b[1;32m---> 90\u001b[0m         \u001b[43mdisplay\u001b[49m\u001b[43m(\u001b[49m\n\u001b[0;32m     91\u001b[0m \u001b[43m            \u001b[49m\u001b[43mfigure_manager\u001b[49m\u001b[38;5;241;43m.\u001b[39;49m\u001b[43mcanvas\u001b[49m\u001b[38;5;241;43m.\u001b[39;49m\u001b[43mfigure\u001b[49m\u001b[43m,\u001b[49m\n\u001b[0;32m     92\u001b[0m \u001b[43m            \u001b[49m\u001b[43mmetadata\u001b[49m\u001b[38;5;241;43m=\u001b[39;49m\u001b[43m_fetch_figure_metadata\u001b[49m\u001b[43m(\u001b[49m\u001b[43mfigure_manager\u001b[49m\u001b[38;5;241;43m.\u001b[39;49m\u001b[43mcanvas\u001b[49m\u001b[38;5;241;43m.\u001b[39;49m\u001b[43mfigure\u001b[49m\u001b[43m)\u001b[49m\n\u001b[0;32m     93\u001b[0m \u001b[43m        \u001b[49m\u001b[43m)\u001b[49m\n\u001b[0;32m     94\u001b[0m \u001b[38;5;28;01mfinally\u001b[39;00m:\n\u001b[0;32m     95\u001b[0m     show\u001b[38;5;241m.\u001b[39m_to_draw \u001b[38;5;241m=\u001b[39m []\n",
            "File \u001b[1;32m~\\AppData\\Local\\Packages\\PythonSoftwareFoundation.Python.3.12_qbz5n2kfra8p0\\LocalCache\\local-packages\\Python312\\site-packages\\IPython\\core\\display_functions.py:298\u001b[0m, in \u001b[0;36mdisplay\u001b[1;34m(include, exclude, metadata, transient, display_id, raw, clear, *objs, **kwargs)\u001b[0m\n\u001b[0;32m    296\u001b[0m     publish_display_data(data\u001b[38;5;241m=\u001b[39mobj, metadata\u001b[38;5;241m=\u001b[39mmetadata, \u001b[38;5;241m*\u001b[39m\u001b[38;5;241m*\u001b[39mkwargs)\n\u001b[0;32m    297\u001b[0m \u001b[38;5;28;01melse\u001b[39;00m:\n\u001b[1;32m--> 298\u001b[0m     format_dict, md_dict \u001b[38;5;241m=\u001b[39m \u001b[38;5;28;43mformat\u001b[39;49m\u001b[43m(\u001b[49m\u001b[43mobj\u001b[49m\u001b[43m,\u001b[49m\u001b[43m \u001b[49m\u001b[43minclude\u001b[49m\u001b[38;5;241;43m=\u001b[39;49m\u001b[43minclude\u001b[49m\u001b[43m,\u001b[49m\u001b[43m \u001b[49m\u001b[43mexclude\u001b[49m\u001b[38;5;241;43m=\u001b[39;49m\u001b[43mexclude\u001b[49m\u001b[43m)\u001b[49m\n\u001b[0;32m    299\u001b[0m     \u001b[38;5;28;01mif\u001b[39;00m \u001b[38;5;129;01mnot\u001b[39;00m format_dict:\n\u001b[0;32m    300\u001b[0m         \u001b[38;5;66;03m# nothing to display (e.g. _ipython_display_ took over)\u001b[39;00m\n\u001b[0;32m    301\u001b[0m         \u001b[38;5;28;01mcontinue\u001b[39;00m\n",
            "File \u001b[1;32m~\\AppData\\Local\\Packages\\PythonSoftwareFoundation.Python.3.12_qbz5n2kfra8p0\\LocalCache\\local-packages\\Python312\\site-packages\\IPython\\core\\formatters.py:182\u001b[0m, in \u001b[0;36mDisplayFormatter.format\u001b[1;34m(self, obj, include, exclude)\u001b[0m\n\u001b[0;32m    180\u001b[0m md \u001b[38;5;241m=\u001b[39m \u001b[38;5;28;01mNone\u001b[39;00m\n\u001b[0;32m    181\u001b[0m \u001b[38;5;28;01mtry\u001b[39;00m:\n\u001b[1;32m--> 182\u001b[0m     data \u001b[38;5;241m=\u001b[39m \u001b[43mformatter\u001b[49m\u001b[43m(\u001b[49m\u001b[43mobj\u001b[49m\u001b[43m)\u001b[49m\n\u001b[0;32m    183\u001b[0m \u001b[38;5;28;01mexcept\u001b[39;00m:\n\u001b[0;32m    184\u001b[0m     \u001b[38;5;66;03m# FIXME: log the exception\u001b[39;00m\n\u001b[0;32m    185\u001b[0m     \u001b[38;5;28;01mraise\u001b[39;00m\n",
            "File \u001b[1;32m<decorator-gen-2>:2\u001b[0m, in \u001b[0;36m__call__\u001b[1;34m(self, obj)\u001b[0m\n",
            "File \u001b[1;32m~\\AppData\\Local\\Packages\\PythonSoftwareFoundation.Python.3.12_qbz5n2kfra8p0\\LocalCache\\local-packages\\Python312\\site-packages\\IPython\\core\\formatters.py:226\u001b[0m, in \u001b[0;36mcatch_format_error\u001b[1;34m(method, self, *args, **kwargs)\u001b[0m\n\u001b[0;32m    224\u001b[0m \u001b[38;5;250m\u001b[39m\u001b[38;5;124;03m\"\"\"show traceback on failed format call\"\"\"\u001b[39;00m\n\u001b[0;32m    225\u001b[0m \u001b[38;5;28;01mtry\u001b[39;00m:\n\u001b[1;32m--> 226\u001b[0m     r \u001b[38;5;241m=\u001b[39m \u001b[43mmethod\u001b[49m\u001b[43m(\u001b[49m\u001b[38;5;28;43mself\u001b[39;49m\u001b[43m,\u001b[49m\u001b[43m \u001b[49m\u001b[38;5;241;43m*\u001b[39;49m\u001b[43margs\u001b[49m\u001b[43m,\u001b[49m\u001b[43m \u001b[49m\u001b[38;5;241;43m*\u001b[39;49m\u001b[38;5;241;43m*\u001b[39;49m\u001b[43mkwargs\u001b[49m\u001b[43m)\u001b[49m\n\u001b[0;32m    227\u001b[0m \u001b[38;5;28;01mexcept\u001b[39;00m \u001b[38;5;167;01mNotImplementedError\u001b[39;00m:\n\u001b[0;32m    228\u001b[0m     \u001b[38;5;66;03m# don't warn on NotImplementedErrors\u001b[39;00m\n\u001b[0;32m    229\u001b[0m     \u001b[38;5;28;01mreturn\u001b[39;00m \u001b[38;5;28mself\u001b[39m\u001b[38;5;241m.\u001b[39m_check_return(\u001b[38;5;28;01mNone\u001b[39;00m, args[\u001b[38;5;241m0\u001b[39m])\n",
            "File \u001b[1;32m~\\AppData\\Local\\Packages\\PythonSoftwareFoundation.Python.3.12_qbz5n2kfra8p0\\LocalCache\\local-packages\\Python312\\site-packages\\IPython\\core\\formatters.py:343\u001b[0m, in \u001b[0;36mBaseFormatter.__call__\u001b[1;34m(self, obj)\u001b[0m\n\u001b[0;32m    341\u001b[0m     \u001b[38;5;28;01mpass\u001b[39;00m\n\u001b[0;32m    342\u001b[0m \u001b[38;5;28;01melse\u001b[39;00m:\n\u001b[1;32m--> 343\u001b[0m     \u001b[38;5;28;01mreturn\u001b[39;00m \u001b[43mprinter\u001b[49m\u001b[43m(\u001b[49m\u001b[43mobj\u001b[49m\u001b[43m)\u001b[49m\n\u001b[0;32m    344\u001b[0m \u001b[38;5;66;03m# Finally look for special method names\u001b[39;00m\n\u001b[0;32m    345\u001b[0m method \u001b[38;5;241m=\u001b[39m get_real_method(obj, \u001b[38;5;28mself\u001b[39m\u001b[38;5;241m.\u001b[39mprint_method)\n",
            "File \u001b[1;32m~\\AppData\\Local\\Packages\\PythonSoftwareFoundation.Python.3.12_qbz5n2kfra8p0\\LocalCache\\local-packages\\Python312\\site-packages\\IPython\\core\\pylabtools.py:170\u001b[0m, in \u001b[0;36mprint_figure\u001b[1;34m(fig, fmt, bbox_inches, base64, **kwargs)\u001b[0m\n\u001b[0;32m    167\u001b[0m     \u001b[38;5;28;01mfrom\u001b[39;00m \u001b[38;5;21;01mmatplotlib\u001b[39;00m\u001b[38;5;21;01m.\u001b[39;00m\u001b[38;5;21;01mbackend_bases\u001b[39;00m \u001b[38;5;28;01mimport\u001b[39;00m FigureCanvasBase\n\u001b[0;32m    168\u001b[0m     FigureCanvasBase(fig)\n\u001b[1;32m--> 170\u001b[0m \u001b[43mfig\u001b[49m\u001b[38;5;241;43m.\u001b[39;49m\u001b[43mcanvas\u001b[49m\u001b[38;5;241;43m.\u001b[39;49m\u001b[43mprint_figure\u001b[49m\u001b[43m(\u001b[49m\u001b[43mbytes_io\u001b[49m\u001b[43m,\u001b[49m\u001b[43m \u001b[49m\u001b[38;5;241;43m*\u001b[39;49m\u001b[38;5;241;43m*\u001b[39;49m\u001b[43mkw\u001b[49m\u001b[43m)\u001b[49m\n\u001b[0;32m    171\u001b[0m data \u001b[38;5;241m=\u001b[39m bytes_io\u001b[38;5;241m.\u001b[39mgetvalue()\n\u001b[0;32m    172\u001b[0m \u001b[38;5;28;01mif\u001b[39;00m fmt \u001b[38;5;241m==\u001b[39m \u001b[38;5;124m'\u001b[39m\u001b[38;5;124msvg\u001b[39m\u001b[38;5;124m'\u001b[39m:\n",
            "File \u001b[1;32m~\\AppData\\Local\\Packages\\PythonSoftwareFoundation.Python.3.12_qbz5n2kfra8p0\\LocalCache\\local-packages\\Python312\\site-packages\\matplotlib\\backend_bases.py:2204\u001b[0m, in \u001b[0;36mFigureCanvasBase.print_figure\u001b[1;34m(self, filename, dpi, facecolor, edgecolor, orientation, format, bbox_inches, pad_inches, bbox_extra_artists, backend, **kwargs)\u001b[0m\n\u001b[0;32m   2200\u001b[0m \u001b[38;5;28;01mtry\u001b[39;00m:\n\u001b[0;32m   2201\u001b[0m     \u001b[38;5;66;03m# _get_renderer may change the figure dpi (as vector formats\u001b[39;00m\n\u001b[0;32m   2202\u001b[0m     \u001b[38;5;66;03m# force the figure dpi to 72), so we need to set it again here.\u001b[39;00m\n\u001b[0;32m   2203\u001b[0m     \u001b[38;5;28;01mwith\u001b[39;00m cbook\u001b[38;5;241m.\u001b[39m_setattr_cm(\u001b[38;5;28mself\u001b[39m\u001b[38;5;241m.\u001b[39mfigure, dpi\u001b[38;5;241m=\u001b[39mdpi):\n\u001b[1;32m-> 2204\u001b[0m         result \u001b[38;5;241m=\u001b[39m \u001b[43mprint_method\u001b[49m\u001b[43m(\u001b[49m\n\u001b[0;32m   2205\u001b[0m \u001b[43m            \u001b[49m\u001b[43mfilename\u001b[49m\u001b[43m,\u001b[49m\n\u001b[0;32m   2206\u001b[0m \u001b[43m            \u001b[49m\u001b[43mfacecolor\u001b[49m\u001b[38;5;241;43m=\u001b[39;49m\u001b[43mfacecolor\u001b[49m\u001b[43m,\u001b[49m\n\u001b[0;32m   2207\u001b[0m \u001b[43m            \u001b[49m\u001b[43medgecolor\u001b[49m\u001b[38;5;241;43m=\u001b[39;49m\u001b[43medgecolor\u001b[49m\u001b[43m,\u001b[49m\n\u001b[0;32m   2208\u001b[0m \u001b[43m            \u001b[49m\u001b[43morientation\u001b[49m\u001b[38;5;241;43m=\u001b[39;49m\u001b[43morientation\u001b[49m\u001b[43m,\u001b[49m\n\u001b[0;32m   2209\u001b[0m \u001b[43m            \u001b[49m\u001b[43mbbox_inches_restore\u001b[49m\u001b[38;5;241;43m=\u001b[39;49m\u001b[43m_bbox_inches_restore\u001b[49m\u001b[43m,\u001b[49m\n\u001b[0;32m   2210\u001b[0m \u001b[43m            \u001b[49m\u001b[38;5;241;43m*\u001b[39;49m\u001b[38;5;241;43m*\u001b[39;49m\u001b[43mkwargs\u001b[49m\u001b[43m)\u001b[49m\n\u001b[0;32m   2211\u001b[0m \u001b[38;5;28;01mfinally\u001b[39;00m:\n\u001b[0;32m   2212\u001b[0m     \u001b[38;5;28;01mif\u001b[39;00m bbox_inches \u001b[38;5;129;01mand\u001b[39;00m restore_bbox:\n",
            "File \u001b[1;32m~\\AppData\\Local\\Packages\\PythonSoftwareFoundation.Python.3.12_qbz5n2kfra8p0\\LocalCache\\local-packages\\Python312\\site-packages\\matplotlib\\backend_bases.py:2054\u001b[0m, in \u001b[0;36mFigureCanvasBase._switch_canvas_and_return_print_method.<locals>.<lambda>\u001b[1;34m(*args, **kwargs)\u001b[0m\n\u001b[0;32m   2050\u001b[0m     optional_kws \u001b[38;5;241m=\u001b[39m {  \u001b[38;5;66;03m# Passed by print_figure for other renderers.\u001b[39;00m\n\u001b[0;32m   2051\u001b[0m         \u001b[38;5;124m\"\u001b[39m\u001b[38;5;124mdpi\u001b[39m\u001b[38;5;124m\"\u001b[39m, \u001b[38;5;124m\"\u001b[39m\u001b[38;5;124mfacecolor\u001b[39m\u001b[38;5;124m\"\u001b[39m, \u001b[38;5;124m\"\u001b[39m\u001b[38;5;124medgecolor\u001b[39m\u001b[38;5;124m\"\u001b[39m, \u001b[38;5;124m\"\u001b[39m\u001b[38;5;124morientation\u001b[39m\u001b[38;5;124m\"\u001b[39m,\n\u001b[0;32m   2052\u001b[0m         \u001b[38;5;124m\"\u001b[39m\u001b[38;5;124mbbox_inches_restore\u001b[39m\u001b[38;5;124m\"\u001b[39m}\n\u001b[0;32m   2053\u001b[0m     skip \u001b[38;5;241m=\u001b[39m optional_kws \u001b[38;5;241m-\u001b[39m {\u001b[38;5;241m*\u001b[39minspect\u001b[38;5;241m.\u001b[39msignature(meth)\u001b[38;5;241m.\u001b[39mparameters}\n\u001b[1;32m-> 2054\u001b[0m     print_method \u001b[38;5;241m=\u001b[39m functools\u001b[38;5;241m.\u001b[39mwraps(meth)(\u001b[38;5;28;01mlambda\u001b[39;00m \u001b[38;5;241m*\u001b[39margs, \u001b[38;5;241m*\u001b[39m\u001b[38;5;241m*\u001b[39mkwargs: \u001b[43mmeth\u001b[49m\u001b[43m(\u001b[49m\n\u001b[0;32m   2055\u001b[0m \u001b[43m        \u001b[49m\u001b[38;5;241;43m*\u001b[39;49m\u001b[43margs\u001b[49m\u001b[43m,\u001b[49m\u001b[43m \u001b[49m\u001b[38;5;241;43m*\u001b[39;49m\u001b[38;5;241;43m*\u001b[39;49m\u001b[43m{\u001b[49m\u001b[43mk\u001b[49m\u001b[43m:\u001b[49m\u001b[43m \u001b[49m\u001b[43mv\u001b[49m\u001b[43m \u001b[49m\u001b[38;5;28;43;01mfor\u001b[39;49;00m\u001b[43m \u001b[49m\u001b[43mk\u001b[49m\u001b[43m,\u001b[49m\u001b[43m \u001b[49m\u001b[43mv\u001b[49m\u001b[43m \u001b[49m\u001b[38;5;129;43;01min\u001b[39;49;00m\u001b[43m \u001b[49m\u001b[43mkwargs\u001b[49m\u001b[38;5;241;43m.\u001b[39;49m\u001b[43mitems\u001b[49m\u001b[43m(\u001b[49m\u001b[43m)\u001b[49m\u001b[43m \u001b[49m\u001b[38;5;28;43;01mif\u001b[39;49;00m\u001b[43m \u001b[49m\u001b[43mk\u001b[49m\u001b[43m \u001b[49m\u001b[38;5;129;43;01mnot\u001b[39;49;00m\u001b[43m \u001b[49m\u001b[38;5;129;43;01min\u001b[39;49;00m\u001b[43m \u001b[49m\u001b[43mskip\u001b[49m\u001b[43m}\u001b[49m\u001b[43m)\u001b[49m)\n\u001b[0;32m   2056\u001b[0m \u001b[38;5;28;01melse\u001b[39;00m:  \u001b[38;5;66;03m# Let third-parties do as they see fit.\u001b[39;00m\n\u001b[0;32m   2057\u001b[0m     print_method \u001b[38;5;241m=\u001b[39m meth\n",
            "File \u001b[1;32m~\\AppData\\Local\\Packages\\PythonSoftwareFoundation.Python.3.12_qbz5n2kfra8p0\\LocalCache\\local-packages\\Python312\\site-packages\\matplotlib\\backends\\backend_agg.py:496\u001b[0m, in \u001b[0;36mFigureCanvasAgg.print_png\u001b[1;34m(self, filename_or_obj, metadata, pil_kwargs)\u001b[0m\n\u001b[0;32m    449\u001b[0m \u001b[38;5;28;01mdef\u001b[39;00m \u001b[38;5;21mprint_png\u001b[39m(\u001b[38;5;28mself\u001b[39m, filename_or_obj, \u001b[38;5;241m*\u001b[39m, metadata\u001b[38;5;241m=\u001b[39m\u001b[38;5;28;01mNone\u001b[39;00m, pil_kwargs\u001b[38;5;241m=\u001b[39m\u001b[38;5;28;01mNone\u001b[39;00m):\n\u001b[0;32m    450\u001b[0m \u001b[38;5;250m    \u001b[39m\u001b[38;5;124;03m\"\"\"\u001b[39;00m\n\u001b[0;32m    451\u001b[0m \u001b[38;5;124;03m    Write the figure to a PNG file.\u001b[39;00m\n\u001b[0;32m    452\u001b[0m \n\u001b[1;32m   (...)\u001b[0m\n\u001b[0;32m    494\u001b[0m \u001b[38;5;124;03m        *metadata*, including the default 'Software' key.\u001b[39;00m\n\u001b[0;32m    495\u001b[0m \u001b[38;5;124;03m    \"\"\"\u001b[39;00m\n\u001b[1;32m--> 496\u001b[0m     \u001b[38;5;28;43mself\u001b[39;49m\u001b[38;5;241;43m.\u001b[39;49m\u001b[43m_print_pil\u001b[49m\u001b[43m(\u001b[49m\u001b[43mfilename_or_obj\u001b[49m\u001b[43m,\u001b[49m\u001b[43m \u001b[49m\u001b[38;5;124;43m\"\u001b[39;49m\u001b[38;5;124;43mpng\u001b[39;49m\u001b[38;5;124;43m\"\u001b[39;49m\u001b[43m,\u001b[49m\u001b[43m \u001b[49m\u001b[43mpil_kwargs\u001b[49m\u001b[43m,\u001b[49m\u001b[43m \u001b[49m\u001b[43mmetadata\u001b[49m\u001b[43m)\u001b[49m\n",
            "File \u001b[1;32m~\\AppData\\Local\\Packages\\PythonSoftwareFoundation.Python.3.12_qbz5n2kfra8p0\\LocalCache\\local-packages\\Python312\\site-packages\\matplotlib\\backends\\backend_agg.py:445\u001b[0m, in \u001b[0;36mFigureCanvasAgg._print_pil\u001b[1;34m(self, filename_or_obj, fmt, pil_kwargs, metadata)\u001b[0m\n\u001b[0;32m    440\u001b[0m \u001b[38;5;250m\u001b[39m\u001b[38;5;124;03m\"\"\"\u001b[39;00m\n\u001b[0;32m    441\u001b[0m \u001b[38;5;124;03mDraw the canvas, then save it using `.image.imsave` (to which\u001b[39;00m\n\u001b[0;32m    442\u001b[0m \u001b[38;5;124;03m*pil_kwargs* and *metadata* are forwarded).\u001b[39;00m\n\u001b[0;32m    443\u001b[0m \u001b[38;5;124;03m\"\"\"\u001b[39;00m\n\u001b[0;32m    444\u001b[0m FigureCanvasAgg\u001b[38;5;241m.\u001b[39mdraw(\u001b[38;5;28mself\u001b[39m)\n\u001b[1;32m--> 445\u001b[0m \u001b[43mmpl\u001b[49m\u001b[38;5;241;43m.\u001b[39;49m\u001b[43mimage\u001b[49m\u001b[38;5;241;43m.\u001b[39;49m\u001b[43mimsave\u001b[49m\u001b[43m(\u001b[49m\n\u001b[0;32m    446\u001b[0m \u001b[43m    \u001b[49m\u001b[43mfilename_or_obj\u001b[49m\u001b[43m,\u001b[49m\u001b[43m \u001b[49m\u001b[38;5;28;43mself\u001b[39;49m\u001b[38;5;241;43m.\u001b[39;49m\u001b[43mbuffer_rgba\u001b[49m\u001b[43m(\u001b[49m\u001b[43m)\u001b[49m\u001b[43m,\u001b[49m\u001b[43m \u001b[49m\u001b[38;5;28;43mformat\u001b[39;49m\u001b[38;5;241;43m=\u001b[39;49m\u001b[43mfmt\u001b[49m\u001b[43m,\u001b[49m\u001b[43m \u001b[49m\u001b[43morigin\u001b[49m\u001b[38;5;241;43m=\u001b[39;49m\u001b[38;5;124;43m\"\u001b[39;49m\u001b[38;5;124;43mupper\u001b[39;49m\u001b[38;5;124;43m\"\u001b[39;49m\u001b[43m,\u001b[49m\n\u001b[0;32m    447\u001b[0m \u001b[43m    \u001b[49m\u001b[43mdpi\u001b[49m\u001b[38;5;241;43m=\u001b[39;49m\u001b[38;5;28;43mself\u001b[39;49m\u001b[38;5;241;43m.\u001b[39;49m\u001b[43mfigure\u001b[49m\u001b[38;5;241;43m.\u001b[39;49m\u001b[43mdpi\u001b[49m\u001b[43m,\u001b[49m\u001b[43m \u001b[49m\u001b[43mmetadata\u001b[49m\u001b[38;5;241;43m=\u001b[39;49m\u001b[43mmetadata\u001b[49m\u001b[43m,\u001b[49m\u001b[43m \u001b[49m\u001b[43mpil_kwargs\u001b[49m\u001b[38;5;241;43m=\u001b[39;49m\u001b[43mpil_kwargs\u001b[49m\u001b[43m)\u001b[49m\n",
            "File \u001b[1;32m~\\AppData\\Local\\Packages\\PythonSoftwareFoundation.Python.3.12_qbz5n2kfra8p0\\LocalCache\\local-packages\\Python312\\site-packages\\matplotlib\\image.py:1676\u001b[0m, in \u001b[0;36mimsave\u001b[1;34m(fname, arr, vmin, vmax, cmap, format, origin, dpi, metadata, pil_kwargs)\u001b[0m\n\u001b[0;32m   1674\u001b[0m pil_kwargs\u001b[38;5;241m.\u001b[39msetdefault(\u001b[38;5;124m\"\u001b[39m\u001b[38;5;124mformat\u001b[39m\u001b[38;5;124m\"\u001b[39m, \u001b[38;5;28mformat\u001b[39m)\n\u001b[0;32m   1675\u001b[0m pil_kwargs\u001b[38;5;241m.\u001b[39msetdefault(\u001b[38;5;124m\"\u001b[39m\u001b[38;5;124mdpi\u001b[39m\u001b[38;5;124m\"\u001b[39m, (dpi, dpi))\n\u001b[1;32m-> 1676\u001b[0m \u001b[43mimage\u001b[49m\u001b[38;5;241;43m.\u001b[39;49m\u001b[43msave\u001b[49m\u001b[43m(\u001b[49m\u001b[43mfname\u001b[49m\u001b[43m,\u001b[49m\u001b[43m \u001b[49m\u001b[38;5;241;43m*\u001b[39;49m\u001b[38;5;241;43m*\u001b[39;49m\u001b[43mpil_kwargs\u001b[49m\u001b[43m)\u001b[49m\n",
            "File \u001b[1;32m~\\AppData\\Local\\Packages\\PythonSoftwareFoundation.Python.3.12_qbz5n2kfra8p0\\LocalCache\\local-packages\\Python312\\site-packages\\PIL\\Image.py:2439\u001b[0m, in \u001b[0;36mImage.save\u001b[1;34m(self, fp, format, **params)\u001b[0m\n\u001b[0;32m   2436\u001b[0m         fp \u001b[38;5;241m=\u001b[39m builtins\u001b[38;5;241m.\u001b[39mopen(filename, \u001b[38;5;124m\"\u001b[39m\u001b[38;5;124mw+b\u001b[39m\u001b[38;5;124m\"\u001b[39m)\n\u001b[0;32m   2438\u001b[0m \u001b[38;5;28;01mtry\u001b[39;00m:\n\u001b[1;32m-> 2439\u001b[0m     \u001b[43msave_handler\u001b[49m\u001b[43m(\u001b[49m\u001b[38;5;28;43mself\u001b[39;49m\u001b[43m,\u001b[49m\u001b[43m \u001b[49m\u001b[43mfp\u001b[49m\u001b[43m,\u001b[49m\u001b[43m \u001b[49m\u001b[43mfilename\u001b[49m\u001b[43m)\u001b[49m\n\u001b[0;32m   2440\u001b[0m \u001b[38;5;28;01mexcept\u001b[39;00m \u001b[38;5;167;01mException\u001b[39;00m:\n\u001b[0;32m   2441\u001b[0m     \u001b[38;5;28;01mif\u001b[39;00m open_fp:\n",
            "File \u001b[1;32m~\\AppData\\Local\\Packages\\PythonSoftwareFoundation.Python.3.12_qbz5n2kfra8p0\\LocalCache\\local-packages\\Python312\\site-packages\\PIL\\PngImagePlugin.py:1402\u001b[0m, in \u001b[0;36m_save\u001b[1;34m(im, fp, filename, chunk, save_all)\u001b[0m\n\u001b[0;32m   1398\u001b[0m     im \u001b[38;5;241m=\u001b[39m _write_multiple_frames(\n\u001b[0;32m   1399\u001b[0m         im, fp, chunk, rawmode, default_image, append_images\n\u001b[0;32m   1400\u001b[0m     )\n\u001b[0;32m   1401\u001b[0m \u001b[38;5;28;01mif\u001b[39;00m im:\n\u001b[1;32m-> 1402\u001b[0m     \u001b[43mImageFile\u001b[49m\u001b[38;5;241;43m.\u001b[39;49m\u001b[43m_save\u001b[49m\u001b[43m(\u001b[49m\u001b[43mim\u001b[49m\u001b[43m,\u001b[49m\u001b[43m \u001b[49m\u001b[43m_idat\u001b[49m\u001b[43m(\u001b[49m\u001b[43mfp\u001b[49m\u001b[43m,\u001b[49m\u001b[43m \u001b[49m\u001b[43mchunk\u001b[49m\u001b[43m)\u001b[49m\u001b[43m,\u001b[49m\u001b[43m \u001b[49m\u001b[43m[\u001b[49m\u001b[43m(\u001b[49m\u001b[38;5;124;43m\"\u001b[39;49m\u001b[38;5;124;43mzip\u001b[39;49m\u001b[38;5;124;43m\"\u001b[39;49m\u001b[43m,\u001b[49m\u001b[43m \u001b[49m\u001b[43m(\u001b[49m\u001b[38;5;241;43m0\u001b[39;49m\u001b[43m,\u001b[49m\u001b[43m \u001b[49m\u001b[38;5;241;43m0\u001b[39;49m\u001b[43m)\u001b[49m\u001b[43m \u001b[49m\u001b[38;5;241;43m+\u001b[39;49m\u001b[43m \u001b[49m\u001b[43mim\u001b[49m\u001b[38;5;241;43m.\u001b[39;49m\u001b[43msize\u001b[49m\u001b[43m,\u001b[49m\u001b[43m \u001b[49m\u001b[38;5;241;43m0\u001b[39;49m\u001b[43m,\u001b[49m\u001b[43m \u001b[49m\u001b[43mrawmode\u001b[49m\u001b[43m)\u001b[49m\u001b[43m]\u001b[49m\u001b[43m)\u001b[49m\n\u001b[0;32m   1404\u001b[0m \u001b[38;5;28;01mif\u001b[39;00m info:\n\u001b[0;32m   1405\u001b[0m     \u001b[38;5;28;01mfor\u001b[39;00m info_chunk \u001b[38;5;129;01min\u001b[39;00m info\u001b[38;5;241m.\u001b[39mchunks:\n",
            "File \u001b[1;32m~\\AppData\\Local\\Packages\\PythonSoftwareFoundation.Python.3.12_qbz5n2kfra8p0\\LocalCache\\local-packages\\Python312\\site-packages\\PIL\\ImageFile.py:540\u001b[0m, in \u001b[0;36m_save\u001b[1;34m(im, fp, tile, bufsize)\u001b[0m\n\u001b[0;32m    538\u001b[0m     _encode_tile(im, fp, tile, bufsize, fh)\n\u001b[0;32m    539\u001b[0m \u001b[38;5;28;01mexcept\u001b[39;00m (\u001b[38;5;167;01mAttributeError\u001b[39;00m, io\u001b[38;5;241m.\u001b[39mUnsupportedOperation) \u001b[38;5;28;01mas\u001b[39;00m exc:\n\u001b[1;32m--> 540\u001b[0m     \u001b[43m_encode_tile\u001b[49m\u001b[43m(\u001b[49m\u001b[43mim\u001b[49m\u001b[43m,\u001b[49m\u001b[43m \u001b[49m\u001b[43mfp\u001b[49m\u001b[43m,\u001b[49m\u001b[43m \u001b[49m\u001b[43mtile\u001b[49m\u001b[43m,\u001b[49m\u001b[43m \u001b[49m\u001b[43mbufsize\u001b[49m\u001b[43m,\u001b[49m\u001b[43m \u001b[49m\u001b[38;5;28;43;01mNone\u001b[39;49;00m\u001b[43m,\u001b[49m\u001b[43m \u001b[49m\u001b[43mexc\u001b[49m\u001b[43m)\u001b[49m\n\u001b[0;32m    541\u001b[0m \u001b[38;5;28;01mif\u001b[39;00m \u001b[38;5;28mhasattr\u001b[39m(fp, \u001b[38;5;124m\"\u001b[39m\u001b[38;5;124mflush\u001b[39m\u001b[38;5;124m\"\u001b[39m):\n\u001b[0;32m    542\u001b[0m     fp\u001b[38;5;241m.\u001b[39mflush()\n",
            "File \u001b[1;32m~\\AppData\\Local\\Packages\\PythonSoftwareFoundation.Python.3.12_qbz5n2kfra8p0\\LocalCache\\local-packages\\Python312\\site-packages\\PIL\\ImageFile.py:559\u001b[0m, in \u001b[0;36m_encode_tile\u001b[1;34m(im, fp, tile, bufsize, fh, exc)\u001b[0m\n\u001b[0;32m    556\u001b[0m \u001b[38;5;28;01mif\u001b[39;00m exc:\n\u001b[0;32m    557\u001b[0m     \u001b[38;5;66;03m# compress to Python file-compatible object\u001b[39;00m\n\u001b[0;32m    558\u001b[0m     \u001b[38;5;28;01mwhile\u001b[39;00m \u001b[38;5;28;01mTrue\u001b[39;00m:\n\u001b[1;32m--> 559\u001b[0m         errcode, data \u001b[38;5;241m=\u001b[39m \u001b[43mencoder\u001b[49m\u001b[38;5;241;43m.\u001b[39;49m\u001b[43mencode\u001b[49m\u001b[43m(\u001b[49m\u001b[43mbufsize\u001b[49m\u001b[43m)\u001b[49m[\u001b[38;5;241m1\u001b[39m:]\n\u001b[0;32m    560\u001b[0m         fp\u001b[38;5;241m.\u001b[39mwrite(data)\n\u001b[0;32m    561\u001b[0m         \u001b[38;5;28;01mif\u001b[39;00m errcode:\n",
            "\u001b[1;31mKeyboardInterrupt\u001b[0m: "
          ]
        }
      ],
      "source": [
        "randomForest()"
      ]
    },
    {
      "cell_type": "markdown",
      "metadata": {
        "id": "To6W9zJyjpPg"
      },
      "source": [
        "Bagging"
      ]
    },
    {
      "cell_type": "code",
      "execution_count": 37,
      "metadata": {
        "id": "JYjIOqA_jhAj"
      },
      "outputs": [],
      "source": [
        "def bagging():\n",
        "    # Building and fitting \n",
        "    bag = BaggingClassifier(DecisionTreeClassifier(), max_samples=1.0, max_features=1.0, bootstrap_features=False)\n",
        "    bag.fit(X_train, y_train)\n",
        "    \n",
        "    # make class predictions for the testing set\n",
        "    y_pred_class = bag.predict(X_test)\n",
        "    \n",
        "    accuracy_score = evalClassModel(bag, y_test, y_pred_class, True)\n",
        "\n",
        "    #Data for final graph\n",
        "    methodDict['Bagging'] = accuracy_score * 100"
      ]
    },
    {
      "cell_type": "code",
      "execution_count": 38,
      "metadata": {
        "colab": {
          "base_uri": "https://localhost:8080/",
          "height": 1000
        },
        "id": "VJGVuhAXj-Ke",
        "outputId": "ed769463-08cd-4a22-954e-158b67248f1d"
      },
      "outputs": [
        {
          "name": "stdout",
          "output_type": "stream",
          "text": [
            "Accuracy: 0.7857142857142857\n",
            "Null accuracy:\n",
            " treatment\n",
            "0    191\n",
            "1    187\n",
            "Name: count, dtype: int64\n",
            "Percentage of ones: 0.4947089947089947\n",
            "Percentage of zeros: 0.5052910052910053\n",
            "True: [0 0 0 0 0 0 0 0 1 1 0 1 1 0 1 1 0 1 0 0 0 1 1 0 0]\n",
            "Pred: [1 0 0 0 0 1 0 0 1 1 0 1 1 1 1 1 0 1 0 0 0 0 0 0 0]\n"
          ]
        },
        {
          "data": {
            "image/png": "[encoded data removed]",
            "text/plain": [
              "<Figure size 640x480 with 2 Axes>"
            ]
          },
          "metadata": {},
          "output_type": "display_data"
        },
        {
          "name": "stdout",
          "output_type": "stream",
          "text": [
            "Classification Accuracy: 0.7857142857142857\n",
            "Classification Error: 0.2142857142857143\n",
            "False Positive Rate: 0.23036649214659685\n",
            "Precision: 0.7731958762886598\n",
            "AUC Score: 0.7858862726432791\n",
            "Cross-validated AUC: 0.8447729448335487\n",
            "First 10 predicted responses:\n",
            " [1 0 0 0 0 1 0 0 1 1]\n",
            "First 10 predicted probabilities of class members:\n",
            " [[0.32619048 0.67380952]\n",
            " [1.         0.        ]\n",
            " [1.         0.        ]\n",
            " [0.6        0.4       ]\n",
            " [0.6        0.4       ]\n",
            " [0.25       0.75      ]\n",
            " [0.9        0.1       ]\n",
            " [0.8        0.2       ]\n",
            " [0.4        0.6       ]\n",
            " [0.2        0.8       ]]\n"
          ]
        },
        {
          "ename": "TypeError",
          "evalue": "too many positional arguments",
          "output_type": "error",
          "traceback": [
            "\u001b[1;31m---------------------------------------------------------------------------\u001b[0m",
            "\u001b[1;31mTypeError\u001b[0m                                 Traceback (most recent call last)",
            "Cell \u001b[1;32mIn[38], line 1\u001b[0m\n\u001b[1;32m----> 1\u001b[0m \u001b[43mbagging\u001b[49m\u001b[43m(\u001b[49m\u001b[43m)\u001b[49m\n",
            "Cell \u001b[1;32mIn[37], line 9\u001b[0m, in \u001b[0;36mbagging\u001b[1;34m()\u001b[0m\n\u001b[0;32m      6\u001b[0m \u001b[38;5;66;03m# make class predictions for the testing set\u001b[39;00m\n\u001b[0;32m      7\u001b[0m y_pred_class \u001b[38;5;241m=\u001b[39m bag\u001b[38;5;241m.\u001b[39mpredict(X_test)\n\u001b[1;32m----> 9\u001b[0m accuracy_score \u001b[38;5;241m=\u001b[39m \u001b[43mevalClassModel\u001b[49m\u001b[43m(\u001b[49m\u001b[43mbag\u001b[49m\u001b[43m,\u001b[49m\u001b[43m \u001b[49m\u001b[43my_test\u001b[49m\u001b[43m,\u001b[49m\u001b[43m \u001b[49m\u001b[43my_pred_class\u001b[49m\u001b[43m,\u001b[49m\u001b[43m \u001b[49m\u001b[38;5;28;43;01mTrue\u001b[39;49;00m\u001b[43m)\u001b[49m\n\u001b[0;32m     11\u001b[0m \u001b[38;5;66;03m#Data for final graph\u001b[39;00m\n\u001b[0;32m     12\u001b[0m methodDict[\u001b[38;5;124m'\u001b[39m\u001b[38;5;124mBagging\u001b[39m\u001b[38;5;124m'\u001b[39m] \u001b[38;5;241m=\u001b[39m accuracy_score \u001b[38;5;241m*\u001b[39m \u001b[38;5;241m100\u001b[39m\n",
            "Cell \u001b[1;32mIn[27], line 89\u001b[0m, in \u001b[0;36mevalClassModel\u001b[1;34m(model, y_test, y_pred_class, plot)\u001b[0m\n\u001b[0;32m     85\u001b[0m \u001b[38;5;66;03m# predict treatment if the predicted probability is greater than 0.3\u001b[39;00m\n\u001b[0;32m     86\u001b[0m \u001b[38;5;66;03m# it will return 1 for all values above 0.3 and 0 otherwise\u001b[39;00m\n\u001b[0;32m     87\u001b[0m \u001b[38;5;66;03m# results are 2D so we slice out the first column\u001b[39;00m\n\u001b[0;32m     88\u001b[0m y_pred_prob \u001b[38;5;241m=\u001b[39m y_pred_prob\u001b[38;5;241m.\u001b[39mreshape(\u001b[38;5;241m-\u001b[39m\u001b[38;5;241m1\u001b[39m,\u001b[38;5;241m1\u001b[39m) \n\u001b[1;32m---> 89\u001b[0m y_pred_class \u001b[38;5;241m=\u001b[39m \u001b[43mbinarize\u001b[49m\u001b[43m(\u001b[49m\u001b[43my_pred_prob\u001b[49m\u001b[43m,\u001b[49m\u001b[43m \u001b[49m\u001b[38;5;241;43m0.3\u001b[39;49m\u001b[43m)\u001b[49m[\u001b[38;5;241m0\u001b[39m]\n\u001b[0;32m     91\u001b[0m \u001b[38;5;66;03m# print the first 10 predicted probabilities\u001b[39;00m\n\u001b[0;32m     92\u001b[0m \u001b[38;5;28mprint\u001b[39m(\u001b[38;5;124m'\u001b[39m\u001b[38;5;124mFirst 10 predicted probabilities:\u001b[39m\u001b[38;5;130;01m\\n\u001b[39;00m\u001b[38;5;124m'\u001b[39m, y_pred_prob[\u001b[38;5;241m0\u001b[39m:\u001b[38;5;241m10\u001b[39m])\n",
            "File \u001b[1;32m~\\AppData\\Local\\Packages\\PythonSoftwareFoundation.Python.3.12_qbz5n2kfra8p0\\LocalCache\\local-packages\\Python312\\site-packages\\sklearn\\utils\\_param_validation.py:191\u001b[0m, in \u001b[0;36mvalidate_params.<locals>.decorator.<locals>.wrapper\u001b[1;34m(*args, **kwargs)\u001b[0m\n\u001b[0;32m    188\u001b[0m func_sig \u001b[38;5;241m=\u001b[39m signature(func)\n\u001b[0;32m    190\u001b[0m \u001b[38;5;66;03m# Map *args/**kwargs to the function signature\u001b[39;00m\n\u001b[1;32m--> 191\u001b[0m params \u001b[38;5;241m=\u001b[39m \u001b[43mfunc_sig\u001b[49m\u001b[38;5;241;43m.\u001b[39;49m\u001b[43mbind\u001b[49m\u001b[43m(\u001b[49m\u001b[38;5;241;43m*\u001b[39;49m\u001b[43margs\u001b[49m\u001b[43m,\u001b[49m\u001b[43m \u001b[49m\u001b[38;5;241;43m*\u001b[39;49m\u001b[38;5;241;43m*\u001b[39;49m\u001b[43mkwargs\u001b[49m\u001b[43m)\u001b[49m\n\u001b[0;32m    192\u001b[0m params\u001b[38;5;241m.\u001b[39mapply_defaults()\n\u001b[0;32m    194\u001b[0m \u001b[38;5;66;03m# ignore self/cls and positional/keyword markers\u001b[39;00m\n",
            "File \u001b[1;32mC:\\Program Files\\WindowsApps\\PythonSoftwareFoundation.Python.3.12_3.12.2544.0_x64__qbz5n2kfra8p0\\Lib\\inspect.py:3277\u001b[0m, in \u001b[0;36mSignature.bind\u001b[1;34m(self, *args, **kwargs)\u001b[0m\n\u001b[0;32m   3272\u001b[0m \u001b[38;5;28;01mdef\u001b[39;00m \u001b[38;5;21mbind\u001b[39m(\u001b[38;5;28mself\u001b[39m, \u001b[38;5;241m/\u001b[39m, \u001b[38;5;241m*\u001b[39margs, \u001b[38;5;241m*\u001b[39m\u001b[38;5;241m*\u001b[39mkwargs):\n\u001b[0;32m   3273\u001b[0m \u001b[38;5;250m    \u001b[39m\u001b[38;5;124;03m\"\"\"Get a BoundArguments object, that maps the passed `args`\u001b[39;00m\n\u001b[0;32m   3274\u001b[0m \u001b[38;5;124;03m    and `kwargs` to the function's signature.  Raises `TypeError`\u001b[39;00m\n\u001b[0;32m   3275\u001b[0m \u001b[38;5;124;03m    if the passed arguments can not be bound.\u001b[39;00m\n\u001b[0;32m   3276\u001b[0m \u001b[38;5;124;03m    \"\"\"\u001b[39;00m\n\u001b[1;32m-> 3277\u001b[0m     \u001b[38;5;28;01mreturn\u001b[39;00m \u001b[38;5;28;43mself\u001b[39;49m\u001b[38;5;241;43m.\u001b[39;49m\u001b[43m_bind\u001b[49m\u001b[43m(\u001b[49m\u001b[43margs\u001b[49m\u001b[43m,\u001b[49m\u001b[43m \u001b[49m\u001b[43mkwargs\u001b[49m\u001b[43m)\u001b[49m\n",
            "File \u001b[1;32mC:\\Program Files\\WindowsApps\\PythonSoftwareFoundation.Python.3.12_3.12.2544.0_x64__qbz5n2kfra8p0\\Lib\\inspect.py:3201\u001b[0m, in \u001b[0;36mSignature._bind\u001b[1;34m(self, args, kwargs, partial)\u001b[0m\n\u001b[0;32m   3197\u001b[0m \u001b[38;5;28;01melse\u001b[39;00m:\n\u001b[0;32m   3198\u001b[0m     \u001b[38;5;28;01mif\u001b[39;00m param\u001b[38;5;241m.\u001b[39mkind \u001b[38;5;129;01min\u001b[39;00m (_VAR_KEYWORD, _KEYWORD_ONLY):\n\u001b[0;32m   3199\u001b[0m         \u001b[38;5;66;03m# Looks like we have no parameter for this positional\u001b[39;00m\n\u001b[0;32m   3200\u001b[0m         \u001b[38;5;66;03m# argument\u001b[39;00m\n\u001b[1;32m-> 3201\u001b[0m         \u001b[38;5;28;01mraise\u001b[39;00m \u001b[38;5;167;01mTypeError\u001b[39;00m(\n\u001b[0;32m   3202\u001b[0m             \u001b[38;5;124m'\u001b[39m\u001b[38;5;124mtoo many positional arguments\u001b[39m\u001b[38;5;124m'\u001b[39m) \u001b[38;5;28;01mfrom\u001b[39;00m \u001b[38;5;28;01mNone\u001b[39;00m\n\u001b[0;32m   3204\u001b[0m     \u001b[38;5;28;01mif\u001b[39;00m param\u001b[38;5;241m.\u001b[39mkind \u001b[38;5;241m==\u001b[39m _VAR_POSITIONAL:\n\u001b[0;32m   3205\u001b[0m         \u001b[38;5;66;03m# We have an '*args'-like argument, let's fill it with\u001b[39;00m\n\u001b[0;32m   3206\u001b[0m         \u001b[38;5;66;03m# all positional arguments we have left and move on to\u001b[39;00m\n\u001b[0;32m   3207\u001b[0m         \u001b[38;5;66;03m# the next phase\u001b[39;00m\n\u001b[0;32m   3208\u001b[0m         values \u001b[38;5;241m=\u001b[39m [arg_val]\n",
            "\u001b[1;31mTypeError\u001b[0m: too many positional arguments"
          ]
        },
        {
          "data": {
            "image/png": "[encoded data removed]",
            "text/plain": [
              "<Figure size 640x480 with 1 Axes>"
            ]
          },
          "metadata": {},
          "output_type": "display_data"
        }
      ],
      "source": [
        "bagging()"
      ]
    },
    {
      "cell_type": "markdown",
      "metadata": {
        "id": "AHaBdsSVkIxB"
      },
      "source": [
        "Boosting"
      ]
    },
    {
      "cell_type": "code",
      "execution_count": 39,
      "metadata": {
        "id": "bqCNxhDAkFzl"
      },
      "outputs": [],
      "source": [
        "def boosting():\n",
        "    # Building and fitting \n",
        "    clf = DecisionTreeClassifier(criterion='entropy', max_depth=1)\n",
        "    boost = AdaBoostClassifier(base_estimator=clf, n_estimators=500)\n",
        "    boost.fit(X_train, y_train)\n",
        "    \n",
        "    # make class predictions for the testing set\n",
        "    y_pred_class = boost.predict(X_test)\n",
        "    \n",
        "    accuracy_score = evalClassModel(boost, y_test, y_pred_class, True)\n",
        "\n",
        "    #Data for final graph\n",
        "    methodDict['Boosting'] = accuracy_score * 100"
      ]
    },
    {
      "cell_type": "code",
      "execution_count": 40,
      "metadata": {
        "colab": {
          "base_uri": "https://localhost:8080/",
          "height": 1000
        },
        "id": "96ixbYvckUnU",
        "outputId": "dfea6b0e-3cd6-4dc3-dedb-4e2d71fcc2db"
      },
      "outputs": [
        {
          "ename": "TypeError",
          "evalue": "AdaBoostClassifier.__init__() got an unexpected keyword argument 'base_estimator'",
          "output_type": "error",
          "traceback": [
            "\u001b[1;31m---------------------------------------------------------------------------\u001b[0m",
            "\u001b[1;31mTypeError\u001b[0m                                 Traceback (most recent call last)",
            "Cell \u001b[1;32mIn[40], line 1\u001b[0m\n\u001b[1;32m----> 1\u001b[0m \u001b[43mboosting\u001b[49m\u001b[43m(\u001b[49m\u001b[43m)\u001b[49m\n",
            "Cell \u001b[1;32mIn[39], line 4\u001b[0m, in \u001b[0;36mboosting\u001b[1;34m()\u001b[0m\n\u001b[0;32m      1\u001b[0m \u001b[38;5;28;01mdef\u001b[39;00m \u001b[38;5;21mboosting\u001b[39m():\n\u001b[0;32m      2\u001b[0m     \u001b[38;5;66;03m# Building and fitting \u001b[39;00m\n\u001b[0;32m      3\u001b[0m     clf \u001b[38;5;241m=\u001b[39m DecisionTreeClassifier(criterion\u001b[38;5;241m=\u001b[39m\u001b[38;5;124m'\u001b[39m\u001b[38;5;124mentropy\u001b[39m\u001b[38;5;124m'\u001b[39m, max_depth\u001b[38;5;241m=\u001b[39m\u001b[38;5;241m1\u001b[39m)\n\u001b[1;32m----> 4\u001b[0m     boost \u001b[38;5;241m=\u001b[39m \u001b[43mAdaBoostClassifier\u001b[49m\u001b[43m(\u001b[49m\u001b[43mbase_estimator\u001b[49m\u001b[38;5;241;43m=\u001b[39;49m\u001b[43mclf\u001b[49m\u001b[43m,\u001b[49m\u001b[43m \u001b[49m\u001b[43mn_estimators\u001b[49m\u001b[38;5;241;43m=\u001b[39;49m\u001b[38;5;241;43m500\u001b[39;49m\u001b[43m)\u001b[49m\n\u001b[0;32m      5\u001b[0m     boost\u001b[38;5;241m.\u001b[39mfit(X_train, y_train)\n\u001b[0;32m      7\u001b[0m     \u001b[38;5;66;03m# make class predictions for the testing set\u001b[39;00m\n",
            "\u001b[1;31mTypeError\u001b[0m: AdaBoostClassifier.__init__() got an unexpected keyword argument 'base_estimator'"
          ]
        }
      ],
      "source": [
        "boosting()"
      ]
    },
    {
      "cell_type": "markdown",
      "metadata": {
        "id": "5AuofdQ4klbn"
      },
      "source": [
        "Stacking"
      ]
    },
    {
      "cell_type": "code",
      "execution_count": 41,
      "metadata": {
        "id": "ER_4ukxQkcDa"
      },
      "outputs": [],
      "source": [
        "def stacking():\n",
        "    # Building and fitting \n",
        "    clf1 = KNeighborsClassifier(n_neighbors=1)\n",
        "    clf2 = RandomForestClassifier(random_state=1)\n",
        "    clf3 = GaussianNB()\n",
        "    lr = LogisticRegression()\n",
        "    stack = StackingClassifier(classifiers=[clf1, clf2, clf3], meta_classifier=lr)\n",
        "    stack.fit(X_train, y_train)\n",
        "    \n",
        "    # make class predictions for the testing set\n",
        "    y_pred_class = stack.predict(X_test)\n",
        "    \n",
        "    accuracy_score = evalClassModel(stack, y_test, y_pred_class, True)\n",
        "\n",
        "    #Data for final graph\n",
        "    methodDict['Stacking'] = accuracy_score * 100"
      ]
    },
    {
      "cell_type": "code",
      "execution_count": 42,
      "metadata": {
        "colab": {
          "base_uri": "https://localhost:8080/",
          "height": 1000
        },
        "id": "Q8996uuhkpuu",
        "outputId": "74944117-996d-4c89-e98e-11772e7f32fb"
      },
      "outputs": [
        {
          "name": "stdout",
          "output_type": "stream",
          "text": [
            "Accuracy: 0.8201058201058201\n",
            "Null accuracy:\n",
            " treatment\n",
            "0    191\n",
            "1    187\n",
            "Name: count, dtype: int64\n",
            "Percentage of ones: 0.4947089947089947\n",
            "Percentage of zeros: 0.5052910052910053\n",
            "True: [0 0 0 0 0 0 0 0 1 1 0 1 1 0 1 1 0 1 0 0 0 1 1 0 0]\n",
            "Pred: [1 0 0 0 0 1 0 0 1 1 0 1 1 1 1 1 0 1 0 0 0 0 1 0 0]\n"
          ]
        },
        {
          "data": {
            "image/png": "[encoded data removed]",
            "text/plain": [
              "<Figure size 640x480 with 2 Axes>"
            ]
          },
          "metadata": {},
          "output_type": "display_data"
        },
        {
          "name": "stdout",
          "output_type": "stream",
          "text": [
            "Classification Accuracy: 0.8201058201058201\n",
            "Classification Error: 0.17989417989417988\n",
            "False Positive Rate: 0.2094240837696335\n",
            "Precision: 0.7989949748743719\n",
            "AUC Score: 0.8204216479547554\n",
            "Cross-validated AUC: 0.8431811731188892\n",
            "First 10 predicted responses:\n",
            " [1 0 0 0 0 1 0 0 1 1]\n",
            "First 10 predicted probabilities of class members:\n",
            " [[0.01710016 0.98289984]\n",
            " [0.98670302 0.01329698]\n",
            " [0.98670302 0.01329698]\n",
            " [0.98670302 0.01329698]\n",
            " [0.98670302 0.01329698]\n",
            " [0.01710016 0.98289984]\n",
            " [0.98670302 0.01329698]\n",
            " [0.9734067  0.0265933 ]\n",
            " [0.03406817 0.96593183]\n",
            " [0.01710016 0.98289984]]\n"
          ]
        },
        {
          "ename": "TypeError",
          "evalue": "too many positional arguments",
          "output_type": "error",
          "traceback": [
            "\u001b[1;31m---------------------------------------------------------------------------\u001b[0m",
            "\u001b[1;31mTypeError\u001b[0m                                 Traceback (most recent call last)",
            "Cell \u001b[1;32mIn[42], line 1\u001b[0m\n\u001b[1;32m----> 1\u001b[0m \u001b[43mstacking\u001b[49m\u001b[43m(\u001b[49m\u001b[43m)\u001b[49m\n",
            "Cell \u001b[1;32mIn[41], line 13\u001b[0m, in \u001b[0;36mstacking\u001b[1;34m()\u001b[0m\n\u001b[0;32m     10\u001b[0m \u001b[38;5;66;03m# make class predictions for the testing set\u001b[39;00m\n\u001b[0;32m     11\u001b[0m y_pred_class \u001b[38;5;241m=\u001b[39m stack\u001b[38;5;241m.\u001b[39mpredict(X_test)\n\u001b[1;32m---> 13\u001b[0m accuracy_score \u001b[38;5;241m=\u001b[39m \u001b[43mevalClassModel\u001b[49m\u001b[43m(\u001b[49m\u001b[43mstack\u001b[49m\u001b[43m,\u001b[49m\u001b[43m \u001b[49m\u001b[43my_test\u001b[49m\u001b[43m,\u001b[49m\u001b[43m \u001b[49m\u001b[43my_pred_class\u001b[49m\u001b[43m,\u001b[49m\u001b[43m \u001b[49m\u001b[38;5;28;43;01mTrue\u001b[39;49;00m\u001b[43m)\u001b[49m\n\u001b[0;32m     15\u001b[0m \u001b[38;5;66;03m#Data for final graph\u001b[39;00m\n\u001b[0;32m     16\u001b[0m methodDict[\u001b[38;5;124m'\u001b[39m\u001b[38;5;124mStacking\u001b[39m\u001b[38;5;124m'\u001b[39m] \u001b[38;5;241m=\u001b[39m accuracy_score \u001b[38;5;241m*\u001b[39m \u001b[38;5;241m100\u001b[39m\n",
            "Cell \u001b[1;32mIn[27], line 89\u001b[0m, in \u001b[0;36mevalClassModel\u001b[1;34m(model, y_test, y_pred_class, plot)\u001b[0m\n\u001b[0;32m     85\u001b[0m \u001b[38;5;66;03m# predict treatment if the predicted probability is greater than 0.3\u001b[39;00m\n\u001b[0;32m     86\u001b[0m \u001b[38;5;66;03m# it will return 1 for all values above 0.3 and 0 otherwise\u001b[39;00m\n\u001b[0;32m     87\u001b[0m \u001b[38;5;66;03m# results are 2D so we slice out the first column\u001b[39;00m\n\u001b[0;32m     88\u001b[0m y_pred_prob \u001b[38;5;241m=\u001b[39m y_pred_prob\u001b[38;5;241m.\u001b[39mreshape(\u001b[38;5;241m-\u001b[39m\u001b[38;5;241m1\u001b[39m,\u001b[38;5;241m1\u001b[39m) \n\u001b[1;32m---> 89\u001b[0m y_pred_class \u001b[38;5;241m=\u001b[39m \u001b[43mbinarize\u001b[49m\u001b[43m(\u001b[49m\u001b[43my_pred_prob\u001b[49m\u001b[43m,\u001b[49m\u001b[43m \u001b[49m\u001b[38;5;241;43m0.3\u001b[39;49m\u001b[43m)\u001b[49m[\u001b[38;5;241m0\u001b[39m]\n\u001b[0;32m     91\u001b[0m \u001b[38;5;66;03m# print the first 10 predicted probabilities\u001b[39;00m\n\u001b[0;32m     92\u001b[0m \u001b[38;5;28mprint\u001b[39m(\u001b[38;5;124m'\u001b[39m\u001b[38;5;124mFirst 10 predicted probabilities:\u001b[39m\u001b[38;5;130;01m\\n\u001b[39;00m\u001b[38;5;124m'\u001b[39m, y_pred_prob[\u001b[38;5;241m0\u001b[39m:\u001b[38;5;241m10\u001b[39m])\n",
            "File \u001b[1;32m~\\AppData\\Local\\Packages\\PythonSoftwareFoundation.Python.3.12_qbz5n2kfra8p0\\LocalCache\\local-packages\\Python312\\site-packages\\sklearn\\utils\\_param_validation.py:191\u001b[0m, in \u001b[0;36mvalidate_params.<locals>.decorator.<locals>.wrapper\u001b[1;34m(*args, **kwargs)\u001b[0m\n\u001b[0;32m    188\u001b[0m func_sig \u001b[38;5;241m=\u001b[39m signature(func)\n\u001b[0;32m    190\u001b[0m \u001b[38;5;66;03m# Map *args/**kwargs to the function signature\u001b[39;00m\n\u001b[1;32m--> 191\u001b[0m params \u001b[38;5;241m=\u001b[39m \u001b[43mfunc_sig\u001b[49m\u001b[38;5;241;43m.\u001b[39;49m\u001b[43mbind\u001b[49m\u001b[43m(\u001b[49m\u001b[38;5;241;43m*\u001b[39;49m\u001b[43margs\u001b[49m\u001b[43m,\u001b[49m\u001b[43m \u001b[49m\u001b[38;5;241;43m*\u001b[39;49m\u001b[38;5;241;43m*\u001b[39;49m\u001b[43mkwargs\u001b[49m\u001b[43m)\u001b[49m\n\u001b[0;32m    192\u001b[0m params\u001b[38;5;241m.\u001b[39mapply_defaults()\n\u001b[0;32m    194\u001b[0m \u001b[38;5;66;03m# ignore self/cls and positional/keyword markers\u001b[39;00m\n",
            "File \u001b[1;32mC:\\Program Files\\WindowsApps\\PythonSoftwareFoundation.Python.3.12_3.12.2544.0_x64__qbz5n2kfra8p0\\Lib\\inspect.py:3277\u001b[0m, in \u001b[0;36mSignature.bind\u001b[1;34m(self, *args, **kwargs)\u001b[0m\n\u001b[0;32m   3272\u001b[0m \u001b[38;5;28;01mdef\u001b[39;00m \u001b[38;5;21mbind\u001b[39m(\u001b[38;5;28mself\u001b[39m, \u001b[38;5;241m/\u001b[39m, \u001b[38;5;241m*\u001b[39margs, \u001b[38;5;241m*\u001b[39m\u001b[38;5;241m*\u001b[39mkwargs):\n\u001b[0;32m   3273\u001b[0m \u001b[38;5;250m    \u001b[39m\u001b[38;5;124;03m\"\"\"Get a BoundArguments object, that maps the passed `args`\u001b[39;00m\n\u001b[0;32m   3274\u001b[0m \u001b[38;5;124;03m    and `kwargs` to the function's signature.  Raises `TypeError`\u001b[39;00m\n\u001b[0;32m   3275\u001b[0m \u001b[38;5;124;03m    if the passed arguments can not be bound.\u001b[39;00m\n\u001b[0;32m   3276\u001b[0m \u001b[38;5;124;03m    \"\"\"\u001b[39;00m\n\u001b[1;32m-> 3277\u001b[0m     \u001b[38;5;28;01mreturn\u001b[39;00m \u001b[38;5;28;43mself\u001b[39;49m\u001b[38;5;241;43m.\u001b[39;49m\u001b[43m_bind\u001b[49m\u001b[43m(\u001b[49m\u001b[43margs\u001b[49m\u001b[43m,\u001b[49m\u001b[43m \u001b[49m\u001b[43mkwargs\u001b[49m\u001b[43m)\u001b[49m\n",
            "File \u001b[1;32mC:\\Program Files\\WindowsApps\\PythonSoftwareFoundation.Python.3.12_3.12.2544.0_x64__qbz5n2kfra8p0\\Lib\\inspect.py:3201\u001b[0m, in \u001b[0;36mSignature._bind\u001b[1;34m(self, args, kwargs, partial)\u001b[0m\n\u001b[0;32m   3197\u001b[0m \u001b[38;5;28;01melse\u001b[39;00m:\n\u001b[0;32m   3198\u001b[0m     \u001b[38;5;28;01mif\u001b[39;00m param\u001b[38;5;241m.\u001b[39mkind \u001b[38;5;129;01min\u001b[39;00m (_VAR_KEYWORD, _KEYWORD_ONLY):\n\u001b[0;32m   3199\u001b[0m         \u001b[38;5;66;03m# Looks like we have no parameter for this positional\u001b[39;00m\n\u001b[0;32m   3200\u001b[0m         \u001b[38;5;66;03m# argument\u001b[39;00m\n\u001b[1;32m-> 3201\u001b[0m         \u001b[38;5;28;01mraise\u001b[39;00m \u001b[38;5;167;01mTypeError\u001b[39;00m(\n\u001b[0;32m   3202\u001b[0m             \u001b[38;5;124m'\u001b[39m\u001b[38;5;124mtoo many positional arguments\u001b[39m\u001b[38;5;124m'\u001b[39m) \u001b[38;5;28;01mfrom\u001b[39;00m \u001b[38;5;28;01mNone\u001b[39;00m\n\u001b[0;32m   3204\u001b[0m     \u001b[38;5;28;01mif\u001b[39;00m param\u001b[38;5;241m.\u001b[39mkind \u001b[38;5;241m==\u001b[39m _VAR_POSITIONAL:\n\u001b[0;32m   3205\u001b[0m         \u001b[38;5;66;03m# We have an '*args'-like argument, let's fill it with\u001b[39;00m\n\u001b[0;32m   3206\u001b[0m         \u001b[38;5;66;03m# all positional arguments we have left and move on to\u001b[39;00m\n\u001b[0;32m   3207\u001b[0m         \u001b[38;5;66;03m# the next phase\u001b[39;00m\n\u001b[0;32m   3208\u001b[0m         values \u001b[38;5;241m=\u001b[39m [arg_val]\n",
            "\u001b[1;31mTypeError\u001b[0m: too many positional arguments"
          ]
        },
        {
          "data": {
            "image/png": "[encoded data removed]",
            "text/plain": [
              "<Figure size 640x480 with 1 Axes>"
            ]
          },
          "metadata": {},
          "output_type": "display_data"
        }
      ],
      "source": [
        "stacking()"
      ]
    },
    {
      "cell_type": "markdown",
      "metadata": {
        "id": "t-3ZMNTqkyzV"
      },
      "source": [
        "#Predicting with Neural Network"
      ]
    },
    {
      "cell_type": "markdown",
      "metadata": {
        "id": "CudEize4lINa"
      },
      "source": [
        "Create input function"
      ]
    },
    {
      "cell_type": "code",
      "execution_count": 49,
      "metadata": {
        "colab": {
          "base_uri": "https://localhost:8080/"
        },
        "id": "uV5cCeJuku5Y",
        "outputId": "05a399aa-cacd-414f-9c11-e0dad5163005"
      },
      "outputs": [
        {
          "ename": "KeyboardInterrupt",
          "evalue": "",
          "output_type": "error",
          "traceback": [
            "\u001b[1;31m---------------------------------------------------------------------------\u001b[0m",
            "\u001b[1;31mKeyboardInterrupt\u001b[0m                         Traceback (most recent call last)",
            "Cell \u001b[1;32mIn[49], line 2\u001b[0m\n\u001b[0;32m      1\u001b[0m \u001b[38;5;66;03m# %tensorflow_version 1.x\u001b[39;00m\n\u001b[1;32m----> 2\u001b[0m \u001b[38;5;28;01mimport\u001b[39;00m \u001b[38;5;21;01mtensorflow\u001b[39;00m \u001b[38;5;28;01mas\u001b[39;00m \u001b[38;5;21;01mtf\u001b[39;00m\n\u001b[0;32m      3\u001b[0m \u001b[38;5;28;01mimport\u001b[39;00m \u001b[38;5;21;01margparse\u001b[39;00m\n",
            "File \u001b[1;32m~\\AppData\\Local\\Packages\\PythonSoftwareFoundation.Python.3.12_qbz5n2kfra8p0\\LocalCache\\local-packages\\Python312\\site-packages\\tensorflow\\__init__.py:462\u001b[0m\n\u001b[0;32m    460\u001b[0m     importlib\u001b[38;5;241m.\u001b[39mimport_module(\u001b[38;5;124m\"\u001b[39m\u001b[38;5;124mtf_keras.src.optimizers\u001b[39m\u001b[38;5;124m\"\u001b[39m)\n\u001b[0;32m    461\u001b[0m   \u001b[38;5;28;01melse\u001b[39;00m:\n\u001b[1;32m--> 462\u001b[0m     \u001b[43mimportlib\u001b[49m\u001b[38;5;241;43m.\u001b[39;49m\u001b[43mimport_module\u001b[49m\u001b[43m(\u001b[49m\u001b[38;5;124;43m\"\u001b[39;49m\u001b[38;5;124;43mkeras.src.optimizers\u001b[39;49m\u001b[38;5;124;43m\"\u001b[39;49m\u001b[43m)\u001b[49m\n\u001b[0;32m    463\u001b[0m \u001b[38;5;28;01mexcept\u001b[39;00m (\u001b[38;5;167;01mImportError\u001b[39;00m, \u001b[38;5;167;01mAttributeError\u001b[39;00m):\n\u001b[0;32m    464\u001b[0m   \u001b[38;5;28;01mpass\u001b[39;00m\n",
            "File \u001b[1;32mC:\\Program Files\\WindowsApps\\PythonSoftwareFoundation.Python.3.12_3.12.2544.0_x64__qbz5n2kfra8p0\\Lib\\importlib\\__init__.py:90\u001b[0m, in \u001b[0;36mimport_module\u001b[1;34m(name, package)\u001b[0m\n\u001b[0;32m     88\u001b[0m             \u001b[38;5;28;01mbreak\u001b[39;00m\n\u001b[0;32m     89\u001b[0m         level \u001b[38;5;241m+\u001b[39m\u001b[38;5;241m=\u001b[39m \u001b[38;5;241m1\u001b[39m\n\u001b[1;32m---> 90\u001b[0m \u001b[38;5;28;01mreturn\u001b[39;00m \u001b[43m_bootstrap\u001b[49m\u001b[38;5;241;43m.\u001b[39;49m\u001b[43m_gcd_import\u001b[49m\u001b[43m(\u001b[49m\u001b[43mname\u001b[49m\u001b[43m[\u001b[49m\u001b[43mlevel\u001b[49m\u001b[43m:\u001b[49m\u001b[43m]\u001b[49m\u001b[43m,\u001b[49m\u001b[43m \u001b[49m\u001b[43mpackage\u001b[49m\u001b[43m,\u001b[49m\u001b[43m \u001b[49m\u001b[43mlevel\u001b[49m\u001b[43m)\u001b[49m\n",
            "File \u001b[1;32m~\\AppData\\Local\\Packages\\PythonSoftwareFoundation.Python.3.12_qbz5n2kfra8p0\\LocalCache\\local-packages\\Python312\\site-packages\\keras\\__init__.py:4\u001b[0m\n\u001b[0;32m      1\u001b[0m \u001b[38;5;28;01mimport\u001b[39;00m \u001b[38;5;21;01mos\u001b[39;00m\n\u001b[0;32m      3\u001b[0m \u001b[38;5;66;03m# DO NOT EDIT. Generated by api_gen.sh\u001b[39;00m\n\u001b[1;32m----> 4\u001b[0m \u001b[38;5;28;01mfrom\u001b[39;00m \u001b[38;5;21;01mkeras\u001b[39;00m\u001b[38;5;21;01m.\u001b[39;00m\u001b[38;5;21;01mapi\u001b[39;00m \u001b[38;5;28;01mimport\u001b[39;00m DTypePolicy\n\u001b[0;32m      5\u001b[0m \u001b[38;5;28;01mfrom\u001b[39;00m \u001b[38;5;21;01mkeras\u001b[39;00m\u001b[38;5;21;01m.\u001b[39;00m\u001b[38;5;21;01mapi\u001b[39;00m \u001b[38;5;28;01mimport\u001b[39;00m FloatDTypePolicy\n\u001b[0;32m      6\u001b[0m \u001b[38;5;28;01mfrom\u001b[39;00m \u001b[38;5;21;01mkeras\u001b[39;00m\u001b[38;5;21;01m.\u001b[39;00m\u001b[38;5;21;01mapi\u001b[39;00m \u001b[38;5;28;01mimport\u001b[39;00m Function\n",
            "File \u001b[1;32m~\\AppData\\Local\\Packages\\PythonSoftwareFoundation.Python.3.12_qbz5n2kfra8p0\\LocalCache\\local-packages\\Python312\\site-packages\\keras\\api\\__init__.py:8\u001b[0m\n\u001b[0;32m      1\u001b[0m \u001b[38;5;124;03m\"\"\"DO NOT EDIT.\u001b[39;00m\n\u001b[0;32m      2\u001b[0m \n\u001b[0;32m      3\u001b[0m \u001b[38;5;124;03mThis file was autogenerated. Do not edit it by hand,\u001b[39;00m\n\u001b[0;32m      4\u001b[0m \u001b[38;5;124;03msince your modifications would be overwritten.\u001b[39;00m\n\u001b[0;32m      5\u001b[0m \u001b[38;5;124;03m\"\"\"\u001b[39;00m\n\u001b[1;32m----> 8\u001b[0m \u001b[38;5;28;01mfrom\u001b[39;00m \u001b[38;5;21;01mkeras\u001b[39;00m\u001b[38;5;21;01m.\u001b[39;00m\u001b[38;5;21;01mapi\u001b[39;00m \u001b[38;5;28;01mimport\u001b[39;00m activations\n\u001b[0;32m      9\u001b[0m \u001b[38;5;28;01mfrom\u001b[39;00m \u001b[38;5;21;01mkeras\u001b[39;00m\u001b[38;5;21;01m.\u001b[39;00m\u001b[38;5;21;01mapi\u001b[39;00m \u001b[38;5;28;01mimport\u001b[39;00m applications\n\u001b[0;32m     10\u001b[0m \u001b[38;5;28;01mfrom\u001b[39;00m \u001b[38;5;21;01mkeras\u001b[39;00m\u001b[38;5;21;01m.\u001b[39;00m\u001b[38;5;21;01mapi\u001b[39;00m \u001b[38;5;28;01mimport\u001b[39;00m backend\n",
            "File \u001b[1;32m~\\AppData\\Local\\Packages\\PythonSoftwareFoundation.Python.3.12_qbz5n2kfra8p0\\LocalCache\\local-packages\\Python312\\site-packages\\keras\\api\\activations\\__init__.py:7\u001b[0m\n\u001b[0;32m      1\u001b[0m \u001b[38;5;124;03m\"\"\"DO NOT EDIT.\u001b[39;00m\n\u001b[0;32m      2\u001b[0m \n\u001b[0;32m      3\u001b[0m \u001b[38;5;124;03mThis file was autogenerated. Do not edit it by hand,\u001b[39;00m\n\u001b[0;32m      4\u001b[0m \u001b[38;5;124;03msince your modifications would be overwritten.\u001b[39;00m\n\u001b[0;32m      5\u001b[0m \u001b[38;5;124;03m\"\"\"\u001b[39;00m\n\u001b[1;32m----> 7\u001b[0m \u001b[38;5;28;01mfrom\u001b[39;00m \u001b[38;5;21;01mkeras\u001b[39;00m\u001b[38;5;21;01m.\u001b[39;00m\u001b[38;5;21;01msrc\u001b[39;00m\u001b[38;5;21;01m.\u001b[39;00m\u001b[38;5;21;01mactivations\u001b[39;00m \u001b[38;5;28;01mimport\u001b[39;00m deserialize\n\u001b[0;32m      8\u001b[0m \u001b[38;5;28;01mfrom\u001b[39;00m \u001b[38;5;21;01mkeras\u001b[39;00m\u001b[38;5;21;01m.\u001b[39;00m\u001b[38;5;21;01msrc\u001b[39;00m\u001b[38;5;21;01m.\u001b[39;00m\u001b[38;5;21;01mactivations\u001b[39;00m \u001b[38;5;28;01mimport\u001b[39;00m get\n\u001b[0;32m      9\u001b[0m \u001b[38;5;28;01mfrom\u001b[39;00m \u001b[38;5;21;01mkeras\u001b[39;00m\u001b[38;5;21;01m.\u001b[39;00m\u001b[38;5;21;01msrc\u001b[39;00m\u001b[38;5;21;01m.\u001b[39;00m\u001b[38;5;21;01mactivations\u001b[39;00m \u001b[38;5;28;01mimport\u001b[39;00m serialize\n",
            "File \u001b[1;32m~\\AppData\\Local\\Packages\\PythonSoftwareFoundation.Python.3.12_qbz5n2kfra8p0\\LocalCache\\local-packages\\Python312\\site-packages\\keras\\src\\__init__.py:1\u001b[0m\n\u001b[1;32m----> 1\u001b[0m \u001b[38;5;28;01mfrom\u001b[39;00m \u001b[38;5;21;01mkeras\u001b[39;00m\u001b[38;5;21;01m.\u001b[39;00m\u001b[38;5;21;01msrc\u001b[39;00m \u001b[38;5;28;01mimport\u001b[39;00m activations\n\u001b[0;32m      2\u001b[0m \u001b[38;5;28;01mfrom\u001b[39;00m \u001b[38;5;21;01mkeras\u001b[39;00m\u001b[38;5;21;01m.\u001b[39;00m\u001b[38;5;21;01msrc\u001b[39;00m \u001b[38;5;28;01mimport\u001b[39;00m applications\n\u001b[0;32m      3\u001b[0m \u001b[38;5;28;01mfrom\u001b[39;00m \u001b[38;5;21;01mkeras\u001b[39;00m\u001b[38;5;21;01m.\u001b[39;00m\u001b[38;5;21;01msrc\u001b[39;00m \u001b[38;5;28;01mimport\u001b[39;00m backend\n",
            "File \u001b[1;32m~\\AppData\\Local\\Packages\\PythonSoftwareFoundation.Python.3.12_qbz5n2kfra8p0\\LocalCache\\local-packages\\Python312\\site-packages\\keras\\src\\activations\\__init__.py:3\u001b[0m\n\u001b[0;32m      1\u001b[0m \u001b[38;5;28;01mimport\u001b[39;00m \u001b[38;5;21;01mtypes\u001b[39;00m\n\u001b[1;32m----> 3\u001b[0m \u001b[38;5;28;01mfrom\u001b[39;00m \u001b[38;5;21;01mkeras\u001b[39;00m\u001b[38;5;21;01m.\u001b[39;00m\u001b[38;5;21;01msrc\u001b[39;00m\u001b[38;5;21;01m.\u001b[39;00m\u001b[38;5;21;01mactivations\u001b[39;00m\u001b[38;5;21;01m.\u001b[39;00m\u001b[38;5;21;01mactivations\u001b[39;00m \u001b[38;5;28;01mimport\u001b[39;00m elu\n\u001b[0;32m      4\u001b[0m \u001b[38;5;28;01mfrom\u001b[39;00m \u001b[38;5;21;01mkeras\u001b[39;00m\u001b[38;5;21;01m.\u001b[39;00m\u001b[38;5;21;01msrc\u001b[39;00m\u001b[38;5;21;01m.\u001b[39;00m\u001b[38;5;21;01mactivations\u001b[39;00m\u001b[38;5;21;01m.\u001b[39;00m\u001b[38;5;21;01mactivations\u001b[39;00m \u001b[38;5;28;01mimport\u001b[39;00m exponential\n\u001b[0;32m      5\u001b[0m \u001b[38;5;28;01mfrom\u001b[39;00m \u001b[38;5;21;01mkeras\u001b[39;00m\u001b[38;5;21;01m.\u001b[39;00m\u001b[38;5;21;01msrc\u001b[39;00m\u001b[38;5;21;01m.\u001b[39;00m\u001b[38;5;21;01mactivations\u001b[39;00m\u001b[38;5;21;01m.\u001b[39;00m\u001b[38;5;21;01mactivations\u001b[39;00m \u001b[38;5;28;01mimport\u001b[39;00m gelu\n",
            "File \u001b[1;32m~\\AppData\\Local\\Packages\\PythonSoftwareFoundation.Python.3.12_qbz5n2kfra8p0\\LocalCache\\local-packages\\Python312\\site-packages\\keras\\src\\activations\\activations.py:1\u001b[0m\n\u001b[1;32m----> 1\u001b[0m \u001b[38;5;28;01mfrom\u001b[39;00m \u001b[38;5;21;01mkeras\u001b[39;00m\u001b[38;5;21;01m.\u001b[39;00m\u001b[38;5;21;01msrc\u001b[39;00m \u001b[38;5;28;01mimport\u001b[39;00m backend\n\u001b[0;32m      2\u001b[0m \u001b[38;5;28;01mfrom\u001b[39;00m \u001b[38;5;21;01mkeras\u001b[39;00m\u001b[38;5;21;01m.\u001b[39;00m\u001b[38;5;21;01msrc\u001b[39;00m \u001b[38;5;28;01mimport\u001b[39;00m ops\n\u001b[0;32m      3\u001b[0m \u001b[38;5;28;01mfrom\u001b[39;00m \u001b[38;5;21;01mkeras\u001b[39;00m\u001b[38;5;21;01m.\u001b[39;00m\u001b[38;5;21;01msrc\u001b[39;00m\u001b[38;5;21;01m.\u001b[39;00m\u001b[38;5;21;01mapi_export\u001b[39;00m \u001b[38;5;28;01mimport\u001b[39;00m keras_export\n",
            "File \u001b[1;32m~\\AppData\\Local\\Packages\\PythonSoftwareFoundation.Python.3.12_qbz5n2kfra8p0\\LocalCache\\local-packages\\Python312\\site-packages\\keras\\src\\backend\\__init__.py:1\u001b[0m\n\u001b[1;32m----> 1\u001b[0m \u001b[38;5;28;01mfrom\u001b[39;00m \u001b[38;5;21;01mkeras\u001b[39;00m\u001b[38;5;21;01m.\u001b[39;00m\u001b[38;5;21;01msrc\u001b[39;00m\u001b[38;5;21;01m.\u001b[39;00m\u001b[38;5;21;01mbackend\u001b[39;00m\u001b[38;5;21;01m.\u001b[39;00m\u001b[38;5;21;01mconfig\u001b[39;00m \u001b[38;5;28;01mimport\u001b[39;00m backend\n\u001b[0;32m      3\u001b[0m \u001b[38;5;28;01mif\u001b[39;00m backend() \u001b[38;5;241m==\u001b[39m \u001b[38;5;124m\"\u001b[39m\u001b[38;5;124mtorch\u001b[39m\u001b[38;5;124m\"\u001b[39m:\n\u001b[0;32m      4\u001b[0m     \u001b[38;5;66;03m# When using the torch backend,\u001b[39;00m\n\u001b[0;32m      5\u001b[0m     \u001b[38;5;66;03m# torch needs to be imported first, otherwise it will segfault\u001b[39;00m\n\u001b[0;32m      6\u001b[0m     \u001b[38;5;66;03m# upon import.\u001b[39;00m\n\u001b[0;32m      7\u001b[0m     \u001b[38;5;28;01mimport\u001b[39;00m \u001b[38;5;21;01mtorch\u001b[39;00m\n",
            "File \u001b[1;32m~\\AppData\\Local\\Packages\\PythonSoftwareFoundation.Python.3.12_qbz5n2kfra8p0\\LocalCache\\local-packages\\Python312\\site-packages\\keras\\src\\backend\\config.py:4\u001b[0m\n\u001b[0;32m      1\u001b[0m \u001b[38;5;28;01mimport\u001b[39;00m \u001b[38;5;21;01mjson\u001b[39;00m\n\u001b[0;32m      2\u001b[0m \u001b[38;5;28;01mimport\u001b[39;00m \u001b[38;5;21;01mos\u001b[39;00m\n\u001b[1;32m----> 4\u001b[0m \u001b[38;5;28;01mfrom\u001b[39;00m \u001b[38;5;21;01mkeras\u001b[39;00m\u001b[38;5;21;01m.\u001b[39;00m\u001b[38;5;21;01msrc\u001b[39;00m\u001b[38;5;21;01m.\u001b[39;00m\u001b[38;5;21;01mapi_export\u001b[39;00m \u001b[38;5;28;01mimport\u001b[39;00m keras_export\n\u001b[0;32m      6\u001b[0m \u001b[38;5;66;03m# The type of float to use throughout a session.\u001b[39;00m\n\u001b[0;32m      7\u001b[0m _FLOATX \u001b[38;5;241m=\u001b[39m \u001b[38;5;124m\"\u001b[39m\u001b[38;5;124mfloat32\u001b[39m\u001b[38;5;124m\"\u001b[39m\n",
            "File \u001b[1;32m~\\AppData\\Local\\Packages\\PythonSoftwareFoundation.Python.3.12_qbz5n2kfra8p0\\LocalCache\\local-packages\\Python312\\site-packages\\keras\\src\\api_export.py:2\u001b[0m\n\u001b[0;32m      1\u001b[0m \u001b[38;5;28;01mtry\u001b[39;00m:\n\u001b[1;32m----> 2\u001b[0m     \u001b[38;5;28;01mimport\u001b[39;00m \u001b[38;5;21;01mnamex\u001b[39;00m\n\u001b[0;32m      3\u001b[0m \u001b[38;5;28;01mexcept\u001b[39;00m \u001b[38;5;167;01mImportError\u001b[39;00m:\n\u001b[0;32m      4\u001b[0m     namex \u001b[38;5;241m=\u001b[39m \u001b[38;5;28;01mNone\u001b[39;00m\n",
            "File \u001b[1;32m~\\AppData\\Local\\Packages\\PythonSoftwareFoundation.Python.3.12_qbz5n2kfra8p0\\LocalCache\\local-packages\\Python312\\site-packages\\namex\\__init__.py:2\u001b[0m\n\u001b[0;32m      1\u001b[0m \u001b[38;5;28;01mfrom\u001b[39;00m \u001b[38;5;21;01mnamex\u001b[39;00m\u001b[38;5;21;01m.\u001b[39;00m\u001b[38;5;21;01mconvert\u001b[39;00m \u001b[38;5;28;01mimport\u001b[39;00m convert_codebase\n\u001b[1;32m----> 2\u001b[0m \u001b[38;5;28;01mfrom\u001b[39;00m \u001b[38;5;21;01mnamex\u001b[39;00m\u001b[38;5;21;01m.\u001b[39;00m\u001b[38;5;21;01mexport\u001b[39;00m \u001b[38;5;28;01mimport\u001b[39;00m export\n\u001b[0;32m      3\u001b[0m \u001b[38;5;28;01mfrom\u001b[39;00m \u001b[38;5;21;01mnamex\u001b[39;00m\u001b[38;5;21;01m.\u001b[39;00m\u001b[38;5;21;01mgenerate\u001b[39;00m \u001b[38;5;28;01mimport\u001b[39;00m generate_api_files\n",
            "File \u001b[1;32m<frozen importlib._bootstrap>:1360\u001b[0m, in \u001b[0;36m_find_and_load\u001b[1;34m(name, import_)\u001b[0m\n",
            "File \u001b[1;32m<frozen importlib._bootstrap>:1331\u001b[0m, in \u001b[0;36m_find_and_load_unlocked\u001b[1;34m(name, import_)\u001b[0m\n",
            "File \u001b[1;32m<frozen importlib._bootstrap>:935\u001b[0m, in \u001b[0;36m_load_unlocked\u001b[1;34m(spec)\u001b[0m\n",
            "File \u001b[1;32m<frozen importlib._bootstrap_external>:995\u001b[0m, in \u001b[0;36mexec_module\u001b[1;34m(self, module)\u001b[0m\n",
            "File \u001b[1;32m<frozen importlib._bootstrap_external>:1091\u001b[0m, in \u001b[0;36mget_code\u001b[1;34m(self, fullname)\u001b[0m\n",
            "File \u001b[1;32m<frozen importlib._bootstrap_external>:1190\u001b[0m, in \u001b[0;36mget_data\u001b[1;34m(self, path)\u001b[0m\n",
            "\u001b[1;31mKeyboardInterrupt\u001b[0m: "
          ]
        }
      ],
      "source": [
        "# %tensorflow_version 1.x\n",
        "import tensorflow as tf\n",
        "import argparse"
      ]
    },
    {
      "cell_type": "code",
      "execution_count": 46,
      "metadata": {
        "colab": {
          "base_uri": "https://localhost:8080/"
        },
        "id": "wVaBMhL3orLQ",
        "outputId": "dab110b4-b3b5-420d-8612-2d4426454a5c"
      },
      "outputs": [
        {
          "ename": "NameError",
          "evalue": "name 'tf' is not defined",
          "output_type": "error",
          "traceback": [
            "\u001b[1;31m---------------------------------------------------------------------------\u001b[0m",
            "\u001b[1;31mNameError\u001b[0m                                 Traceback (most recent call last)",
            "Cell \u001b[1;32mIn[46], line 1\u001b[0m\n\u001b[1;32m----> 1\u001b[0m \u001b[38;5;28mprint\u001b[39m(\u001b[43mtf\u001b[49m\u001b[38;5;241m.\u001b[39m__version__)\n",
            "\u001b[1;31mNameError\u001b[0m: name 'tf' is not defined"
          ]
        }
      ],
      "source": [
        "print(tf.__version__)"
      ]
    },
    {
      "cell_type": "code",
      "execution_count": 47,
      "metadata": {
        "id": "052nJ7QslObk"
      },
      "outputs": [],
      "source": [
        "batch_size = 100\n",
        "train_steps = 1000\n",
        "\n",
        "X_train, X_test, y_train, y_test = train_test_split(X, y, test_size=0.30, random_state=0)\n",
        "\n",
        "def train_input_fn(features, labels, batch_size):\n",
        "    \"\"\"An input function for training\"\"\"\n",
        "    # Convert the inputs to a Dataset.\n",
        "    dataset = tf.data.Dataset.from_tensor_slices((dict(features), labels))\n",
        "\n",
        "    # Shuffle, repeat, and batch the examples.\n",
        "    return dataset.shuffle(1000).repeat().batch(batch_size)\n",
        "\n",
        "def eval_input_fn(features, labels, batch_size):\n",
        "    \"\"\"An input function for evaluation or prediction\"\"\"\n",
        "    features=dict(features)\n",
        "    if labels is None:\n",
        "        # No labels, use only features.\n",
        "        inputs = features\n",
        "    else:\n",
        "        inputs = (features, labels)\n",
        "\n",
        "    # Convert the inputs to a Dataset.\n",
        "    dataset = tf.data.Dataset.from_tensor_slices(inputs)\n",
        "\n",
        "    # Batch the examples\n",
        "    assert batch_size is not None, \"batch_size must not be None\"\n",
        "    dataset = dataset.batch(batch_size)\n",
        "\n",
        "    # Return the dataset.\n",
        "    return dataset"
      ]
    },
    {
      "cell_type": "markdown",
      "metadata": {
        "id": "LxxCxpSGlmJh"
      },
      "source": [
        "Define the feature columns"
      ]
    },
    {
      "cell_type": "code",
      "execution_count": 48,
      "metadata": {
        "id": "R61A8-p5lZg3"
      },
      "outputs": [
        {
          "ename": "NameError",
          "evalue": "name 'tf' is not defined",
          "output_type": "error",
          "traceback": [
            "\u001b[1;31m---------------------------------------------------------------------------\u001b[0m",
            "\u001b[1;31mNameError\u001b[0m                                 Traceback (most recent call last)",
            "Cell \u001b[1;32mIn[48], line 2\u001b[0m\n\u001b[0;32m      1\u001b[0m \u001b[38;5;66;03m# Define Tensorflow feature columns\u001b[39;00m\n\u001b[1;32m----> 2\u001b[0m age \u001b[38;5;241m=\u001b[39m \u001b[43mtf\u001b[49m\u001b[38;5;241m.\u001b[39mfeature_column\u001b[38;5;241m.\u001b[39mnumeric_column(\u001b[38;5;124m\"\u001b[39m\u001b[38;5;124mAge\u001b[39m\u001b[38;5;124m\"\u001b[39m)\n\u001b[0;32m      3\u001b[0m gender \u001b[38;5;241m=\u001b[39m tf\u001b[38;5;241m.\u001b[39mfeature_column\u001b[38;5;241m.\u001b[39mnumeric_column(\u001b[38;5;124m\"\u001b[39m\u001b[38;5;124mGender\u001b[39m\u001b[38;5;124m\"\u001b[39m)\n\u001b[0;32m      4\u001b[0m family_history \u001b[38;5;241m=\u001b[39m tf\u001b[38;5;241m.\u001b[39mfeature_column\u001b[38;5;241m.\u001b[39mnumeric_column(\u001b[38;5;124m\"\u001b[39m\u001b[38;5;124mfamily_history\u001b[39m\u001b[38;5;124m\"\u001b[39m)\n",
            "\u001b[1;31mNameError\u001b[0m: name 'tf' is not defined"
          ]
        }
      ],
      "source": [
        "# Define Tensorflow feature columns\n",
        "age = tf.feature_column.numeric_column(\"Age\")\n",
        "gender = tf.feature_column.numeric_column(\"Gender\")\n",
        "family_history = tf.feature_column.numeric_column(\"family_history\")\n",
        "benefits = tf.feature_column.numeric_column(\"benefits\")\n",
        "care_options = tf.feature_column.numeric_column(\"care_options\")\n",
        "anonymity = tf.feature_column.numeric_column(\"anonymity\")\n",
        "leave = tf.feature_column.numeric_column(\"leave\")\n",
        "work_interfere = tf.feature_column.numeric_column(\"work_interfere\")\n",
        "feature_columns = [age, gender, family_history, benefits, care_options, anonymity, leave, work_interfere]"
      ]
    },
    {
      "cell_type": "markdown",
      "metadata": {
        "id": "iom0cxX3lvIv"
      },
      "source": [
        "Instantiate an Estimator"
      ]
    },
    {
      "cell_type": "code",
      "execution_count": 50,
      "metadata": {
        "colab": {
          "base_uri": "https://localhost:8080/"
        },
        "id": "VL70hhsblplj",
        "outputId": "97f009d3-d1a2-4734-f97d-d76ccfbe3783"
      },
      "outputs": [
        {
          "ename": "NameError",
          "evalue": "name 'tf' is not defined",
          "output_type": "error",
          "traceback": [
            "\u001b[1;31m---------------------------------------------------------------------------\u001b[0m",
            "\u001b[1;31mNameError\u001b[0m                                 Traceback (most recent call last)",
            "Cell \u001b[1;32mIn[50], line 2\u001b[0m\n\u001b[0;32m      1\u001b[0m \u001b[38;5;66;03m# Build a DNN with 2 hidden layers and 10 nodes in each hidden layer.\u001b[39;00m\n\u001b[1;32m----> 2\u001b[0m model \u001b[38;5;241m=\u001b[39m \u001b[43mtf\u001b[49m\u001b[38;5;241m.\u001b[39mestimator\u001b[38;5;241m.\u001b[39mDNNClassifier(feature_columns\u001b[38;5;241m=\u001b[39mfeature_columns,\n\u001b[0;32m      3\u001b[0m                                     hidden_units\u001b[38;5;241m=\u001b[39m[\u001b[38;5;241m10\u001b[39m, \u001b[38;5;241m10\u001b[39m],\n\u001b[0;32m      4\u001b[0m                                     optimizer\u001b[38;5;241m=\u001b[39mtf\u001b[38;5;241m.\u001b[39mtrain\u001b[38;5;241m.\u001b[39mProximalAdagradOptimizer(\n\u001b[0;32m      5\u001b[0m                                       learning_rate\u001b[38;5;241m=\u001b[39m\u001b[38;5;241m0.1\u001b[39m,\n\u001b[0;32m      6\u001b[0m                                       l1_regularization_strength\u001b[38;5;241m=\u001b[39m\u001b[38;5;241m0.001\u001b[39m\n\u001b[0;32m      7\u001b[0m                                     ))\n",
            "\u001b[1;31mNameError\u001b[0m: name 'tf' is not defined"
          ]
        }
      ],
      "source": [
        "# Build a DNN with 2 hidden layers and 10 nodes in each hidden layer.\n",
        "model = tf.estimator.DNNClassifier(feature_columns=feature_columns,\n",
        "                                    hidden_units=[10, 10],\n",
        "                                    optimizer=tf.train.ProximalAdagradOptimizer(\n",
        "                                      learning_rate=0.1,\n",
        "                                      l1_regularization_strength=0.001\n",
        "                                    ))"
      ]
    },
    {
      "cell_type": "markdown",
      "metadata": {
        "id": "50LjE4jymBHn"
      },
      "source": [
        "Train the model"
      ]
    },
    {
      "cell_type": "code",
      "execution_count": 51,
      "metadata": {
        "colab": {
          "base_uri": "https://localhost:8080/"
        },
        "id": "-0TS4sSTlyrk",
        "outputId": "33269775-091a-48d8-c449-bd89f4cad8a1"
      },
      "outputs": [
        {
          "ename": "NameError",
          "evalue": "name 'model' is not defined",
          "output_type": "error",
          "traceback": [
            "\u001b[1;31m---------------------------------------------------------------------------\u001b[0m",
            "\u001b[1;31mNameError\u001b[0m                                 Traceback (most recent call last)",
            "Cell \u001b[1;32mIn[51], line 1\u001b[0m\n\u001b[1;32m----> 1\u001b[0m \u001b[43mmodel\u001b[49m\u001b[38;5;241m.\u001b[39mtrain(input_fn\u001b[38;5;241m=\u001b[39m\u001b[38;5;28;01mlambda\u001b[39;00m:train_input_fn(X_train, y_train, batch_size), steps\u001b[38;5;241m=\u001b[39mtrain_steps)\n",
            "\u001b[1;31mNameError\u001b[0m: name 'model' is not defined"
          ]
        }
      ],
      "source": [
        "model.train(input_fn=lambda:train_input_fn(X_train, y_train, batch_size), steps=train_steps)"
      ]
    },
    {
      "cell_type": "markdown",
      "metadata": {
        "id": "fnibVSWuqMgV"
      },
      "source": [
        "Evaluate the model"
      ]
    },
    {
      "cell_type": "code",
      "execution_count": 52,
      "metadata": {
        "colab": {
          "base_uri": "https://localhost:8080/"
        },
        "id": "ZbSZMOvzqIfa",
        "outputId": "688386c0-8a3e-4686-a86c-32c8ca3c857c"
      },
      "outputs": [
        {
          "ename": "NameError",
          "evalue": "name 'model' is not defined",
          "output_type": "error",
          "traceback": [
            "\u001b[1;31m---------------------------------------------------------------------------\u001b[0m",
            "\u001b[1;31mNameError\u001b[0m                                 Traceback (most recent call last)",
            "Cell \u001b[1;32mIn[52], line 2\u001b[0m\n\u001b[0;32m      1\u001b[0m \u001b[38;5;66;03m# Evaluate the model.\u001b[39;00m\n\u001b[1;32m----> 2\u001b[0m eval_result \u001b[38;5;241m=\u001b[39m \u001b[43mmodel\u001b[49m\u001b[38;5;241m.\u001b[39mevaluate(\n\u001b[0;32m      3\u001b[0m     input_fn\u001b[38;5;241m=\u001b[39m\u001b[38;5;28;01mlambda\u001b[39;00m:eval_input_fn(X_test, y_test, batch_size))\n\u001b[0;32m      5\u001b[0m \u001b[38;5;28mprint\u001b[39m(\u001b[38;5;124m'\u001b[39m\u001b[38;5;130;01m\\n\u001b[39;00m\u001b[38;5;124mTest set accuracy: \u001b[39m\u001b[38;5;132;01m{accuracy:0.2f}\u001b[39;00m\u001b[38;5;130;01m\\n\u001b[39;00m\u001b[38;5;124m'\u001b[39m\u001b[38;5;241m.\u001b[39mformat(\u001b[38;5;241m*\u001b[39m\u001b[38;5;241m*\u001b[39meval_result))\n\u001b[0;32m      7\u001b[0m \u001b[38;5;66;03m#Data for final graph\u001b[39;00m\n",
            "\u001b[1;31mNameError\u001b[0m: name 'model' is not defined"
          ]
        }
      ],
      "source": [
        "# Evaluate the model.\n",
        "eval_result = model.evaluate(\n",
        "    input_fn=lambda:eval_input_fn(X_test, y_test, batch_size))\n",
        "\n",
        "print('\\nTest set accuracy: {accuracy:0.2f}\\n'.format(**eval_result))\n",
        "\n",
        "#Data for final graph\n",
        "accuracy = eval_result['accuracy'] * 100\n",
        "methodDict['Neural Network'] = accuracy"
      ]
    },
    {
      "cell_type": "markdown",
      "metadata": {
        "id": "ThzYnW6MqU27"
      },
      "source": [
        "Making predictions (inferring) from the trained model"
      ]
    },
    {
      "cell_type": "code",
      "execution_count": 53,
      "metadata": {
        "colab": {
          "base_uri": "https://localhost:8080/"
        },
        "id": "uU3dQmR6qQmy",
        "outputId": "83ee14a0-d187-43ec-fb50-b1b343806a9a"
      },
      "outputs": [
        {
          "ename": "NameError",
          "evalue": "name 'model' is not defined",
          "output_type": "error",
          "traceback": [
            "\u001b[1;31m---------------------------------------------------------------------------\u001b[0m",
            "\u001b[1;31mNameError\u001b[0m                                 Traceback (most recent call last)",
            "Cell \u001b[1;32mIn[53], line 1\u001b[0m\n\u001b[1;32m----> 1\u001b[0m predictions \u001b[38;5;241m=\u001b[39m \u001b[38;5;28mlist\u001b[39m(\u001b[43mmodel\u001b[49m\u001b[38;5;241m.\u001b[39mpredict(input_fn\u001b[38;5;241m=\u001b[39m\u001b[38;5;28;01mlambda\u001b[39;00m:eval_input_fn(X_train, y_train, batch_size\u001b[38;5;241m=\u001b[39mbatch_size)))\n",
            "\u001b[1;31mNameError\u001b[0m: name 'model' is not defined"
          ]
        }
      ],
      "source": [
        "predictions = list(model.predict(input_fn=lambda:eval_input_fn(X_train, y_train, batch_size=batch_size)))"
      ]
    },
    {
      "cell_type": "code",
      "execution_count": 54,
      "metadata": {
        "colab": {
          "base_uri": "https://localhost:8080/",
          "height": 204
        },
        "id": "-v8sJZumqXhr",
        "outputId": "5ed19e71-baf8-41ef-bfe9-8920030f9f4a"
      },
      "outputs": [
        {
          "ename": "NameError",
          "evalue": "name 'predictions' is not defined",
          "output_type": "error",
          "traceback": [
            "\u001b[1;31m---------------------------------------------------------------------------\u001b[0m",
            "\u001b[1;31mNameError\u001b[0m                                 Traceback (most recent call last)",
            "Cell \u001b[1;32mIn[54], line 10\u001b[0m\n\u001b[0;32m      6\u001b[0m col2 \u001b[38;5;241m=\u001b[39m []\n\u001b[0;32m      7\u001b[0m col3 \u001b[38;5;241m=\u001b[39m []\n\u001b[1;32m---> 10\u001b[0m \u001b[38;5;28;01mfor\u001b[39;00m idx, \u001b[38;5;28minput\u001b[39m, p \u001b[38;5;129;01min\u001b[39;00m \u001b[38;5;28mzip\u001b[39m(X_train\u001b[38;5;241m.\u001b[39mindex, y_train, \u001b[43mpredictions\u001b[49m):\n\u001b[0;32m     11\u001b[0m     v  \u001b[38;5;241m=\u001b[39m p[\u001b[38;5;124m\"\u001b[39m\u001b[38;5;124mclass_ids\u001b[39m\u001b[38;5;124m\"\u001b[39m][\u001b[38;5;241m0\u001b[39m] \n\u001b[0;32m     12\u001b[0m     class_id \u001b[38;5;241m=\u001b[39m p[\u001b[38;5;124m'\u001b[39m\u001b[38;5;124mclass_ids\u001b[39m\u001b[38;5;124m'\u001b[39m][\u001b[38;5;241m0\u001b[39m]\n",
            "\u001b[1;31mNameError\u001b[0m: name 'predictions' is not defined"
          ]
        }
      ],
      "source": [
        "# Generate predictions from the model\n",
        "template = ('\\nIndex: \"{}\", Prediction is \"{}\" ({:.1f}%), expected \"{}\"')\n",
        "\n",
        "# Dictionary for predictions\n",
        "col1 = []\n",
        "col2 = []\n",
        "col3 = []\n",
        "\n",
        "\n",
        "for idx, input, p in zip(X_train.index, y_train, predictions):\n",
        "    v  = p[\"class_ids\"][0] \n",
        "    class_id = p['class_ids'][0]\n",
        "    probability = p['probabilities'][class_id] # Probability\n",
        "    \n",
        "    # Adding to dataframe\n",
        "    col1.append(idx) # Index\n",
        "    col2.append(v) # Prediction\n",
        "    col3.append(input) # Expecter\n",
        "    \n",
        "   \n",
        "    #print(template.format(idx, v, 100 * probability, input))\n",
        "\n",
        "\n",
        "results = pd.DataFrame({'index':col1, 'prediction':col2, 'expected':col3})\n",
        "results.head()"
      ]
    },
    {
      "cell_type": "markdown",
      "metadata": {
        "id": "jhxYxHNBqdxr"
      },
      "source": [
        "#Success method plot"
      ]
    },
    {
      "cell_type": "code",
      "execution_count": null,
      "metadata": {
        "id": "AMSTgbylqbqB"
      },
      "outputs": [],
      "source": [
        "def plotSuccess():\n",
        "    s = pd.Series(methodDict)\n",
        "    s = s.sort_values(ascending=False)\n",
        "    plt.figure(figsize=(12,8))\n",
        "    #Colors\n",
        "    ax = s.plot(kind='bar') \n",
        "    for p in ax.patches:\n",
        "        ax.annotate(str(round(p.get_height(),2)), (p.get_x() * 1.005, p.get_height() * 1.005))\n",
        "    plt.ylim([70.0, 90.0])\n",
        "    plt.xlabel('Method')\n",
        "    plt.ylabel('Percentage')\n",
        "    plt.title('Success of methods')\n",
        "     \n",
        "    plt.show()"
      ]
    },
    {
      "cell_type": "code",
      "execution_count": null,
      "metadata": {
        "colab": {
          "base_uri": "https://localhost:8080/",
          "height": 672
        },
        "id": "HQr49POJqjaB",
        "outputId": "c5c9d0a5-3d58-48ca-8d6e-db6ae5ca9f1f"
      },
      "outputs": [],
      "source": [
        "plotSuccess()"
      ]
    },
    {
      "cell_type": "markdown",
      "metadata": {
        "id": "5DTiO76bqpC5"
      },
      "source": [
        "#Creating predictions on test set"
      ]
    },
    {
      "cell_type": "code",
      "execution_count": null,
      "metadata": {
        "colab": {
          "base_uri": "https://localhost:8080/",
          "height": 204
        },
        "id": "99yFgld3qlJo",
        "outputId": "4d48f643-a5fc-4542-d4c0-5005846549a6"
      },
      "outputs": [],
      "source": [
        "# Generate predictions with the best method\n",
        "clf = AdaBoostClassifier()\n",
        "clf.fit(X, y)\n",
        "dfTestPredictions = clf.predict(X_test)\n",
        "\n",
        "# Write predictions to csv file\n",
        "# We don't have any significative field so we save the index\n",
        "results = pd.DataFrame({'Index': X_test.index, 'Treatment': dfTestPredictions})\n",
        "# Save to file\n",
        "# This file will be visible after publishing in the output section\n",
        "results.to_csv('results.csv', index=False)\n",
        "results.head()"
      ]
    },
    {
      "cell_type": "markdown",
      "metadata": {
        "id": "2JrYnXrxqxmg"
      },
      "source": [
        "#Submission"
      ]
    },
    {
      "cell_type": "code",
      "execution_count": null,
      "metadata": {
        "colab": {
          "base_uri": "https://localhost:8080/",
          "height": 419
        },
        "id": "D6z7BzsVqsBh",
        "outputId": "d59058fd-4159-446f-b106-ef903e024080"
      },
      "outputs": [],
      "source": [
        "# We don't have any significative field so we save the index\n",
        "results = pd.DataFrame({'Index': X_test.index, 'Treatment': dfTestPredictions})\n",
        "results"
      ]
    },
    {
      "cell_type": "code",
      "execution_count": null,
      "metadata": {
        "id": "Mz6iIoxiq5Dq"
      },
      "outputs": [],
      "source": []
    }
  ],
  "metadata": {
    "colab": {
      "collapsed_sections": [],
      "include_colab_link": true,
      "name": "TIP_Project.ipynb",
      "provenance": []
    },
    "kernelspec": {
      "display_name": "Python 3",
      "name": "python3"
    },
    "language_info": {
      "codemirror_mode": {
        "name": "ipython",
        "version": 3
      },
      "file_extension": ".py",
      "mimetype": "text/x-python",
      "name": "python",
      "nbconvert_exporter": "python",
      "pygments_lexer": "ipython3",
      "version": "3.12.9"
    }
  },
  "nbformat": 4,
  "nbformat_minor": 0
}
